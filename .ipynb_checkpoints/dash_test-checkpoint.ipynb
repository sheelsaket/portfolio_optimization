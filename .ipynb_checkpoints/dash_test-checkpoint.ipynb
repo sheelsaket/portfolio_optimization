{
 "cells": [
  {
   "cell_type": "code",
   "execution_count": null,
   "id": "4d000cd2-e7f7-4eca-b034-ec97d2dd7ac9",
   "metadata": {},
   "outputs": [],
   "source": [
    "# Import required libraries\n",
    "import pickle\n",
    "import copy\n",
    "import pathlib\n",
    "import dash\n",
    "import math\n",
    "# import pytorch \n",
    "import datetime as dt\n",
    "import pandas as pd\n",
    "from dash.dependencies import Input, Output, State#, ClientsideFunction\n",
    "import dash_core_components as dcc\n",
    "import dash_html_components as html"
   ]
  },
  {
   "cell_type": "code",
   "execution_count": null,
   "id": "b36cc218",
   "metadata": {},
   "outputs": [],
   "source": [
    "# virtualenv venv            \n",
    "# source venv/bin/activate"
   ]
  },
  {
   "cell_type": "code",
   "execution_count": 9,
   "id": "db996023-cb20-49d3-94e3-7a256b90d97f",
   "metadata": {},
   "outputs": [
    {
     "name": "stdout",
     "output_type": "stream",
     "text": [
      "dash==0.29.0\n",
      "dash-core-components==0.39.0\n",
      "dash-html-components==0.13.2\n",
      "dash-renderer==1.8.1\n",
      "dash-table==3.1.7\n",
      "jupyter-dash==0.4.0\n"
     ]
    }
   ],
   "source": [
    "x = !pip freeze\n",
    "for i in x:\n",
    "    if 'dash' in i:\n",
    "        print(i)"
   ]
  },
  {
   "cell_type": "code",
   "execution_count": 1,
   "id": "566fe942-d7c6-4f68-87f3-12ece2e5182c",
   "metadata": {},
   "outputs": [
    {
     "name": "stdout",
     "output_type": "stream",
     "text": [
      " * Serving Flask app \"__main__\" (lazy loading)\n",
      " * Environment: production\n",
      "\u001b[31m   WARNING: This is a development server. Do not use it in a production deployment.\u001b[0m\n",
      "\u001b[2m   Use a production WSGI server instead.\u001b[0m\n",
      " * Debug mode: off\n",
      " * Running on http://127.0.0.1:8050/ (Press CTRL+C to quit)\n",
      "127.0.0.1 - - [15/Aug/2021 02:14:04] \"\u001b[37mGET / HTTP/1.1\u001b[0m\" 200 -\n",
      "127.0.0.1 - - [15/Aug/2021 02:14:04] \"\u001b[37mGET /prod HTTP/1.1\u001b[0m\" 200 -\n",
      "127.0.0.1 - - [15/Aug/2021 02:14:04] \"\u001b[37mGET /dev HTTP/1.1\u001b[0m\" 200 -\n",
      "[2021-08-15 02:14:04,319] ERROR in app: Exception on /_dash-component-suites/dash_renderer/dash_renderer.min.js.map [GET]\n",
      "Traceback (most recent call last):\n",
      "  File \"/Users/sheelsaket/opt/anaconda3/lib/python3.8/site-packages/flask/app.py\", line 2447, in wsgi_app\n",
      "    response = self.full_dispatch_request()\n",
      "  File \"/Users/sheelsaket/opt/anaconda3/lib/python3.8/site-packages/flask/app.py\", line 1952, in full_dispatch_request\n",
      "    rv = self.handle_user_exception(e)\n",
      "  File \"/Users/sheelsaket/opt/anaconda3/lib/python3.8/site-packages/flask/app.py\", line 1821, in handle_user_exception\n",
      "    reraise(exc_type, exc_value, tb)\n",
      "  File \"/Users/sheelsaket/opt/anaconda3/lib/python3.8/site-packages/flask/_compat.py\", line 39, in reraise\n",
      "    raise value\n",
      "  File \"/Users/sheelsaket/opt/anaconda3/lib/python3.8/site-packages/flask/app.py\", line 1950, in full_dispatch_request\n",
      "    rv = self.dispatch_request()\n",
      "  File \"/Users/sheelsaket/opt/anaconda3/lib/python3.8/site-packages/flask/app.py\", line 1936, in dispatch_request\n",
      "    return self.view_functions[rule.endpoint](**req.view_args)\n",
      "  File \"/Users/sheelsaket/opt/anaconda3/lib/python3.8/site-packages/dash/dash.py\", line 446, in serve_component_suites\n",
      "    mimetype = ({\n",
      "KeyError: 'map'\n",
      "127.0.0.1 - - [15/Aug/2021 02:14:04] \"\u001b[35m\u001b[1mGET /_dash-component-suites/dash_renderer/dash_renderer.min.js.map?v=1.9.1&m=1629011424 HTTP/1.1\u001b[0m\" 500 -\n"
     ]
    }
   ],
   "source": [
    "import dash\n",
    "from dash.dependencies import Input, Output\n",
    "import dash_core_components as dcc\n",
    "import dash_html_components as html\n",
    "\n",
    "app = dash.Dash(__name__)\n",
    "\n",
    "all_options = {\n",
    "    'America': ['New York City', 'San Francisco', 'Cincinnati'],\n",
    "    'Canada': [u'Montréal', 'Toronto', 'Ottawa']\n",
    "}\n",
    "\n",
    "app.layout = html.Div([\n",
    "    dcc.Dropdown(\n",
    "        id='countries-dropdown',\n",
    "        options=[{'label': k, 'value': k} for k in all_options.keys()],\n",
    "        value='America',  #default value to show\n",
    "        multi=True,\n",
    "        searchable=False\n",
    "    ),\n",
    "\n",
    "    dcc.Dropdown(id='cities-dropdown', multi=True, searchable=False, placeholder=\"Select a city\"),\n",
    "\n",
    "    html.Div(id='display-selected-values')\n",
    "])\n",
    "\n",
    "@app.callback(\n",
    "    dash.dependencies.Output('cities-dropdown', 'options'),\n",
    "    [dash.dependencies.Input('countries-dropdown', 'value')])\n",
    "\n",
    "def set_cities_options(selected_country):\n",
    "    if type(selected_country) == 'str':\n",
    "        return [{'label': i, 'value': i} for i in all_options[selected_country]]\n",
    "    else:\n",
    "        return [{'label': i, 'value': i} for country in selected_country for i in all_options[country]]\n",
    "\n",
    "if __name__ == '__main__':\n",
    "    app.run_server(debug=False)"
   ]
  },
  {
   "cell_type": "code",
   "execution_count": 5,
   "id": "5ebddb1e",
   "metadata": {},
   "outputs": [
    {
     "ename": "ModuleNotFoundError",
     "evalue": "No module named 'dash'",
     "output_type": "error",
     "traceback": [
      "\u001b[0;31m---------------------------------------------------------------------------\u001b[0m",
      "\u001b[0;31mModuleNotFoundError\u001b[0m                       Traceback (most recent call last)",
      "\u001b[0;32m<ipython-input-5-1ede60b21917>\u001b[0m in \u001b[0;36m<module>\u001b[0;34m\u001b[0m\n\u001b[0;32m----> 1\u001b[0;31m \u001b[0;32mimport\u001b[0m \u001b[0mdash\u001b[0m\u001b[0;34m\u001b[0m\u001b[0;34m\u001b[0m\u001b[0m\n\u001b[0m\u001b[1;32m      2\u001b[0m \u001b[0;32mimport\u001b[0m \u001b[0mdash_html_components\u001b[0m \u001b[0;32mas\u001b[0m \u001b[0mhtml\u001b[0m\u001b[0;34m\u001b[0m\u001b[0;34m\u001b[0m\u001b[0m\n\u001b[1;32m      3\u001b[0m \u001b[0;34m\u001b[0m\u001b[0m\n\u001b[1;32m      4\u001b[0m \u001b[0mapp\u001b[0m \u001b[0;34m=\u001b[0m \u001b[0mdash\u001b[0m\u001b[0;34m.\u001b[0m\u001b[0mDash\u001b[0m\u001b[0;34m(\u001b[0m\u001b[0m__name__\u001b[0m\u001b[0;34m,\u001b[0m \u001b[0meager_loading\u001b[0m\u001b[0;34m=\u001b[0m\u001b[0;32mTrue\u001b[0m\u001b[0;34m)\u001b[0m\u001b[0;34m\u001b[0m\u001b[0;34m\u001b[0m\u001b[0m\n\u001b[1;32m      5\u001b[0m \u001b[0;34m\u001b[0m\u001b[0m\n",
      "\u001b[0;31mModuleNotFoundError\u001b[0m: No module named 'dash'"
     ]
    }
   ],
   "source": [
    "import dash\n",
    "import dash_html_components as html\n",
    "\n",
    "app = dash.Dash(__name__, eager_loading=True)\n",
    "\n",
    "app.title = \"Some Test\"\n",
    "app.layout = html.Div([html.H6(\"Hello World\")])\n",
    "\n",
    "if __name__ == '__main__':\n",
    "    app.run_server(port=8051, debug=False) # unimportant in this context"
   ]
  },
  {
   "cell_type": "code",
   "execution_count": 2,
   "id": "8bc9ade3",
   "metadata": {},
   "outputs": [
    {
     "name": "stdout",
     "output_type": "stream",
     "text": [
      "Found existing installation: dash-renderer 1.9.1\n",
      "Uninstalling dash-renderer-1.9.1:\n",
      "  Would remove:\n",
      "    /Users/sheelsaket/opt/anaconda3/lib/python3.8/site-packages/dash_renderer-1.9.1.dist-info/*\n",
      "    /Users/sheelsaket/opt/anaconda3/lib/python3.8/site-packages/dash_renderer/*\n",
      "  Would not remove (might be manually added):\n",
      "    /Users/sheelsaket/opt/anaconda3/lib/python3.8/site-packages/dash_renderer/dash_renderer.min.js.map\n",
      "Proceed (y/n)? "
     ]
    }
   ],
   "source": [
    "!pip uninstall dash-renderer"
   ]
  },
  {
   "cell_type": "code",
   "execution_count": 1,
   "id": "e7cb895c",
   "metadata": {},
   "outputs": [
    {
     "name": "stdout",
     "output_type": "stream",
     "text": [
      "Collecting dash==0.31.1\n",
      "  Downloading dash-0.31.1.tar.gz (32 kB)\n",
      "Requirement already satisfied: Flask>=0.12 in /Users/sheelsaket/opt/anaconda3/lib/python3.8/site-packages (from dash==0.31.1) (1.1.2)\n",
      "Requirement already satisfied: flask-compress in /Users/sheelsaket/opt/anaconda3/lib/python3.8/site-packages (from dash==0.31.1) (1.10.1)\n",
      "Requirement already satisfied: plotly in /Users/sheelsaket/opt/anaconda3/lib/python3.8/site-packages (from dash==0.31.1) (5.2.1)\n",
      "Requirement already satisfied: dash_renderer in /Users/sheelsaket/opt/anaconda3/lib/python3.8/site-packages (from dash==0.31.1) (1.9.1)\n",
      "Requirement already satisfied: click>=5.1 in /Users/sheelsaket/opt/anaconda3/lib/python3.8/site-packages (from Flask>=0.12->dash==0.31.1) (7.1.2)\n",
      "Requirement already satisfied: Werkzeug>=0.15 in /Users/sheelsaket/opt/anaconda3/lib/python3.8/site-packages (from Flask>=0.12->dash==0.31.1) (1.0.1)\n",
      "Requirement already satisfied: itsdangerous>=0.24 in /Users/sheelsaket/opt/anaconda3/lib/python3.8/site-packages (from Flask>=0.12->dash==0.31.1) (1.1.0)\n",
      "Requirement already satisfied: Jinja2>=2.10.1 in /Users/sheelsaket/opt/anaconda3/lib/python3.8/site-packages (from Flask>=0.12->dash==0.31.1) (2.11.3)\n",
      "Requirement already satisfied: MarkupSafe>=0.23 in /Users/sheelsaket/opt/anaconda3/lib/python3.8/site-packages (from Jinja2>=2.10.1->Flask>=0.12->dash==0.31.1) (1.1.1)\n",
      "Requirement already satisfied: brotli in /Users/sheelsaket/opt/anaconda3/lib/python3.8/site-packages (from flask-compress->dash==0.31.1) (1.0.9)\n",
      "Requirement already satisfied: tenacity>=6.2.0 in /Users/sheelsaket/opt/anaconda3/lib/python3.8/site-packages (from plotly->dash==0.31.1) (8.0.1)\n",
      "Requirement already satisfied: six in /Users/sheelsaket/opt/anaconda3/lib/python3.8/site-packages (from plotly->dash==0.31.1) (1.15.0)\n",
      "Building wheels for collected packages: dash\n",
      "  Building wheel for dash (setup.py) ... \u001b[?25ldone\n",
      "\u001b[?25h  Created wheel for dash: filename=dash-0.31.1-py3-none-any.whl size=36082 sha256=c346f3d6632f0cbdfe1621779af7b6b0b4794856829a04391a33b51c79e2462b\n",
      "  Stored in directory: /Users/sheelsaket/Library/Caches/pip/wheels/07/24/dd/c5f030183fef1435c8c5a1e43e123bdb6205af66be7ecd83ee\n",
      "Successfully built dash\n",
      "Installing collected packages: dash\n",
      "  Attempting uninstall: dash\n",
      "    Found existing installation: dash 0.29.0\n",
      "    Uninstalling dash-0.29.0:\n",
      "\u001b[31mERROR: Could not install packages due to an OSError: [Errno 13] Permission denied: 'RECORD'\n",
      "Consider using the `--user` option or check the permissions.\n",
      "\u001b[0m\n",
      "Collecting dash-html-components==0.13.2\n",
      "  Downloading dash_html_components-0.13.2.tar.gz (236 kB)\n",
      "\u001b[K     |████████████████████████████████| 236 kB 2.2 MB/s \n",
      "\u001b[?25hRequirement already satisfied: dash in /Users/sheelsaket/opt/anaconda3/lib/python3.8/site-packages (from dash-html-components==0.13.2) (0.29.0)\n",
      "Requirement already satisfied: Flask>=0.12 in /Users/sheelsaket/opt/anaconda3/lib/python3.8/site-packages (from dash->dash-html-components==0.13.2) (1.1.2)\n",
      "Requirement already satisfied: flask-compress in /Users/sheelsaket/opt/anaconda3/lib/python3.8/site-packages (from dash->dash-html-components==0.13.2) (1.10.1)\n",
      "Requirement already satisfied: plotly in /Users/sheelsaket/opt/anaconda3/lib/python3.8/site-packages (from dash->dash-html-components==0.13.2) (5.2.1)\n",
      "Requirement already satisfied: dash-renderer in /Users/sheelsaket/opt/anaconda3/lib/python3.8/site-packages (from dash->dash-html-components==0.13.2) (1.9.1)\n",
      "Requirement already satisfied: click>=5.1 in /Users/sheelsaket/opt/anaconda3/lib/python3.8/site-packages (from Flask>=0.12->dash->dash-html-components==0.13.2) (7.1.2)\n",
      "Requirement already satisfied: itsdangerous>=0.24 in /Users/sheelsaket/opt/anaconda3/lib/python3.8/site-packages (from Flask>=0.12->dash->dash-html-components==0.13.2) (1.1.0)\n",
      "Requirement already satisfied: Werkzeug>=0.15 in /Users/sheelsaket/opt/anaconda3/lib/python3.8/site-packages (from Flask>=0.12->dash->dash-html-components==0.13.2) (1.0.1)\n",
      "Requirement already satisfied: Jinja2>=2.10.1 in /Users/sheelsaket/opt/anaconda3/lib/python3.8/site-packages (from Flask>=0.12->dash->dash-html-components==0.13.2) (2.11.3)\n",
      "Requirement already satisfied: MarkupSafe>=0.23 in /Users/sheelsaket/opt/anaconda3/lib/python3.8/site-packages (from Jinja2>=2.10.1->Flask>=0.12->dash->dash-html-components==0.13.2) (1.1.1)\n",
      "Requirement already satisfied: brotli in /Users/sheelsaket/opt/anaconda3/lib/python3.8/site-packages (from flask-compress->dash->dash-html-components==0.13.2) (1.0.9)\n",
      "Requirement already satisfied: six in /Users/sheelsaket/opt/anaconda3/lib/python3.8/site-packages (from plotly->dash->dash-html-components==0.13.2) (1.15.0)\n",
      "Requirement already satisfied: tenacity>=6.2.0 in /Users/sheelsaket/opt/anaconda3/lib/python3.8/site-packages (from plotly->dash->dash-html-components==0.13.2) (8.0.1)\n",
      "Building wheels for collected packages: dash-html-components\n",
      "  Building wheel for dash-html-components (setup.py) ... \u001b[?25ldone\n",
      "\u001b[?25h  Created wheel for dash-html-components: filename=dash_html_components-0.13.2-py3-none-any.whl size=471436 sha256=60a94e89dd0d6c946978b2bada89d8e1d362c9136405d0b37b780f73be69f6c8\n",
      "  Stored in directory: /Users/sheelsaket/Library/Caches/pip/wheels/3e/6f/77/1ae69e4dafd61fb1fe7774f8cb790e2755e09aff789f68122d\n",
      "Successfully built dash-html-components\n",
      "Installing collected packages: dash-html-components\n",
      "  Attempting uninstall: dash-html-components\n",
      "    Found existing installation: dash-html-components 1.1.4\n",
      "    Uninstalling dash-html-components-1.1.4:\n",
      "      Successfully uninstalled dash-html-components-1.1.4\n",
      "Successfully installed dash-html-components-0.13.2\n",
      "Collecting dash-core-components==0.39.0\n",
      "  Downloading dash_core_components-0.39.0.tar.gz (3.9 MB)\n",
      "\u001b[K     |████████████████████████████████| 3.9 MB 2.2 MB/s \n",
      "\u001b[?25hRequirement already satisfied: dash in /Users/sheelsaket/opt/anaconda3/lib/python3.8/site-packages (from dash-core-components==0.39.0) (0.29.0)\n",
      "Requirement already satisfied: dash-renderer in /Users/sheelsaket/opt/anaconda3/lib/python3.8/site-packages (from dash->dash-core-components==0.39.0) (1.9.1)\n",
      "Requirement already satisfied: plotly in /Users/sheelsaket/opt/anaconda3/lib/python3.8/site-packages (from dash->dash-core-components==0.39.0) (5.2.1)\n",
      "Requirement already satisfied: flask-compress in /Users/sheelsaket/opt/anaconda3/lib/python3.8/site-packages (from dash->dash-core-components==0.39.0) (1.10.1)\n",
      "Requirement already satisfied: Flask>=0.12 in /Users/sheelsaket/opt/anaconda3/lib/python3.8/site-packages (from dash->dash-core-components==0.39.0) (1.1.2)\n",
      "Requirement already satisfied: itsdangerous>=0.24 in /Users/sheelsaket/opt/anaconda3/lib/python3.8/site-packages (from Flask>=0.12->dash->dash-core-components==0.39.0) (1.1.0)\n",
      "Requirement already satisfied: Jinja2>=2.10.1 in /Users/sheelsaket/opt/anaconda3/lib/python3.8/site-packages (from Flask>=0.12->dash->dash-core-components==0.39.0) (2.11.3)\n",
      "Requirement already satisfied: Werkzeug>=0.15 in /Users/sheelsaket/opt/anaconda3/lib/python3.8/site-packages (from Flask>=0.12->dash->dash-core-components==0.39.0) (1.0.1)\n",
      "Requirement already satisfied: click>=5.1 in /Users/sheelsaket/opt/anaconda3/lib/python3.8/site-packages (from Flask>=0.12->dash->dash-core-components==0.39.0) (7.1.2)\n",
      "Requirement already satisfied: MarkupSafe>=0.23 in /Users/sheelsaket/opt/anaconda3/lib/python3.8/site-packages (from Jinja2>=2.10.1->Flask>=0.12->dash->dash-core-components==0.39.0) (1.1.1)\n",
      "Requirement already satisfied: brotli in /Users/sheelsaket/opt/anaconda3/lib/python3.8/site-packages (from flask-compress->dash->dash-core-components==0.39.0) (1.0.9)\n",
      "Requirement already satisfied: six in /Users/sheelsaket/opt/anaconda3/lib/python3.8/site-packages (from plotly->dash->dash-core-components==0.39.0) (1.15.0)\n",
      "Requirement already satisfied: tenacity>=6.2.0 in /Users/sheelsaket/opt/anaconda3/lib/python3.8/site-packages (from plotly->dash->dash-core-components==0.39.0) (8.0.1)\n",
      "Building wheels for collected packages: dash-core-components\n",
      "  Building wheel for dash-core-components (setup.py) ... \u001b[?25ldone\n",
      "\u001b[?25h  Created wheel for dash-core-components: filename=dash_core_components-0.39.0-py3-none-any.whl size=3886517 sha256=6e8b2a1ecc82d23d9dbc88973e1fb2f7dd8d425ca173a38236d924e886730592\n",
      "  Stored in directory: /Users/sheelsaket/Library/Caches/pip/wheels/7e/c3/94/0eae29bb8af4652272f16bfb473dd016a0a9f3ac9f3fe1d2e6\n",
      "Successfully built dash-core-components\n",
      "Installing collected packages: dash-core-components\n",
      "  Attempting uninstall: dash-core-components\n",
      "    Found existing installation: dash-core-components 1.17.1\n",
      "    Uninstalling dash-core-components-1.17.1:\n",
      "      Successfully uninstalled dash-core-components-1.17.1\n",
      "Successfully installed dash-core-components-0.39.0\n",
      "Collecting dash-table==3.1.7\n",
      "  Downloading dash_table-3.1.7.tar.gz (80 kB)\n",
      "\u001b[K     |████████████████████████████████| 80 kB 1.7 MB/s \n",
      "\u001b[?25hRequirement already satisfied: dash in /Users/sheelsaket/opt/anaconda3/lib/python3.8/site-packages (from dash-table==3.1.7) (0.29.0)\n",
      "Requirement already satisfied: Flask>=0.12 in /Users/sheelsaket/opt/anaconda3/lib/python3.8/site-packages (from dash->dash-table==3.1.7) (1.1.2)\n",
      "Requirement already satisfied: plotly in /Users/sheelsaket/opt/anaconda3/lib/python3.8/site-packages (from dash->dash-table==3.1.7) (5.2.1)\n",
      "Requirement already satisfied: flask-compress in /Users/sheelsaket/opt/anaconda3/lib/python3.8/site-packages (from dash->dash-table==3.1.7) (1.10.1)\n",
      "Requirement already satisfied: dash-renderer in /Users/sheelsaket/opt/anaconda3/lib/python3.8/site-packages (from dash->dash-table==3.1.7) (1.9.1)\n",
      "Requirement already satisfied: Werkzeug>=0.15 in /Users/sheelsaket/opt/anaconda3/lib/python3.8/site-packages (from Flask>=0.12->dash->dash-table==3.1.7) (1.0.1)\n",
      "Requirement already satisfied: click>=5.1 in /Users/sheelsaket/opt/anaconda3/lib/python3.8/site-packages (from Flask>=0.12->dash->dash-table==3.1.7) (7.1.2)\n",
      "Requirement already satisfied: Jinja2>=2.10.1 in /Users/sheelsaket/opt/anaconda3/lib/python3.8/site-packages (from Flask>=0.12->dash->dash-table==3.1.7) (2.11.3)\n",
      "Requirement already satisfied: itsdangerous>=0.24 in /Users/sheelsaket/opt/anaconda3/lib/python3.8/site-packages (from Flask>=0.12->dash->dash-table==3.1.7) (1.1.0)\n",
      "Requirement already satisfied: MarkupSafe>=0.23 in /Users/sheelsaket/opt/anaconda3/lib/python3.8/site-packages (from Jinja2>=2.10.1->Flask>=0.12->dash->dash-table==3.1.7) (1.1.1)\n",
      "Requirement already satisfied: brotli in /Users/sheelsaket/opt/anaconda3/lib/python3.8/site-packages (from flask-compress->dash->dash-table==3.1.7) (1.0.9)\n",
      "Requirement already satisfied: tenacity>=6.2.0 in /Users/sheelsaket/opt/anaconda3/lib/python3.8/site-packages (from plotly->dash->dash-table==3.1.7) (8.0.1)\n",
      "Requirement already satisfied: six in /Users/sheelsaket/opt/anaconda3/lib/python3.8/site-packages (from plotly->dash->dash-table==3.1.7) (1.15.0)\n",
      "Building wheels for collected packages: dash-table\n",
      "  Building wheel for dash-table (setup.py) ... \u001b[?25ldone\n",
      "\u001b[?25h  Created wheel for dash-table: filename=dash_table-3.1.7-py3-none-any.whl size=80968 sha256=96615f1588d4fbf19e3f5ee21045b32ba6bd7a8f7b87e2e30cedfb14199dff8d\n",
      "  Stored in directory: /Users/sheelsaket/Library/Caches/pip/wheels/67/79/b6/8a7eddbd2c416ba6698bcd8fe57180dfdb0bcd8cec7bd95e57\n",
      "Successfully built dash-table\n",
      "Installing collected packages: dash-table\n",
      "  Attempting uninstall: dash-table\n",
      "    Found existing installation: dash-table 4.12.0\n",
      "    Uninstalling dash-table-4.12.0:\n",
      "      Successfully uninstalled dash-table-4.12.0\n",
      "Successfully installed dash-table-3.1.7\n"
     ]
    }
   ],
   "source": [
    "!pip install dash==0.31.1  # The core dash backend\n",
    "!pip install dash-html-components==0.13.2  # HTML components\n",
    "!pip install dash-core-components==0.39.0  # Supercharged components\n",
    "!pip install dash-table==3.1.7"
   ]
  },
  {
   "cell_type": "code",
   "execution_count": 2,
   "id": "41ebcd43",
   "metadata": {},
   "outputs": [
    {
     "name": "stdout",
     "output_type": "stream",
     "text": [
      "Collecting dash-renderer==1.8.1\n",
      "  Using cached dash_renderer-1.8.1-py3-none-any.whl\n",
      "Installing collected packages: dash-renderer\n",
      "  Attempting uninstall: dash-renderer\n",
      "    Found existing installation: dash-renderer 1.9.1\n",
      "    Uninstalling dash-renderer-1.9.1:\n",
      "\u001b[31mERROR: Could not install packages due to an OSError: [Errno 13] Permission denied: 'RECORD'\n",
      "Consider using the `--user` option or check the permissions.\n",
      "\u001b[0m\n"
     ]
    }
   ],
   "source": [
    "!pip install dash-renderer==1.8.1"
   ]
  },
  {
   "cell_type": "code",
   "execution_count": null,
   "id": "0b79cde4",
   "metadata": {},
   "outputs": [
    {
     "name": "stdout",
     "output_type": "stream",
     "text": [
      "Password:"
     ]
    }
   ],
   "source": [
    "!sudo pip install dash-renderer==1.9.1"
   ]
  },
  {
   "cell_type": "code",
   "execution_count": null,
   "id": "d02e44ea",
   "metadata": {},
   "outputs": [],
   "source": []
  }
 ],
 "metadata": {
  "kernelspec": {
   "display_name": "Python 3",
   "language": "python",
   "name": "python3"
  },
  "language_info": {
   "codemirror_mode": {
    "name": "ipython",
    "version": 3
   },
   "file_extension": ".py",
   "mimetype": "text/x-python",
   "name": "python",
   "nbconvert_exporter": "python",
   "pygments_lexer": "ipython3",
   "version": "3.6.13"
  }
 },
 "nbformat": 4,
 "nbformat_minor": 5
}
