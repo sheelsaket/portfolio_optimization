{
 "cells": [
  {
   "cell_type": "code",
   "execution_count": 1,
   "id": "3b04ecb9",
   "metadata": {},
   "outputs": [],
   "source": [
    "# pip install PyPortfolioOpt\n",
    "# pip install cvxpy\n",
    "# pip install cvxopt"
   ]
  },
  {
   "cell_type": "code",
   "execution_count": 1,
   "id": "30d99402",
   "metadata": {},
   "outputs": [],
   "source": [
    "#Import the python libraries\n",
    "from pandas_datareader import data as web\n",
    "import pandas as pd\n",
    "import numpy as np\n",
    "from datetime import datetime\n",
    "import matplotlib.pyplot as plt\n",
    "plt.style.use('fivethirtyeight')"
   ]
  },
  {
   "cell_type": "code",
   "execution_count": 48,
   "id": "ed76e4ef",
   "metadata": {},
   "outputs": [],
   "source": [
    "#Get the stock tickers in the portfolio \n",
    "assets = ['AMD','NFLX','AAPL','GOOG', 'SPY']"
   ]
  },
  {
   "cell_type": "code",
   "execution_count": 49,
   "id": "2bcf7797",
   "metadata": {},
   "outputs": [],
   "source": [
    "#Assign weights to the stocks. \n",
    "weights = np.array([0.25]*len(assets))"
   ]
  },
  {
   "cell_type": "code",
   "execution_count": 50,
   "id": "fb5deaca",
   "metadata": {},
   "outputs": [],
   "source": [
    "# Get the stock/ portfolio starting date\n",
    "stockStartDate = '2015-01-01'"
   ]
  },
  {
   "cell_type": "code",
   "execution_count": 51,
   "id": "9fa309f2",
   "metadata": {},
   "outputs": [
    {
     "data": {
      "text/plain": [
       "'2021-08-15'"
      ]
     },
     "execution_count": 51,
     "metadata": {},
     "output_type": "execute_result"
    }
   ],
   "source": [
    "today = datetime.today().strftime('%Y-%m-%d')\n",
    "today"
   ]
  },
  {
   "cell_type": "code",
   "execution_count": 52,
   "id": "37a6c6e9",
   "metadata": {},
   "outputs": [],
   "source": [
    "# Create a dataframe to store the adjusted close price of the stocks\n",
    "df = pd.DataFrame()\n",
    "\n",
    "# Store the adjusted close price of the sock into the df\n",
    "for stock in assets:\n",
    "  df[stock] = web.DataReader(stock,data_source='yahoo',start=stockStartDate,end=today)['Adj Close']"
   ]
  },
  {
   "cell_type": "code",
   "execution_count": 53,
   "id": "0dd7751e",
   "metadata": {},
   "outputs": [
    {
     "data": {
      "text/html": [
       "<div>\n",
       "<style scoped>\n",
       "    .dataframe tbody tr th:only-of-type {\n",
       "        vertical-align: middle;\n",
       "    }\n",
       "\n",
       "    .dataframe tbody tr th {\n",
       "        vertical-align: top;\n",
       "    }\n",
       "\n",
       "    .dataframe thead th {\n",
       "        text-align: right;\n",
       "    }\n",
       "</style>\n",
       "<table border=\"1\" class=\"dataframe\">\n",
       "  <thead>\n",
       "    <tr style=\"text-align: right;\">\n",
       "      <th></th>\n",
       "      <th>AMD</th>\n",
       "      <th>NFLX</th>\n",
       "      <th>AAPL</th>\n",
       "      <th>GOOG</th>\n",
       "      <th>SPY</th>\n",
       "    </tr>\n",
       "    <tr>\n",
       "      <th>Date</th>\n",
       "      <th></th>\n",
       "      <th></th>\n",
       "      <th></th>\n",
       "      <th></th>\n",
       "      <th></th>\n",
       "    </tr>\n",
       "  </thead>\n",
       "  <tbody>\n",
       "    <tr>\n",
       "      <th>2015-01-02</th>\n",
       "      <td>2.67</td>\n",
       "      <td>49.848572</td>\n",
       "      <td>24.782110</td>\n",
       "      <td>523.373108</td>\n",
       "      <td>181.556000</td>\n",
       "    </tr>\n",
       "    <tr>\n",
       "      <th>2015-01-05</th>\n",
       "      <td>2.66</td>\n",
       "      <td>47.311428</td>\n",
       "      <td>24.083958</td>\n",
       "      <td>512.463013</td>\n",
       "      <td>178.277176</td>\n",
       "    </tr>\n",
       "    <tr>\n",
       "      <th>2015-01-06</th>\n",
       "      <td>2.63</td>\n",
       "      <td>46.501431</td>\n",
       "      <td>24.086227</td>\n",
       "      <td>500.585632</td>\n",
       "      <td>176.598022</td>\n",
       "    </tr>\n",
       "    <tr>\n",
       "      <th>2015-01-07</th>\n",
       "      <td>2.58</td>\n",
       "      <td>46.742859</td>\n",
       "      <td>24.423975</td>\n",
       "      <td>499.727997</td>\n",
       "      <td>178.798615</td>\n",
       "    </tr>\n",
       "    <tr>\n",
       "      <th>2015-01-08</th>\n",
       "      <td>2.61</td>\n",
       "      <td>47.779999</td>\n",
       "      <td>25.362394</td>\n",
       "      <td>501.303680</td>\n",
       "      <td>181.971420</td>\n",
       "    </tr>\n",
       "  </tbody>\n",
       "</table>\n",
       "</div>"
      ],
      "text/plain": [
       "             AMD       NFLX       AAPL        GOOG         SPY\n",
       "Date                                                          \n",
       "2015-01-02  2.67  49.848572  24.782110  523.373108  181.556000\n",
       "2015-01-05  2.66  47.311428  24.083958  512.463013  178.277176\n",
       "2015-01-06  2.63  46.501431  24.086227  500.585632  176.598022\n",
       "2015-01-07  2.58  46.742859  24.423975  499.727997  178.798615\n",
       "2015-01-08  2.61  47.779999  25.362394  501.303680  181.971420"
      ]
     },
     "execution_count": 53,
     "metadata": {},
     "output_type": "execute_result"
    }
   ],
   "source": [
    "df.head()"
   ]
  },
  {
   "cell_type": "code",
   "execution_count": 54,
   "id": "82f57df2",
   "metadata": {},
   "outputs": [
    {
     "data": {
      "image/png": "[encoded data removed]",
      "text/plain": [
       "<Figure size 432x288 with 1 Axes>"
      ]
     },
     "metadata": {},
     "output_type": "display_data"
    }
   ],
   "source": [
    "# Visually show the stock/ portfolio\n",
    "title = 'Portfolio Adj. Close Price History'\n",
    "\n",
    "# Get the stocks\n",
    "my_stocks = df\n",
    "\n",
    "# Create and plot the graph\n",
    "for c in my_stocks.columns.values:\n",
    "    plt.plot(my_stocks[c],label=c)\n",
    "\n",
    "plt.title(title)\n",
    "plt.xlabel('Date',fontsize=18)\n",
    "plt.ylabel('Adj. Price USD ($)',fontsize=18)\n",
    "plt.legend(my_stocks.columns.values,loc='upper left')\n",
    "plt.show()"
   ]
  },
  {
   "cell_type": "code",
   "execution_count": 55,
   "id": "c8325e15",
   "metadata": {},
   "outputs": [
    {
     "data": {
      "text/html": [
       "<div>\n",
       "<style scoped>\n",
       "    .dataframe tbody tr th:only-of-type {\n",
       "        vertical-align: middle;\n",
       "    }\n",
       "\n",
       "    .dataframe tbody tr th {\n",
       "        vertical-align: top;\n",
       "    }\n",
       "\n",
       "    .dataframe thead th {\n",
       "        text-align: right;\n",
       "    }\n",
       "</style>\n",
       "<table border=\"1\" class=\"dataframe\">\n",
       "  <thead>\n",
       "    <tr style=\"text-align: right;\">\n",
       "      <th></th>\n",
       "      <th>AMD</th>\n",
       "      <th>NFLX</th>\n",
       "      <th>AAPL</th>\n",
       "      <th>GOOG</th>\n",
       "      <th>SPY</th>\n",
       "    </tr>\n",
       "    <tr>\n",
       "      <th>Date</th>\n",
       "      <th></th>\n",
       "      <th></th>\n",
       "      <th></th>\n",
       "      <th></th>\n",
       "      <th></th>\n",
       "    </tr>\n",
       "  </thead>\n",
       "  <tbody>\n",
       "    <tr>\n",
       "      <th>2015-01-02</th>\n",
       "      <td>NaN</td>\n",
       "      <td>NaN</td>\n",
       "      <td>NaN</td>\n",
       "      <td>NaN</td>\n",
       "      <td>NaN</td>\n",
       "    </tr>\n",
       "    <tr>\n",
       "      <th>2015-01-05</th>\n",
       "      <td>-0.003745</td>\n",
       "      <td>-0.050897</td>\n",
       "      <td>-0.028172</td>\n",
       "      <td>-0.020846</td>\n",
       "      <td>-0.018060</td>\n",
       "    </tr>\n",
       "    <tr>\n",
       "      <th>2015-01-06</th>\n",
       "      <td>-0.011278</td>\n",
       "      <td>-0.017121</td>\n",
       "      <td>0.000094</td>\n",
       "      <td>-0.023177</td>\n",
       "      <td>-0.009419</td>\n",
       "    </tr>\n",
       "    <tr>\n",
       "      <th>2015-01-07</th>\n",
       "      <td>-0.019011</td>\n",
       "      <td>0.005192</td>\n",
       "      <td>0.014022</td>\n",
       "      <td>-0.001713</td>\n",
       "      <td>0.012461</td>\n",
       "    </tr>\n",
       "    <tr>\n",
       "      <th>2015-01-08</th>\n",
       "      <td>0.011628</td>\n",
       "      <td>0.022188</td>\n",
       "      <td>0.038422</td>\n",
       "      <td>0.003153</td>\n",
       "      <td>0.017745</td>\n",
       "    </tr>\n",
       "    <tr>\n",
       "      <th>...</th>\n",
       "      <td>...</td>\n",
       "      <td>...</td>\n",
       "      <td>...</td>\n",
       "      <td>...</td>\n",
       "      <td>...</td>\n",
       "    </tr>\n",
       "    <tr>\n",
       "      <th>2021-08-09</th>\n",
       "      <td>-0.022977</td>\n",
       "      <td>-0.001114</td>\n",
       "      <td>-0.000342</td>\n",
       "      <td>0.007049</td>\n",
       "      <td>-0.000814</td>\n",
       "    </tr>\n",
       "    <tr>\n",
       "      <th>2021-08-10</th>\n",
       "      <td>-0.010225</td>\n",
       "      <td>-0.007943</td>\n",
       "      <td>-0.003354</td>\n",
       "      <td>0.000685</td>\n",
       "      <td>0.001244</td>\n",
       "    </tr>\n",
       "    <tr>\n",
       "      <th>2021-08-11</th>\n",
       "      <td>0.011270</td>\n",
       "      <td>-0.006669</td>\n",
       "      <td>0.001786</td>\n",
       "      <td>-0.002947</td>\n",
       "      <td>0.002485</td>\n",
       "    </tr>\n",
       "    <tr>\n",
       "      <th>2021-08-12</th>\n",
       "      <td>-0.010958</td>\n",
       "      <td>-0.003279</td>\n",
       "      <td>0.020773</td>\n",
       "      <td>0.005084</td>\n",
       "      <td>0.002997</td>\n",
       "    </tr>\n",
       "    <tr>\n",
       "      <th>2021-08-13</th>\n",
       "      <td>0.038028</td>\n",
       "      <td>0.010182</td>\n",
       "      <td>0.001410</td>\n",
       "      <td>0.000119</td>\n",
       "      <td>0.001820</td>\n",
       "    </tr>\n",
       "  </tbody>\n",
       "</table>\n",
       "<p>1666 rows × 5 columns</p>\n",
       "</div>"
      ],
      "text/plain": [
       "                 AMD      NFLX      AAPL      GOOG       SPY\n",
       "Date                                                        \n",
       "2015-01-02       NaN       NaN       NaN       NaN       NaN\n",
       "2015-01-05 -0.003745 -0.050897 -0.028172 -0.020846 -0.018060\n",
       "2015-01-06 -0.011278 -0.017121  0.000094 -0.023177 -0.009419\n",
       "2015-01-07 -0.019011  0.005192  0.014022 -0.001713  0.012461\n",
       "2015-01-08  0.011628  0.022188  0.038422  0.003153  0.017745\n",
       "...              ...       ...       ...       ...       ...\n",
       "2021-08-09 -0.022977 -0.001114 -0.000342  0.007049 -0.000814\n",
       "2021-08-10 -0.010225 -0.007943 -0.003354  0.000685  0.001244\n",
       "2021-08-11  0.011270 -0.006669  0.001786 -0.002947  0.002485\n",
       "2021-08-12 -0.010958 -0.003279  0.020773  0.005084  0.002997\n",
       "2021-08-13  0.038028  0.010182  0.001410  0.000119  0.001820\n",
       "\n",
       "[1666 rows x 5 columns]"
      ]
     },
     "execution_count": 55,
     "metadata": {},
     "output_type": "execute_result"
    }
   ],
   "source": [
    "# show the daily simple return\n",
    "returns = df.pct_change()\n",
    "returns"
   ]
  },
  {
   "cell_type": "code",
   "execution_count": 56,
   "id": "9543373d",
   "metadata": {},
   "outputs": [
    {
     "data": {
      "text/html": [
       "<div>\n",
       "<style scoped>\n",
       "    .dataframe tbody tr th:only-of-type {\n",
       "        vertical-align: middle;\n",
       "    }\n",
       "\n",
       "    .dataframe tbody tr th {\n",
       "        vertical-align: top;\n",
       "    }\n",
       "\n",
       "    .dataframe thead th {\n",
       "        text-align: right;\n",
       "    }\n",
       "</style>\n",
       "<table border=\"1\" class=\"dataframe\">\n",
       "  <thead>\n",
       "    <tr style=\"text-align: right;\">\n",
       "      <th></th>\n",
       "      <th>AMD</th>\n",
       "      <th>NFLX</th>\n",
       "      <th>AAPL</th>\n",
       "      <th>GOOG</th>\n",
       "      <th>SPY</th>\n",
       "    </tr>\n",
       "  </thead>\n",
       "  <tbody>\n",
       "    <tr>\n",
       "      <th>AMD</th>\n",
       "      <td>0.382595</td>\n",
       "      <td>0.076842</td>\n",
       "      <td>0.068106</td>\n",
       "      <td>0.051025</td>\n",
       "      <td>0.047513</td>\n",
       "    </tr>\n",
       "    <tr>\n",
       "      <th>NFLX</th>\n",
       "      <td>0.076842</td>\n",
       "      <td>0.174820</td>\n",
       "      <td>0.050890</td>\n",
       "      <td>0.053501</td>\n",
       "      <td>0.033881</td>\n",
       "    </tr>\n",
       "    <tr>\n",
       "      <th>AAPL</th>\n",
       "      <td>0.068106</td>\n",
       "      <td>0.050890</td>\n",
       "      <td>0.086000</td>\n",
       "      <td>0.047150</td>\n",
       "      <td>0.038630</td>\n",
       "    </tr>\n",
       "    <tr>\n",
       "      <th>GOOG</th>\n",
       "      <td>0.051025</td>\n",
       "      <td>0.053501</td>\n",
       "      <td>0.047150</td>\n",
       "      <td>0.071446</td>\n",
       "      <td>0.034697</td>\n",
       "    </tr>\n",
       "    <tr>\n",
       "      <th>SPY</th>\n",
       "      <td>0.047513</td>\n",
       "      <td>0.033881</td>\n",
       "      <td>0.038630</td>\n",
       "      <td>0.034697</td>\n",
       "      <td>0.032037</td>\n",
       "    </tr>\n",
       "  </tbody>\n",
       "</table>\n",
       "</div>"
      ],
      "text/plain": [
       "           AMD      NFLX      AAPL      GOOG       SPY\n",
       "AMD   0.382595  0.076842  0.068106  0.051025  0.047513\n",
       "NFLX  0.076842  0.174820  0.050890  0.053501  0.033881\n",
       "AAPL  0.068106  0.050890  0.086000  0.047150  0.038630\n",
       "GOOG  0.051025  0.053501  0.047150  0.071446  0.034697\n",
       "SPY   0.047513  0.033881  0.038630  0.034697  0.032037"
      ]
     },
     "execution_count": 56,
     "metadata": {},
     "output_type": "execute_result"
    }
   ],
   "source": [
    "# Create and show the annualized covariance matrix\n",
    "cov_matrix_annual = returns.cov()*252\n",
    "cov_matrix_annual"
   ]
  },
  {
   "cell_type": "code",
   "execution_count": 57,
   "id": "a66c0d83",
   "metadata": {},
   "outputs": [
    {
     "data": {
      "text/plain": [
       "0.10946060230181213"
      ]
     },
     "execution_count": 57,
     "metadata": {},
     "output_type": "execute_result"
    }
   ],
   "source": [
    "# Calculate the portfolio variance\n",
    "port_variance = np.dot(weights.T,np.dot(cov_matrix_annual,weights))\n",
    "port_variance"
   ]
  },
  {
   "cell_type": "code",
   "execution_count": 58,
   "id": "398b4238",
   "metadata": {},
   "outputs": [
    {
     "data": {
      "text/plain": [
       "0.33084830708621155"
      ]
     },
     "execution_count": 58,
     "metadata": {},
     "output_type": "execute_result"
    }
   ],
   "source": [
    "# Calculate the portfolio volatility aka standard deviation\n",
    "port_volatility = np.sqrt(port_variance)\n",
    "port_volatility"
   ]
  },
  {
   "cell_type": "code",
   "execution_count": 59,
   "id": "9f68c584",
   "metadata": {},
   "outputs": [
    {
     "data": {
      "text/plain": [
       "0.48613423793109756"
      ]
     },
     "execution_count": 59,
     "metadata": {},
     "output_type": "execute_result"
    }
   ],
   "source": [
    "# Calculate the annual portfolio return\n",
    "portfolio_simple_annual_return = np.sum(returns.mean()*weights)*252\n",
    "portfolio_simple_annual_return"
   ]
  },
  {
   "cell_type": "code",
   "execution_count": 60,
   "id": "71af1604",
   "metadata": {},
   "outputs": [
    {
     "name": "stdout",
     "output_type": "stream",
     "text": [
      "Expected annual return: 49.0%\n",
      "Annual volatility/ risk: 33.0%\n",
      "Annual variance: 11.0%\n"
     ]
    }
   ],
   "source": [
    "# Sow the expected annual return, volatility (risk), and variance\n",
    "percent_var = str(round(port_variance,2)*100)+'%'\n",
    "percent_vola = str(round(port_volatility,2)*100)+'%'\n",
    "percent_ret = str(round(portfolio_simple_annual_return,2)*100)+'%'\n",
    "\n",
    "print('Expected annual return: '+percent_ret)\n",
    "print('Annual volatility/ risk: '+percent_vola)\n",
    "print('Annual variance: '+percent_var)"
   ]
  },
  {
   "cell_type": "code",
   "execution_count": 61,
   "id": "4ee26d1d",
   "metadata": {},
   "outputs": [],
   "source": [
    "from pypfopt.efficient_frontier import EfficientFrontier\n",
    "from pypfopt import risk_models\n",
    "from pypfopt import expected_returns\n",
    "from pypfopt import plotting"
   ]
  },
  {
   "cell_type": "code",
   "execution_count": 69,
   "id": "e0789793",
   "metadata": {},
   "outputs": [
    {
     "name": "stdout",
     "output_type": "stream",
     "text": [
      "OrderedDict([('AMD', 0.42748), ('NFLX', 0.3112), ('AAPL', 0.55882), ('GOOG', 0.70249), ('SPY', -1.0)])\n",
      "Expected annual return: 68.6%\n",
      "Annual volatility: 43.5%\n",
      "Sharpe Ratio: 1.53\n"
     ]
    },
    {
     "data": {
      "text/plain": [
       "(0.6857286696461151, 0.434863663388239, 1.5308905427027222)"
      ]
     },
     "execution_count": 69,
     "metadata": {},
     "output_type": "execute_result"
    }
   ],
   "source": [
    "# Portfolio Optimization\n",
    "\n",
    "# Calculate the expected returns and the annualized sample covariance matrix of asset returns\n",
    "mu = expected_returns.mean_historical_return(df)\n",
    "S = risk_models.sample_cov(df)\n",
    "\n",
    "# Optimize for maximum sharpe ratio\n",
    "ef = EfficientFrontier(mu,S,weight_bounds=(None,None))\n",
    "ef.add_constraint(lambda w: sum(w) == 1)\n",
    "weights = ef.max_sharpe()\n",
    "cleaned_weights = ef.clean_weights() \n",
    "print(cleaned_weights)\n",
    "ef.portfolio_performance(verbose=True)"
   ]
  },
  {
   "cell_type": "code",
   "execution_count": 71,
   "id": "16011d20",
   "metadata": {},
   "outputs": [],
   "source": [
    "def remove_negative_cleaned_wts(cleaned_weights):\n",
    "    for key in cleaned_weights.keys():\n",
    "        if cleaned_weights[key]<0:\n",
    "            cleaned_weights[key] =0\n",
    "    return cleaned_weights\n",
    "\n",
    "cleaned_weights = remove_negative_cleaned_wts(cleaned_weights)"
   ]
  },
  {
   "cell_type": "code",
   "execution_count": 72,
   "id": "13c9db40",
   "metadata": {},
   "outputs": [
    {
     "name": "stdout",
     "output_type": "stream",
     "text": [
      "Discrete allocation:  {'AMD': 394, 'NFLX': 44, 'AAPL': 376, 'GOOG': 10}\n",
      "Funds remaining: $0.02\n"
     ]
    }
   ],
   "source": [
    "# Get the discrete allocation of each share per stock\n",
    "from pypfopt.discrete_allocation import DiscreteAllocation, get_latest_prices\n",
    "\n",
    "latest_prices = get_latest_prices(df)\n",
    "weights = cleaned_weights\n",
    "da = DiscreteAllocation(weights,latest_prices,total_portfolio_value = 150000)\n",
    "\n",
    "allocation,leftover = da.lp_portfolio()\n",
    "print('Discrete allocation: ',allocation)\n",
    "print('Funds remaining: ${:.2f}'.format(leftover))"
   ]
  },
  {
   "cell_type": "code",
   "execution_count": null,
   "id": "75ac18d9",
   "metadata": {},
   "outputs": [],
   "source": []
  }
 ],
 "metadata": {
  "kernelspec": {
   "display_name": "port_opt_dash",
   "language": "python",
   "name": "port_opt_dash"
  },
  "language_info": {
   "codemirror_mode": {
    "name": "ipython",
    "version": 3
   },
   "file_extension": ".py",
   "mimetype": "text/x-python",
   "name": "python",
   "nbconvert_exporter": "python",
   "pygments_lexer": "ipython3",
   "version": "3.6.13"
  }
 },
 "nbformat": 4,
 "nbformat_minor": 5
}
