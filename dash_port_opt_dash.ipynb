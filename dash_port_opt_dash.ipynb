{
 "cells": [
  {
   "cell_type": "markdown",
   "id": "bce40c4b",
   "metadata": {},
   "source": [
    "### Used this link for setting up the Jupyter Kernal and a venv\n",
    "##### https://towardsdatascience.com/link-your-virtual-environment-to-jupyter-with-kernels-a69bc61728df"
   ]
  },
  {
   "cell_type": "code",
   "execution_count": null,
   "id": "346c1861",
   "metadata": {},
   "outputs": [],
   "source": [
    "# to kill the process:\n",
    "# sudo lsof -i:8051\n",
    "# kill <PID>"
   ]
  },
  {
   "cell_type": "code",
   "execution_count": null,
   "id": "2d03179b",
   "metadata": {},
   "outputs": [],
   "source": [
    "import dash\n",
    "import dash_html_components as html\n",
    "\n",
    "app = dash.Dash(__name__, eager_loading=True)\n",
    "\n",
    "app.title = \"Some Test\"\n",
    "app.layout = html.Div([html.H6(\"Hello World\")])\n",
    "\n",
    "if __name__ == '__main__':\n",
    "    app.run_server(port=8051, debug=False) # unimportant in this context"
   ]
  },
  {
   "cell_type": "code",
   "execution_count": null,
   "id": "5bc610aa",
   "metadata": {},
   "outputs": [],
   "source": [
    "!sudo lsof -i:8051"
   ]
  },
  {
   "cell_type": "code",
   "execution_count": 6,
   "id": "6d525e26",
   "metadata": {},
   "outputs": [],
   "source": [
    "\n",
    "\n",
    "#Assign weights to the stocks. \n",
    "weights = np.array([0.25,0.25,0.25,0.25])"
   ]
  },
  {
   "cell_type": "code",
   "execution_count": 7,
   "id": "632be06c",
   "metadata": {},
   "outputs": [],
   "source": [
    "# date.today().replace(year = date.today().year -1).strftime('%Y-%m-%d')"
   ]
  },
  {
   "cell_type": "code",
   "execution_count": 67,
   "id": "510353ae",
   "metadata": {},
   "outputs": [
    {
     "name": "stdout",
     "output_type": "stream",
     "text": [
      "CPU times: user 154 µs, sys: 181 µs, total: 335 µs\n",
      "Wall time: 489 µs\n"
     ]
    }
   ],
   "source": [
    "%%time\n",
    "#define the optimization function:\n",
    "\n",
    "#Get the stock tickers in the portfolio \n",
    "assets = 'ARKK, ARKW, ARKF, OGIG'\n",
    "\n",
    "# Get the stock/ portfolio starting date\n",
    "stockStartDate = date.today().replace(year = date.today().year -1).strftime('%Y-%m-%d')\n",
    "\n",
    "stockEndDate = datetime.today().strftime('%Y-%m-%d')\n",
    "\n",
    "investment_amount = 15000\n",
    "\n",
    "def remove_negative_cleaned_wts(cleaned_weights):\n",
    "    for key in cleaned_weights.keys():\n",
    "        if cleaned_weights[key]<0:\n",
    "            cleaned_weights[key] =0\n",
    "    return cleaned_weights\n",
    "\n",
    "def run_optimization_engine(assets, stockStartDate, stockEndDate, investment_amount):\n",
    "    weights = np.array([0.25]*len(assets.split(\", \")))\n",
    "    # Create a dataframe to store the adjusted close price of the stocks\n",
    "    df = pd.DataFrame()\n",
    "\n",
    "    # Store the adjusted close price of the sock into the df\n",
    "    for stock in assets.split(', '):\n",
    "        df[stock] = web.DataReader(stock,data_source='yahoo',start=stockStartDate,end=stockEndDate)['Adj Close']\n",
    "\n",
    "    returns = df.pct_change()\n",
    "    # Create and show the annualized covariance matrix\n",
    "    cov_matrix_annual = returns.cov()*252\n",
    "    # Calculate the portfolio variance\n",
    "    port_variance = np.dot(weights.T,np.dot(cov_matrix_annual,weights))\n",
    "    # Calculate the portfolio volatility aka standard deviation\n",
    "    port_volatility = np.sqrt(port_variance)\n",
    "    # Calculate the annual portfolio return\n",
    "    portfolio_simple_annual_return = np.sum(returns.mean()*weights)*252\n",
    "\n",
    "    # Portfolio Optimization\n",
    "\n",
    "    # Calculate the expected returns and the annualized sample covariance matrix of asset returns\n",
    "    mu = expected_returns.mean_historical_return(df)\n",
    "    S = risk_models.sample_cov(df)\n",
    "\n",
    "    # Optimize for maximum sharpe ratio\n",
    "    ef = EfficientFrontier(mu,S,weight_bounds=(None,None))\n",
    "    ef.add_constraint(lambda w: sum(w) == 1)\n",
    "    weights = ef.max_sharpe()\n",
    "    cleaned_weights = ef.clean_weights() \n",
    "    \n",
    "    ef.portfolio_performance(verbose=True)\n",
    "\n",
    "    cleaned_weights = remove_negative_cleaned_wts(cleaned_weights)\n",
    "    print(cleaned_weights)\n",
    "    \n",
    "    # Get the discrete allocation of each share per stock\n",
    "    \n",
    "    latest_prices = get_latest_prices(df)\n",
    "    print(latest_prices)\n",
    "    weights = cleaned_weights\n",
    "    da = DiscreteAllocation(weights,latest_prices,total_portfolio_value = investment_amount)\n",
    "\n",
    "    allocation,leftover = da.lp_portfolio()\n",
    "    print('Discrete allocation: ',allocation)\n",
    "    print('Funds remaining: ${:.2f}'.format(leftover))\n",
    "    \n",
    "    return df, cleaned_weights, ef.portfolio_performance(verbose=True), allocation, leftover, latest_prices"
   ]
  },
  {
   "cell_type": "code",
   "execution_count": 68,
   "id": "32e4a96b",
   "metadata": {},
   "outputs": [
    {
     "name": "stdout",
     "output_type": "stream",
     "text": [
      "Expected annual return: 49.0%\n",
      "Annual volatility: 34.1%\n",
      "Sharpe Ratio: 1.38\n",
      "OrderedDict([('ARKK', 0), ('ARKW', 1.0), ('ARKF', 0.99002), ('OGIG', 0)])\n",
      "ARKK    120.099998\n",
      "ARKW    149.300003\n",
      "ARKF     52.209999\n",
      "OGIG     54.400002\n",
      "Name: 2021-08-13 00:00:00, dtype: float64\n",
      "Discrete allocation:  {'ARKW': 5, 'ARKF': 273}\n",
      "Funds remaining: $0.17\n",
      "Expected annual return: 49.0%\n",
      "Annual volatility: 34.1%\n",
      "Sharpe Ratio: 1.38\n",
      "CPU times: user 324 ms, sys: 95.3 ms, total: 419 ms\n",
      "Wall time: 4.01 s\n"
     ]
    }
   ],
   "source": [
    "%%time\n",
    "df, cleaned_weights, portfolio_performance, allocation, leftover, latest_prices = run_optimization_engine(assets, stockStartDate, stockEndDate, investment_amount)"
   ]
  },
  {
   "cell_type": "code",
   "execution_count": 154,
   "id": "38b320a0",
   "metadata": {},
   "outputs": [
    {
     "data": {
      "text/html": [
       "<div>\n",
       "<style scoped>\n",
       "    .dataframe tbody tr th:only-of-type {\n",
       "        vertical-align: middle;\n",
       "    }\n",
       "\n",
       "    .dataframe tbody tr th {\n",
       "        vertical-align: top;\n",
       "    }\n",
       "\n",
       "    .dataframe thead th {\n",
       "        text-align: right;\n",
       "    }\n",
       "</style>\n",
       "<table border=\"1\" class=\"dataframe\">\n",
       "  <thead>\n",
       "    <tr style=\"text-align: right;\">\n",
       "      <th></th>\n",
       "      <th>stocks</th>\n",
       "      <th>shares_num</th>\n",
       "    </tr>\n",
       "  </thead>\n",
       "  <tbody>\n",
       "    <tr>\n",
       "      <th>0</th>\n",
       "      <td>ARKW</td>\n",
       "      <td>5</td>\n",
       "    </tr>\n",
       "    <tr>\n",
       "      <th>1</th>\n",
       "      <td>ARKF</td>\n",
       "      <td>273</td>\n",
       "    </tr>\n",
       "  </tbody>\n",
       "</table>\n",
       "</div>"
      ],
      "text/plain": [
       "  stocks  shares_num\n",
       "0   ARKW           5\n",
       "1   ARKF         273"
      ]
     },
     "execution_count": 154,
     "metadata": {},
     "output_type": "execute_result"
    }
   ],
   "source": [
    "allo_df = pd.Series(allocation).reset_index().rename(columns = {'index': 'stocks', 0:'shares_num'})\n",
    "allo_df"
   ]
  },
  {
   "cell_type": "code",
   "execution_count": 162,
   "id": "dd2508d5",
   "metadata": {},
   "outputs": [
    {
     "name": "stdout",
     "output_type": "stream",
     "text": [
      "rgb(255, 127, 14)\n",
      "rgb(44, 160, 44)\n"
     ]
    },
    {
     "data": {
      "application/vnd.plotly.v1+json": {
       "config": {
        "plotlyServerURL": "https://plot.ly"
       },
       "data": [
        {
         "marker": {
          "color": "rgb(255, 127, 14)"
         },
         "name": "ARKW",
         "type": "bar",
         "x": [
          "ARKW"
         ],
         "y": [
          5
         ]
        },
        {
         "marker": {
          "color": "rgb(44, 160, 44)"
         },
         "name": "ARKF",
         "type": "bar",
         "x": [
          "ARKF"
         ],
         "y": [
          273
         ]
        }
       ],
       "layout": {
        "template": {
         "data": {
          "bar": [
           {
            "error_x": {
             "color": "#2a3f5f"
            },
            "error_y": {
             "color": "#2a3f5f"
            },
            "marker": {
             "line": {
              "color": "#E5ECF6",
              "width": 0.5
             },
             "pattern": {
              "fillmode": "overlay",
              "size": 10,
              "solidity": 0.2
             }
            },
            "type": "bar"
           }
          ],
          "barpolar": [
           {
            "marker": {
             "line": {
              "color": "#E5ECF6",
              "width": 0.5
             },
             "pattern": {
              "fillmode": "overlay",
              "size": 10,
              "solidity": 0.2
             }
            },
            "type": "barpolar"
           }
          ],
          "carpet": [
           {
            "aaxis": {
             "endlinecolor": "#2a3f5f",
             "gridcolor": "white",
             "linecolor": "white",
             "minorgridcolor": "white",
             "startlinecolor": "#2a3f5f"
            },
            "baxis": {
             "endlinecolor": "#2a3f5f",
             "gridcolor": "white",
             "linecolor": "white",
             "minorgridcolor": "white",
             "startlinecolor": "#2a3f5f"
            },
            "type": "carpet"
           }
          ],
          "choropleth": [
           {
            "colorbar": {
             "outlinewidth": 0,
             "ticks": ""
            },
            "type": "choropleth"
           }
          ],
          "contour": [
           {
            "colorbar": {
             "outlinewidth": 0,
             "ticks": ""
            },
            "colorscale": [
             [
              0,
              "#0d0887"
             ],
             [
              0.1111111111111111,
              "#46039f"
             ],
             [
              0.2222222222222222,
              "#7201a8"
             ],
             [
              0.3333333333333333,
              "#9c179e"
             ],
             [
              0.4444444444444444,
              "#bd3786"
             ],
             [
              0.5555555555555556,
              "#d8576b"
             ],
             [
              0.6666666666666666,
              "#ed7953"
             ],
             [
              0.7777777777777778,
              "#fb9f3a"
             ],
             [
              0.8888888888888888,
              "#fdca26"
             ],
             [
              1,
              "#f0f921"
             ]
            ],
            "type": "contour"
           }
          ],
          "contourcarpet": [
           {
            "colorbar": {
             "outlinewidth": 0,
             "ticks": ""
            },
            "type": "contourcarpet"
           }
          ],
          "heatmap": [
           {
            "colorbar": {
             "outlinewidth": 0,
             "ticks": ""
            },
            "colorscale": [
             [
              0,
              "#0d0887"
             ],
             [
              0.1111111111111111,
              "#46039f"
             ],
             [
              0.2222222222222222,
              "#7201a8"
             ],
             [
              0.3333333333333333,
              "#9c179e"
             ],
             [
              0.4444444444444444,
              "#bd3786"
             ],
             [
              0.5555555555555556,
              "#d8576b"
             ],
             [
              0.6666666666666666,
              "#ed7953"
             ],
             [
              0.7777777777777778,
              "#fb9f3a"
             ],
             [
              0.8888888888888888,
              "#fdca26"
             ],
             [
              1,
              "#f0f921"
             ]
            ],
            "type": "heatmap"
           }
          ],
          "heatmapgl": [
           {
            "colorbar": {
             "outlinewidth": 0,
             "ticks": ""
            },
            "colorscale": [
             [
              0,
              "#0d0887"
             ],
             [
              0.1111111111111111,
              "#46039f"
             ],
             [
              0.2222222222222222,
              "#7201a8"
             ],
             [
              0.3333333333333333,
              "#9c179e"
             ],
             [
              0.4444444444444444,
              "#bd3786"
             ],
             [
              0.5555555555555556,
              "#d8576b"
             ],
             [
              0.6666666666666666,
              "#ed7953"
             ],
             [
              0.7777777777777778,
              "#fb9f3a"
             ],
             [
              0.8888888888888888,
              "#fdca26"
             ],
             [
              1,
              "#f0f921"
             ]
            ],
            "type": "heatmapgl"
           }
          ],
          "histogram": [
           {
            "marker": {
             "pattern": {
              "fillmode": "overlay",
              "size": 10,
              "solidity": 0.2
             }
            },
            "type": "histogram"
           }
          ],
          "histogram2d": [
           {
            "colorbar": {
             "outlinewidth": 0,
             "ticks": ""
            },
            "colorscale": [
             [
              0,
              "#0d0887"
             ],
             [
              0.1111111111111111,
              "#46039f"
             ],
             [
              0.2222222222222222,
              "#7201a8"
             ],
             [
              0.3333333333333333,
              "#9c179e"
             ],
             [
              0.4444444444444444,
              "#bd3786"
             ],
             [
              0.5555555555555556,
              "#d8576b"
             ],
             [
              0.6666666666666666,
              "#ed7953"
             ],
             [
              0.7777777777777778,
              "#fb9f3a"
             ],
             [
              0.8888888888888888,
              "#fdca26"
             ],
             [
              1,
              "#f0f921"
             ]
            ],
            "type": "histogram2d"
           }
          ],
          "histogram2dcontour": [
           {
            "colorbar": {
             "outlinewidth": 0,
             "ticks": ""
            },
            "colorscale": [
             [
              0,
              "#0d0887"
             ],
             [
              0.1111111111111111,
              "#46039f"
             ],
             [
              0.2222222222222222,
              "#7201a8"
             ],
             [
              0.3333333333333333,
              "#9c179e"
             ],
             [
              0.4444444444444444,
              "#bd3786"
             ],
             [
              0.5555555555555556,
              "#d8576b"
             ],
             [
              0.6666666666666666,
              "#ed7953"
             ],
             [
              0.7777777777777778,
              "#fb9f3a"
             ],
             [
              0.8888888888888888,
              "#fdca26"
             ],
             [
              1,
              "#f0f921"
             ]
            ],
            "type": "histogram2dcontour"
           }
          ],
          "mesh3d": [
           {
            "colorbar": {
             "outlinewidth": 0,
             "ticks": ""
            },
            "type": "mesh3d"
           }
          ],
          "parcoords": [
           {
            "line": {
             "colorbar": {
              "outlinewidth": 0,
              "ticks": ""
             }
            },
            "type": "parcoords"
           }
          ],
          "pie": [
           {
            "automargin": true,
            "type": "pie"
           }
          ],
          "scatter": [
           {
            "marker": {
             "colorbar": {
              "outlinewidth": 0,
              "ticks": ""
             }
            },
            "type": "scatter"
           }
          ],
          "scatter3d": [
           {
            "line": {
             "colorbar": {
              "outlinewidth": 0,
              "ticks": ""
             }
            },
            "marker": {
             "colorbar": {
              "outlinewidth": 0,
              "ticks": ""
             }
            },
            "type": "scatter3d"
           }
          ],
          "scattercarpet": [
           {
            "marker": {
             "colorbar": {
              "outlinewidth": 0,
              "ticks": ""
             }
            },
            "type": "scattercarpet"
           }
          ],
          "scattergeo": [
           {
            "marker": {
             "colorbar": {
              "outlinewidth": 0,
              "ticks": ""
             }
            },
            "type": "scattergeo"
           }
          ],
          "scattergl": [
           {
            "marker": {
             "colorbar": {
              "outlinewidth": 0,
              "ticks": ""
             }
            },
            "type": "scattergl"
           }
          ],
          "scattermapbox": [
           {
            "marker": {
             "colorbar": {
              "outlinewidth": 0,
              "ticks": ""
             }
            },
            "type": "scattermapbox"
           }
          ],
          "scatterpolar": [
           {
            "marker": {
             "colorbar": {
              "outlinewidth": 0,
              "ticks": ""
             }
            },
            "type": "scatterpolar"
           }
          ],
          "scatterpolargl": [
           {
            "marker": {
             "colorbar": {
              "outlinewidth": 0,
              "ticks": ""
             }
            },
            "type": "scatterpolargl"
           }
          ],
          "scatterternary": [
           {
            "marker": {
             "colorbar": {
              "outlinewidth": 0,
              "ticks": ""
             }
            },
            "type": "scatterternary"
           }
          ],
          "surface": [
           {
            "colorbar": {
             "outlinewidth": 0,
             "ticks": ""
            },
            "colorscale": [
             [
              0,
              "#0d0887"
             ],
             [
              0.1111111111111111,
              "#46039f"
             ],
             [
              0.2222222222222222,
              "#7201a8"
             ],
             [
              0.3333333333333333,
              "#9c179e"
             ],
             [
              0.4444444444444444,
              "#bd3786"
             ],
             [
              0.5555555555555556,
              "#d8576b"
             ],
             [
              0.6666666666666666,
              "#ed7953"
             ],
             [
              0.7777777777777778,
              "#fb9f3a"
             ],
             [
              0.8888888888888888,
              "#fdca26"
             ],
             [
              1,
              "#f0f921"
             ]
            ],
            "type": "surface"
           }
          ],
          "table": [
           {
            "cells": {
             "fill": {
              "color": "#EBF0F8"
             },
             "line": {
              "color": "white"
             }
            },
            "header": {
             "fill": {
              "color": "#C8D4E3"
             },
             "line": {
              "color": "white"
             }
            },
            "type": "table"
           }
          ]
         },
         "layout": {
          "annotationdefaults": {
           "arrowcolor": "#2a3f5f",
           "arrowhead": 0,
           "arrowwidth": 1
          },
          "autotypenumbers": "strict",
          "coloraxis": {
           "colorbar": {
            "outlinewidth": 0,
            "ticks": ""
           }
          },
          "colorscale": {
           "diverging": [
            [
             0,
             "#8e0152"
            ],
            [
             0.1,
             "#c51b7d"
            ],
            [
             0.2,
             "#de77ae"
            ],
            [
             0.3,
             "#f1b6da"
            ],
            [
             0.4,
             "#fde0ef"
            ],
            [
             0.5,
             "#f7f7f7"
            ],
            [
             0.6,
             "#e6f5d0"
            ],
            [
             0.7,
             "#b8e186"
            ],
            [
             0.8,
             "#7fbc41"
            ],
            [
             0.9,
             "#4d9221"
            ],
            [
             1,
             "#276419"
            ]
           ],
           "sequential": [
            [
             0,
             "#0d0887"
            ],
            [
             0.1111111111111111,
             "#46039f"
            ],
            [
             0.2222222222222222,
             "#7201a8"
            ],
            [
             0.3333333333333333,
             "#9c179e"
            ],
            [
             0.4444444444444444,
             "#bd3786"
            ],
            [
             0.5555555555555556,
             "#d8576b"
            ],
            [
             0.6666666666666666,
             "#ed7953"
            ],
            [
             0.7777777777777778,
             "#fb9f3a"
            ],
            [
             0.8888888888888888,
             "#fdca26"
            ],
            [
             1,
             "#f0f921"
            ]
           ],
           "sequentialminus": [
            [
             0,
             "#0d0887"
            ],
            [
             0.1111111111111111,
             "#46039f"
            ],
            [
             0.2222222222222222,
             "#7201a8"
            ],
            [
             0.3333333333333333,
             "#9c179e"
            ],
            [
             0.4444444444444444,
             "#bd3786"
            ],
            [
             0.5555555555555556,
             "#d8576b"
            ],
            [
             0.6666666666666666,
             "#ed7953"
            ],
            [
             0.7777777777777778,
             "#fb9f3a"
            ],
            [
             0.8888888888888888,
             "#fdca26"
            ],
            [
             1,
             "#f0f921"
            ]
           ]
          },
          "colorway": [
           "#636efa",
           "#EF553B",
           "#00cc96",
           "#ab63fa",
           "#FFA15A",
           "#19d3f3",
           "#FF6692",
           "#B6E880",
           "#FF97FF",
           "#FECB52"
          ],
          "font": {
           "color": "#2a3f5f"
          },
          "geo": {
           "bgcolor": "white",
           "lakecolor": "white",
           "landcolor": "#E5ECF6",
           "showlakes": true,
           "showland": true,
           "subunitcolor": "white"
          },
          "hoverlabel": {
           "align": "left"
          },
          "hovermode": "closest",
          "mapbox": {
           "style": "light"
          },
          "paper_bgcolor": "white",
          "plot_bgcolor": "#E5ECF6",
          "polar": {
           "angularaxis": {
            "gridcolor": "white",
            "linecolor": "white",
            "ticks": ""
           },
           "bgcolor": "#E5ECF6",
           "radialaxis": {
            "gridcolor": "white",
            "linecolor": "white",
            "ticks": ""
           }
          },
          "scene": {
           "xaxis": {
            "backgroundcolor": "#E5ECF6",
            "gridcolor": "white",
            "gridwidth": 2,
            "linecolor": "white",
            "showbackground": true,
            "ticks": "",
            "zerolinecolor": "white"
           },
           "yaxis": {
            "backgroundcolor": "#E5ECF6",
            "gridcolor": "white",
            "gridwidth": 2,
            "linecolor": "white",
            "showbackground": true,
            "ticks": "",
            "zerolinecolor": "white"
           },
           "zaxis": {
            "backgroundcolor": "#E5ECF6",
            "gridcolor": "white",
            "gridwidth": 2,
            "linecolor": "white",
            "showbackground": true,
            "ticks": "",
            "zerolinecolor": "white"
           }
          },
          "shapedefaults": {
           "line": {
            "color": "#2a3f5f"
           }
          },
          "ternary": {
           "aaxis": {
            "gridcolor": "white",
            "linecolor": "white",
            "ticks": ""
           },
           "baxis": {
            "gridcolor": "white",
            "linecolor": "white",
            "ticks": ""
           },
           "bgcolor": "#E5ECF6",
           "caxis": {
            "gridcolor": "white",
            "linecolor": "white",
            "ticks": ""
           }
          },
          "title": {
           "x": 0.05
          },
          "xaxis": {
           "automargin": true,
           "gridcolor": "white",
           "linecolor": "white",
           "ticks": "",
           "title": {
            "standoff": 15
           },
           "zerolinecolor": "white",
           "zerolinewidth": 2
          },
          "yaxis": {
           "automargin": true,
           "gridcolor": "white",
           "linecolor": "white",
           "ticks": "",
           "title": {
            "standoff": 15
           },
           "zerolinecolor": "white",
           "zerolinewidth": 2
          }
         }
        },
        "title": {
         "text": "Performance of the Selected Stocks"
        }
       }
      },
      "text/html": [
       "<div>                            <div id=\"70c208a9-dd2f-4702-9dfe-cb5781f87042\" class=\"plotly-graph-div\" style=\"height:525px; width:100%;\"></div>            <script type=\"text/javascript\">                require([\"plotly\"], function(Plotly) {                    window.PLOTLYENV=window.PLOTLYENV || {};                                    if (document.getElementById(\"70c208a9-dd2f-4702-9dfe-cb5781f87042\")) {                    Plotly.newPlot(                        \"70c208a9-dd2f-4702-9dfe-cb5781f87042\",                        [{\"marker\":{\"color\":\"rgb(255, 127, 14)\"},\"name\":\"ARKW\",\"type\":\"bar\",\"x\":[\"ARKW\"],\"y\":[5]},{\"marker\":{\"color\":\"rgb(44, 160, 44)\"},\"name\":\"ARKF\",\"type\":\"bar\",\"x\":[\"ARKF\"],\"y\":[273]}],                        {\"template\":{\"data\":{\"bar\":[{\"error_x\":{\"color\":\"#2a3f5f\"},\"error_y\":{\"color\":\"#2a3f5f\"},\"marker\":{\"line\":{\"color\":\"#E5ECF6\",\"width\":0.5},\"pattern\":{\"fillmode\":\"overlay\",\"size\":10,\"solidity\":0.2}},\"type\":\"bar\"}],\"barpolar\":[{\"marker\":{\"line\":{\"color\":\"#E5ECF6\",\"width\":0.5},\"pattern\":{\"fillmode\":\"overlay\",\"size\":10,\"solidity\":0.2}},\"type\":\"barpolar\"}],\"carpet\":[{\"aaxis\":{\"endlinecolor\":\"#2a3f5f\",\"gridcolor\":\"white\",\"linecolor\":\"white\",\"minorgridcolor\":\"white\",\"startlinecolor\":\"#2a3f5f\"},\"baxis\":{\"endlinecolor\":\"#2a3f5f\",\"gridcolor\":\"white\",\"linecolor\":\"white\",\"minorgridcolor\":\"white\",\"startlinecolor\":\"#2a3f5f\"},\"type\":\"carpet\"}],\"choropleth\":[{\"colorbar\":{\"outlinewidth\":0,\"ticks\":\"\"},\"type\":\"choropleth\"}],\"contour\":[{\"colorbar\":{\"outlinewidth\":0,\"ticks\":\"\"},\"colorscale\":[[0.0,\"#0d0887\"],[0.1111111111111111,\"#46039f\"],[0.2222222222222222,\"#7201a8\"],[0.3333333333333333,\"#9c179e\"],[0.4444444444444444,\"#bd3786\"],[0.5555555555555556,\"#d8576b\"],[0.6666666666666666,\"#ed7953\"],[0.7777777777777778,\"#fb9f3a\"],[0.8888888888888888,\"#fdca26\"],[1.0,\"#f0f921\"]],\"type\":\"contour\"}],\"contourcarpet\":[{\"colorbar\":{\"outlinewidth\":0,\"ticks\":\"\"},\"type\":\"contourcarpet\"}],\"heatmap\":[{\"colorbar\":{\"outlinewidth\":0,\"ticks\":\"\"},\"colorscale\":[[0.0,\"#0d0887\"],[0.1111111111111111,\"#46039f\"],[0.2222222222222222,\"#7201a8\"],[0.3333333333333333,\"#9c179e\"],[0.4444444444444444,\"#bd3786\"],[0.5555555555555556,\"#d8576b\"],[0.6666666666666666,\"#ed7953\"],[0.7777777777777778,\"#fb9f3a\"],[0.8888888888888888,\"#fdca26\"],[1.0,\"#f0f921\"]],\"type\":\"heatmap\"}],\"heatmapgl\":[{\"colorbar\":{\"outlinewidth\":0,\"ticks\":\"\"},\"colorscale\":[[0.0,\"#0d0887\"],[0.1111111111111111,\"#46039f\"],[0.2222222222222222,\"#7201a8\"],[0.3333333333333333,\"#9c179e\"],[0.4444444444444444,\"#bd3786\"],[0.5555555555555556,\"#d8576b\"],[0.6666666666666666,\"#ed7953\"],[0.7777777777777778,\"#fb9f3a\"],[0.8888888888888888,\"#fdca26\"],[1.0,\"#f0f921\"]],\"type\":\"heatmapgl\"}],\"histogram\":[{\"marker\":{\"pattern\":{\"fillmode\":\"overlay\",\"size\":10,\"solidity\":0.2}},\"type\":\"histogram\"}],\"histogram2d\":[{\"colorbar\":{\"outlinewidth\":0,\"ticks\":\"\"},\"colorscale\":[[0.0,\"#0d0887\"],[0.1111111111111111,\"#46039f\"],[0.2222222222222222,\"#7201a8\"],[0.3333333333333333,\"#9c179e\"],[0.4444444444444444,\"#bd3786\"],[0.5555555555555556,\"#d8576b\"],[0.6666666666666666,\"#ed7953\"],[0.7777777777777778,\"#fb9f3a\"],[0.8888888888888888,\"#fdca26\"],[1.0,\"#f0f921\"]],\"type\":\"histogram2d\"}],\"histogram2dcontour\":[{\"colorbar\":{\"outlinewidth\":0,\"ticks\":\"\"},\"colorscale\":[[0.0,\"#0d0887\"],[0.1111111111111111,\"#46039f\"],[0.2222222222222222,\"#7201a8\"],[0.3333333333333333,\"#9c179e\"],[0.4444444444444444,\"#bd3786\"],[0.5555555555555556,\"#d8576b\"],[0.6666666666666666,\"#ed7953\"],[0.7777777777777778,\"#fb9f3a\"],[0.8888888888888888,\"#fdca26\"],[1.0,\"#f0f921\"]],\"type\":\"histogram2dcontour\"}],\"mesh3d\":[{\"colorbar\":{\"outlinewidth\":0,\"ticks\":\"\"},\"type\":\"mesh3d\"}],\"parcoords\":[{\"line\":{\"colorbar\":{\"outlinewidth\":0,\"ticks\":\"\"}},\"type\":\"parcoords\"}],\"pie\":[{\"automargin\":true,\"type\":\"pie\"}],\"scatter\":[{\"marker\":{\"colorbar\":{\"outlinewidth\":0,\"ticks\":\"\"}},\"type\":\"scatter\"}],\"scatter3d\":[{\"line\":{\"colorbar\":{\"outlinewidth\":0,\"ticks\":\"\"}},\"marker\":{\"colorbar\":{\"outlinewidth\":0,\"ticks\":\"\"}},\"type\":\"scatter3d\"}],\"scattercarpet\":[{\"marker\":{\"colorbar\":{\"outlinewidth\":0,\"ticks\":\"\"}},\"type\":\"scattercarpet\"}],\"scattergeo\":[{\"marker\":{\"colorbar\":{\"outlinewidth\":0,\"ticks\":\"\"}},\"type\":\"scattergeo\"}],\"scattergl\":[{\"marker\":{\"colorbar\":{\"outlinewidth\":0,\"ticks\":\"\"}},\"type\":\"scattergl\"}],\"scattermapbox\":[{\"marker\":{\"colorbar\":{\"outlinewidth\":0,\"ticks\":\"\"}},\"type\":\"scattermapbox\"}],\"scatterpolar\":[{\"marker\":{\"colorbar\":{\"outlinewidth\":0,\"ticks\":\"\"}},\"type\":\"scatterpolar\"}],\"scatterpolargl\":[{\"marker\":{\"colorbar\":{\"outlinewidth\":0,\"ticks\":\"\"}},\"type\":\"scatterpolargl\"}],\"scatterternary\":[{\"marker\":{\"colorbar\":{\"outlinewidth\":0,\"ticks\":\"\"}},\"type\":\"scatterternary\"}],\"surface\":[{\"colorbar\":{\"outlinewidth\":0,\"ticks\":\"\"},\"colorscale\":[[0.0,\"#0d0887\"],[0.1111111111111111,\"#46039f\"],[0.2222222222222222,\"#7201a8\"],[0.3333333333333333,\"#9c179e\"],[0.4444444444444444,\"#bd3786\"],[0.5555555555555556,\"#d8576b\"],[0.6666666666666666,\"#ed7953\"],[0.7777777777777778,\"#fb9f3a\"],[0.8888888888888888,\"#fdca26\"],[1.0,\"#f0f921\"]],\"type\":\"surface\"}],\"table\":[{\"cells\":{\"fill\":{\"color\":\"#EBF0F8\"},\"line\":{\"color\":\"white\"}},\"header\":{\"fill\":{\"color\":\"#C8D4E3\"},\"line\":{\"color\":\"white\"}},\"type\":\"table\"}]},\"layout\":{\"annotationdefaults\":{\"arrowcolor\":\"#2a3f5f\",\"arrowhead\":0,\"arrowwidth\":1},\"autotypenumbers\":\"strict\",\"coloraxis\":{\"colorbar\":{\"outlinewidth\":0,\"ticks\":\"\"}},\"colorscale\":{\"diverging\":[[0,\"#8e0152\"],[0.1,\"#c51b7d\"],[0.2,\"#de77ae\"],[0.3,\"#f1b6da\"],[0.4,\"#fde0ef\"],[0.5,\"#f7f7f7\"],[0.6,\"#e6f5d0\"],[0.7,\"#b8e186\"],[0.8,\"#7fbc41\"],[0.9,\"#4d9221\"],[1,\"#276419\"]],\"sequential\":[[0.0,\"#0d0887\"],[0.1111111111111111,\"#46039f\"],[0.2222222222222222,\"#7201a8\"],[0.3333333333333333,\"#9c179e\"],[0.4444444444444444,\"#bd3786\"],[0.5555555555555556,\"#d8576b\"],[0.6666666666666666,\"#ed7953\"],[0.7777777777777778,\"#fb9f3a\"],[0.8888888888888888,\"#fdca26\"],[1.0,\"#f0f921\"]],\"sequentialminus\":[[0.0,\"#0d0887\"],[0.1111111111111111,\"#46039f\"],[0.2222222222222222,\"#7201a8\"],[0.3333333333333333,\"#9c179e\"],[0.4444444444444444,\"#bd3786\"],[0.5555555555555556,\"#d8576b\"],[0.6666666666666666,\"#ed7953\"],[0.7777777777777778,\"#fb9f3a\"],[0.8888888888888888,\"#fdca26\"],[1.0,\"#f0f921\"]]},\"colorway\":[\"#636efa\",\"#EF553B\",\"#00cc96\",\"#ab63fa\",\"#FFA15A\",\"#19d3f3\",\"#FF6692\",\"#B6E880\",\"#FF97FF\",\"#FECB52\"],\"font\":{\"color\":\"#2a3f5f\"},\"geo\":{\"bgcolor\":\"white\",\"lakecolor\":\"white\",\"landcolor\":\"#E5ECF6\",\"showlakes\":true,\"showland\":true,\"subunitcolor\":\"white\"},\"hoverlabel\":{\"align\":\"left\"},\"hovermode\":\"closest\",\"mapbox\":{\"style\":\"light\"},\"paper_bgcolor\":\"white\",\"plot_bgcolor\":\"#E5ECF6\",\"polar\":{\"angularaxis\":{\"gridcolor\":\"white\",\"linecolor\":\"white\",\"ticks\":\"\"},\"bgcolor\":\"#E5ECF6\",\"radialaxis\":{\"gridcolor\":\"white\",\"linecolor\":\"white\",\"ticks\":\"\"}},\"scene\":{\"xaxis\":{\"backgroundcolor\":\"#E5ECF6\",\"gridcolor\":\"white\",\"gridwidth\":2,\"linecolor\":\"white\",\"showbackground\":true,\"ticks\":\"\",\"zerolinecolor\":\"white\"},\"yaxis\":{\"backgroundcolor\":\"#E5ECF6\",\"gridcolor\":\"white\",\"gridwidth\":2,\"linecolor\":\"white\",\"showbackground\":true,\"ticks\":\"\",\"zerolinecolor\":\"white\"},\"zaxis\":{\"backgroundcolor\":\"#E5ECF6\",\"gridcolor\":\"white\",\"gridwidth\":2,\"linecolor\":\"white\",\"showbackground\":true,\"ticks\":\"\",\"zerolinecolor\":\"white\"}},\"shapedefaults\":{\"line\":{\"color\":\"#2a3f5f\"}},\"ternary\":{\"aaxis\":{\"gridcolor\":\"white\",\"linecolor\":\"white\",\"ticks\":\"\"},\"baxis\":{\"gridcolor\":\"white\",\"linecolor\":\"white\",\"ticks\":\"\"},\"bgcolor\":\"#E5ECF6\",\"caxis\":{\"gridcolor\":\"white\",\"linecolor\":\"white\",\"ticks\":\"\"}},\"title\":{\"x\":0.05},\"xaxis\":{\"automargin\":true,\"gridcolor\":\"white\",\"linecolor\":\"white\",\"ticks\":\"\",\"title\":{\"standoff\":15},\"zerolinecolor\":\"white\",\"zerolinewidth\":2},\"yaxis\":{\"automargin\":true,\"gridcolor\":\"white\",\"linecolor\":\"white\",\"ticks\":\"\",\"title\":{\"standoff\":15},\"zerolinecolor\":\"white\",\"zerolinewidth\":2}}},\"title\":{\"text\":\"Performance of the Selected Stocks\"}},                        {\"responsive\": true}                    ).then(function(){\n",
       "                            \n",
       "var gd = document.getElementById('70c208a9-dd2f-4702-9dfe-cb5781f87042');\n",
       "var x = new MutationObserver(function (mutations, observer) {{\n",
       "        var display = window.getComputedStyle(gd).display;\n",
       "        if (!display || display === 'none') {{\n",
       "            console.log([gd, 'removed!']);\n",
       "            Plotly.purge(gd);\n",
       "            observer.disconnect();\n",
       "        }}\n",
       "}});\n",
       "\n",
       "// Listen for the removal of the full notebook cells\n",
       "var notebookContainer = gd.closest('#notebook-container');\n",
       "if (notebookContainer) {{\n",
       "    x.observe(notebookContainer, {childList: true});\n",
       "}}\n",
       "\n",
       "// Listen for the clearing of the current output cell\n",
       "var outputEl = gd.closest('.output');\n",
       "if (outputEl) {{\n",
       "    x.observe(outputEl, {childList: true});\n",
       "}}\n",
       "\n",
       "                        })                };                });            </script>        </div>"
      ]
     },
     "metadata": {},
     "output_type": "display_data"
    }
   ],
   "source": [
    "import random\n",
    "cols = plotly.colors.DEFAULT_PLOTLY_COLORS\n",
    "i = 0\n",
    "colors = {}\n",
    "for asset in assets.split(\", \"):\n",
    "    colors.update({asset:cols[i]})\n",
    "    i = i+ 1\n",
    "\n",
    "fig3 = go.Figure()\n",
    "for index, key in enumerate(allo_df.stocks):\n",
    "    print(colors[key])\n",
    "    fig3.add_trace(go.Bar(x=[key], y=[allo_df['shares_num'][index]],\n",
    "        name=key, marker=dict(\n",
    "            color=str(colors[key]),\n",
    "#                         line=dict(color='rgba(246, 78, 139, 1.0)', width=3)\n",
    "        )),\n",
    "        )\n",
    "fig3.update_layout(title=\"Performance of the Selected Stocks\")\n",
    "fig3.show()"
   ]
  },
  {
   "cell_type": "code",
   "execution_count": 134,
   "id": "c3e45e58",
   "metadata": {},
   "outputs": [
    {
     "data": {
      "text/plain": [
       "[(0.5353861573683645, 0.25025472888714895, 0.8669539907752025),\n",
       " (0.44410758849570897, 0.7074874543115686, 0.5854458893646122),\n",
       " (0.7339249264880511, 0.8486233783591551, 0.04743113040754976),\n",
       " (0.21702610376853382, 0.526287469298468, 0.5713437351971812)]"
      ]
     },
     "execution_count": 134,
     "metadata": {},
     "output_type": "execute_result"
    }
   ],
   "source": []
  },
  {
   "cell_type": "code",
   "execution_count": 120,
   "id": "25c1b3cc",
   "metadata": {},
   "outputs": [
    {
     "data": {
      "text/plain": [
       "[(0.5925147614876843, 0.7746177806014155, 0.46549551735217387),\n",
       " (0.7912933965106851, 0.4506551190090926, 0.7846354907247339)]"
      ]
     },
     "execution_count": 120,
     "metadata": {},
     "output_type": "execute_result"
    }
   ],
   "source": [
    "allo_df = pd.Series(allocation).reset_index().rename(columns = {'index': 'stocks', 0:'shares_num'})\n",
    "\n",
    "new_colors = []\n",
    "\n",
    "for idx in allo_df.stocks:\n",
    "    new_colors.append(colors[idx])\n",
    "    \n",
    "new_colors"
   ]
  },
  {
   "cell_type": "code",
   "execution_count": 16,
   "id": "eed7caf3",
   "metadata": {},
   "outputs": [
    {
     "name": "stdout",
     "output_type": "stream",
     "text": [
      "                  ARKK        ARKW       ARKF       OGIG\n",
      "Date                                                    \n",
      "2020-08-17   86.250061  100.949577  37.877415  41.419998\n",
      "2020-08-18   87.185104  102.144073  38.315765  42.200001\n",
      "2020-08-19   87.460693  101.778809  38.265953  42.099998\n",
      "2020-08-20   88.070930  103.881516  38.594715  42.779999\n",
      "2020-08-21   88.415421  103.693954  38.624603  42.730000\n",
      "...                ...         ...        ...        ...\n",
      "2021-08-09  124.699997  152.380005  53.270000  55.000000\n",
      "2021-08-10  121.440002  149.929993  52.680000  54.720001\n",
      "2021-08-11  121.300003  150.050003  52.549999  54.425999\n",
      "2021-08-12  121.849998  150.179993  52.500000  54.580002\n",
      "2021-08-13  120.099998  149.300003  52.209999  54.400002\n",
      "\n",
      "[251 rows x 4 columns]\n"
     ]
    },
    {
     "data": {
      "application/vnd.plotly.v1+json": {
       "config": {
        "plotlyServerURL": "https://plot.ly"
       },
       "data": [
        {
         "hovertemplate": "option=ARKK<br>Date=%{x}<br>Price=%{y}<extra></extra>",
         "legendgroup": "ARKK",
         "line": {
          "color": "#1F77B4",
          "dash": "solid"
         },
         "mode": "lines",
         "name": "ARKK",
         "showlegend": true,
         "type": "scattergl",
         "x": [
          "2020-08-17T00:00:00",
          "2020-08-18T00:00:00",
          "2020-08-19T00:00:00",
          "2020-08-20T00:00:00",
          "2020-08-21T00:00:00",
          "2020-08-24T00:00:00",
          "2020-08-25T00:00:00",
          "2020-08-26T00:00:00",
          "2020-08-27T00:00:00",
          "2020-08-28T00:00:00",
          "2020-08-31T00:00:00",
          "2020-09-01T00:00:00",
          "2020-09-02T00:00:00",
          "2020-09-03T00:00:00",
          "2020-09-04T00:00:00",
          "2020-09-08T00:00:00",
          "2020-09-09T00:00:00",
          "2020-09-10T00:00:00",
          "2020-09-11T00:00:00",
          "2020-09-14T00:00:00",
          "2020-09-15T00:00:00",
          "2020-09-16T00:00:00",
          "2020-09-17T00:00:00",
          "2020-09-18T00:00:00",
          "2020-09-21T00:00:00",
          "2020-09-22T00:00:00",
          "2020-09-23T00:00:00",
          "2020-09-24T00:00:00",
          "2020-09-25T00:00:00",
          "2020-09-28T00:00:00",
          "2020-09-29T00:00:00",
          "2020-09-30T00:00:00",
          "2020-10-01T00:00:00",
          "2020-10-02T00:00:00",
          "2020-10-05T00:00:00",
          "2020-10-06T00:00:00",
          "2020-10-07T00:00:00",
          "2020-10-08T00:00:00",
          "2020-10-09T00:00:00",
          "2020-10-12T00:00:00",
          "2020-10-13T00:00:00",
          "2020-10-14T00:00:00",
          "2020-10-15T00:00:00",
          "2020-10-16T00:00:00",
          "2020-10-19T00:00:00",
          "2020-10-20T00:00:00",
          "2020-10-21T00:00:00",
          "2020-10-22T00:00:00",
          "2020-10-23T00:00:00",
          "2020-10-26T00:00:00",
          "2020-10-27T00:00:00",
          "2020-10-28T00:00:00",
          "2020-10-29T00:00:00",
          "2020-10-30T00:00:00",
          "2020-11-02T00:00:00",
          "2020-11-03T00:00:00",
          "2020-11-04T00:00:00",
          "2020-11-05T00:00:00",
          "2020-11-06T00:00:00",
          "2020-11-09T00:00:00",
          "2020-11-10T00:00:00",
          "2020-11-11T00:00:00",
          "2020-11-12T00:00:00",
          "2020-11-13T00:00:00",
          "2020-11-16T00:00:00",
          "2020-11-17T00:00:00",
          "2020-11-18T00:00:00",
          "2020-11-19T00:00:00",
          "2020-11-20T00:00:00",
          "2020-11-23T00:00:00",
          "2020-11-24T00:00:00",
          "2020-11-25T00:00:00",
          "2020-11-27T00:00:00",
          "2020-11-30T00:00:00",
          "2020-12-01T00:00:00",
          "2020-12-02T00:00:00",
          "2020-12-03T00:00:00",
          "2020-12-04T00:00:00",
          "2020-12-07T00:00:00",
          "2020-12-08T00:00:00",
          "2020-12-09T00:00:00",
          "2020-12-10T00:00:00",
          "2020-12-11T00:00:00",
          "2020-12-14T00:00:00",
          "2020-12-15T00:00:00",
          "2020-12-16T00:00:00",
          "2020-12-17T00:00:00",
          "2020-12-18T00:00:00",
          "2020-12-21T00:00:00",
          "2020-12-22T00:00:00",
          "2020-12-23T00:00:00",
          "2020-12-24T00:00:00",
          "2020-12-28T00:00:00",
          "2020-12-29T00:00:00",
          "2020-12-30T00:00:00",
          "2020-12-31T00:00:00",
          "2021-01-04T00:00:00",
          "2021-01-05T00:00:00",
          "2021-01-06T00:00:00",
          "2021-01-07T00:00:00",
          "2021-01-08T00:00:00",
          "2021-01-11T00:00:00",
          "2021-01-12T00:00:00",
          "2021-01-13T00:00:00",
          "2021-01-14T00:00:00",
          "2021-01-15T00:00:00",
          "2021-01-19T00:00:00",
          "2021-01-20T00:00:00",
          "2021-01-21T00:00:00",
          "2021-01-22T00:00:00",
          "2021-01-25T00:00:00",
          "2021-01-26T00:00:00",
          "2021-01-27T00:00:00",
          "2021-01-28T00:00:00",
          "2021-01-29T00:00:00",
          "2021-02-01T00:00:00",
          "2021-02-02T00:00:00",
          "2021-02-03T00:00:00",
          "2021-02-04T00:00:00",
          "2021-02-05T00:00:00",
          "2021-02-08T00:00:00",
          "2021-02-09T00:00:00",
          "2021-02-10T00:00:00",
          "2021-02-11T00:00:00",
          "2021-02-12T00:00:00",
          "2021-02-16T00:00:00",
          "2021-02-17T00:00:00",
          "2021-02-18T00:00:00",
          "2021-02-19T00:00:00",
          "2021-02-22T00:00:00",
          "2021-02-23T00:00:00",
          "2021-02-24T00:00:00",
          "2021-02-25T00:00:00",
          "2021-02-26T00:00:00",
          "2021-03-01T00:00:00",
          "2021-03-02T00:00:00",
          "2021-03-03T00:00:00",
          "2021-03-04T00:00:00",
          "2021-03-05T00:00:00",
          "2021-03-08T00:00:00",
          "2021-03-09T00:00:00",
          "2021-03-10T00:00:00",
          "2021-03-11T00:00:00",
          "2021-03-12T00:00:00",
          "2021-03-15T00:00:00",
          "2021-03-16T00:00:00",
          "2021-03-17T00:00:00",
          "2021-03-18T00:00:00",
          "2021-03-19T00:00:00",
          "2021-03-22T00:00:00",
          "2021-03-23T00:00:00",
          "2021-03-24T00:00:00",
          "2021-03-25T00:00:00",
          "2021-03-26T00:00:00",
          "2021-03-29T00:00:00",
          "2021-03-30T00:00:00",
          "2021-03-31T00:00:00",
          "2021-04-01T00:00:00",
          "2021-04-05T00:00:00",
          "2021-04-06T00:00:00",
          "2021-04-07T00:00:00",
          "2021-04-08T00:00:00",
          "2021-04-09T00:00:00",
          "2021-04-12T00:00:00",
          "2021-04-13T00:00:00",
          "2021-04-14T00:00:00",
          "2021-04-15T00:00:00",
          "2021-04-16T00:00:00",
          "2021-04-19T00:00:00",
          "2021-04-20T00:00:00",
          "2021-04-21T00:00:00",
          "2021-04-22T00:00:00",
          "2021-04-23T00:00:00",
          "2021-04-26T00:00:00",
          "2021-04-27T00:00:00",
          "2021-04-28T00:00:00",
          "2021-04-29T00:00:00",
          "2021-04-30T00:00:00",
          "2021-05-03T00:00:00",
          "2021-05-04T00:00:00",
          "2021-05-05T00:00:00",
          "2021-05-06T00:00:00",
          "2021-05-07T00:00:00",
          "2021-05-10T00:00:00",
          "2021-05-11T00:00:00",
          "2021-05-12T00:00:00",
          "2021-05-13T00:00:00",
          "2021-05-14T00:00:00",
          "2021-05-17T00:00:00",
          "2021-05-18T00:00:00",
          "2021-05-19T00:00:00",
          "2021-05-20T00:00:00",
          "2021-05-21T00:00:00",
          "2021-05-24T00:00:00",
          "2021-05-25T00:00:00",
          "2021-05-26T00:00:00",
          "2021-05-27T00:00:00",
          "2021-05-28T00:00:00",
          "2021-06-01T00:00:00",
          "2021-06-02T00:00:00",
          "2021-06-03T00:00:00",
          "2021-06-04T00:00:00",
          "2021-06-07T00:00:00",
          "2021-06-08T00:00:00",
          "2021-06-09T00:00:00",
          "2021-06-10T00:00:00",
          "2021-06-11T00:00:00",
          "2021-06-14T00:00:00",
          "2021-06-15T00:00:00",
          "2021-06-16T00:00:00",
          "2021-06-17T00:00:00",
          "2021-06-18T00:00:00",
          "2021-06-21T00:00:00",
          "2021-06-22T00:00:00",
          "2021-06-23T00:00:00",
          "2021-06-24T00:00:00",
          "2021-06-25T00:00:00",
          "2021-06-28T00:00:00",
          "2021-06-29T00:00:00",
          "2021-06-30T00:00:00",
          "2021-07-01T00:00:00",
          "2021-07-02T00:00:00",
          "2021-07-06T00:00:00",
          "2021-07-07T00:00:00",
          "2021-07-08T00:00:00",
          "2021-07-09T00:00:00",
          "2021-07-12T00:00:00",
          "2021-07-13T00:00:00",
          "2021-07-14T00:00:00",
          "2021-07-15T00:00:00",
          "2021-07-16T00:00:00",
          "2021-07-19T00:00:00",
          "2021-07-20T00:00:00",
          "2021-07-21T00:00:00",
          "2021-07-22T00:00:00",
          "2021-07-23T00:00:00",
          "2021-07-26T00:00:00",
          "2021-07-27T00:00:00",
          "2021-07-28T00:00:00",
          "2021-07-29T00:00:00",
          "2021-07-30T00:00:00",
          "2021-08-02T00:00:00",
          "2021-08-03T00:00:00",
          "2021-08-04T00:00:00",
          "2021-08-05T00:00:00",
          "2021-08-06T00:00:00",
          "2021-08-09T00:00:00",
          "2021-08-10T00:00:00",
          "2021-08-11T00:00:00",
          "2021-08-12T00:00:00",
          "2021-08-13T00:00:00"
         ],
         "xaxis": "x",
         "y": [
          86.25006103515625,
          87.18510437011719,
          87.460693359375,
          88.07093048095703,
          88.41542053222656,
          87.0669937133789,
          88.09061431884766,
          89.96070098876953,
          89.34061431884766,
          90.90557861328125,
          93.82881164550781,
          95.67920684814453,
          95.44298553466797,
          88.3957290649414,
          85.67919921875,
          81.79139709472656,
          85.21659851074219,
          84.48825073242188,
          84.00596618652344,
          87.68706512451172,
          90.38392639160156,
          90.19691467285156,
          87.89376831054688,
          88.46463012695312,
          89.15361022949219,
          90.26581573486328,
          86.56501770019531,
          86.51581573486328,
          89.32093048095703,
          90.2756576538086,
          91.30912017822266,
          90.5512466430664,
          93.0512466430664,
          90.8662109375,
          94.37998962402344,
          94.1634521484375,
          97.647705078125,
          98.98628997802734,
          101.14180755615234,
          100.71858215332031,
          103.17921447753906,
          102.13589477539062,
          101.21070861816406,
          101.14180755615234,
          100.63983917236328,
          99.24220275878906,
          96.40754699707031,
          97.02763366699219,
          97.61817932128906,
          95.66935729980469,
          97.07684326171875,
          93.25794219970703,
          94.4784164428711,
          89.36030578613281,
          89.37014770507812,
          91.69298553466797,
          95.97447967529297,
          99.23235321044922,
          100.47251892089844,
          95.89573669433594,
          93.26778411865234,
          97.1752700805664,
          97.33274841308594,
          97.834716796875,
          97.9725112915039,
          99.63590240478516,
          99.42920684814453,
          101.6339340209961,
          103.24810791015625,
          105.72842407226562,
          104.46858215332031,
          106.77173614501953,
          110.01976776123047,
          110.60047912597656,
          110.98433685302734,
          110.5709457397461,
          112.48040008544922,
          115.34457397460938,
          118.77961730957031,
          120.24614715576172,
          118.09064483642578,
          123.22843170166016,
          121.91938018798828,
          122.29339599609375,
          122.34261322021484,
          121.99811553955078,
          124.0847396850586,
          125.29537200927734,
          129.27174377441406,
          132.92332458496094,
          132.83474731445312,
          130.9351348876953,
          127.7560043334961,
          124.31999969482422,
          127.0999984741211,
          124.48999786376953,
          124.69000244140625,
          127.76000213623047,
          128.22999572753906,
          138.3800048828125,
          142.47999572753906,
          138.22000122070312,
          140.99000549316406,
          141.72000122070312,
          145.27999877929688,
          141.91000366210938,
          146.1300048828125,
          147.11000061035156,
          144.80999755859375,
          146.0800018310547,
          146.6699981689453,
          141.8300018310547,
          138.35000610351562,
          140.3699951171875,
          137.44000244140625,
          142.6199951171875,
          146.88999938964844,
          146.11000061035156,
          148.35000610351562,
          149.4600067138672,
          153.30999755859375,
          154.92999267578125,
          153.10000610351562,
          154.57000732421875,
          156.5800018310547,
          155.1199951171875,
          152.1699981689453,
          149.19000244140625,
          152.61000061035156,
          143.77999877929688,
          139.0399932861328,
          138.32000732421875,
          129.50999450683594,
          130.36000061035156,
          136.6999969482422,
          133.50999450683594,
          125.11000061035156,
          118.43000030517578,
          117.06999969482422,
          110.26000213623047,
          121.75,
          121.19000244140625,
          128.67999267578125,
          126.68000030517578,
          128.8800048828125,
          126.0199966430664,
          127.45999908447266,
          120.06999969482422,
          122.36000061035156,
          124.72000122070312,
          121.69999694824219,
          114.77999877929688,
          114.41999816894531,
          113.97000122070312,
          111.16999816894531,
          114.41999816894531,
          119.94999694824219,
          120.8499984741211,
          121.63999938964844,
          123.83000183105469,
          120.81999969482422,
          124.13999938964844,
          123.26000213623047,
          122.47000122070312,
          127.55999755859375,
          124.87000274658203,
          126.62000274658203,
          124.37999725341797,
          120.44000244140625,
          119,
          121.81999969482422,
          121.41000366210938,
          123.69999694824219,
          127.7300033569336,
          126.23999786376953,
          125.37999725341797,
          121.76000213623047,
          120.7699966430664,
          116.91000366210938,
          113.29000091552734,
          111.55000305175781,
          108.33999633789062,
          109.72000122070312,
          103.9800033569336,
          106.12000274658203,
          102.16000366210938,
          99.4800033569336,
          104.30999755859375,
          103.30999755859375,
          104.79000091552734,
          102.97000122070312,
          106.58999633789062,
          105.83999633789062,
          108.7300033569336,
          109.37999725341797,
          111.43000030517578,
          112.27999877929688,
          112.0999984741211,
          111.25,
          111.30000305175781,
          107.43000030517578,
          109.51000213623047,
          112.69000244140625,
          113.12999725341797,
          112.8499984741211,
          114.97000122070312,
          116.12000274658203,
          118.33000183105469,
          115.08999633789062,
          114.52999877929688,
          118.5,
          118.9000015258789,
          119.51000213623047,
          121.0199966430664,
          123.52999877929688,
          125.27999877929688,
          125.48999786376953,
          130.22999572753906,
          130.8800048828125,
          130.77999877929688,
          129.16000366210938,
          128.14999389648438,
          127.23999786376953,
          124.26000213623047,
          123.30999755859375,
          125.62000274658203,
          124.73999786376953,
          122.2699966430664,
          118.16999816894531,
          116.4000015258789,
          116.52999877929688,
          117.27999877929688,
          120.76000213623047,
          122.66000366210938,
          121.70999908447266,
          122.43000030517578,
          121.5999984741211,
          118.62000274658203,
          121.3499984741211,
          121.5999984741211,
          120,
          121.12000274658203,
          120.22000122070312,
          123.27999877929688,
          125.56999969482422,
          123.01000213623047,
          124.69999694824219,
          121.44000244140625,
          121.30000305175781,
          121.8499984741211,
          120.0999984741211
         ],
         "yaxis": "y"
        },
        {
         "hovertemplate": "option=ARKW<br>Date=%{x}<br>Price=%{y}<extra></extra>",
         "legendgroup": "ARKW",
         "line": {
          "color": "#FF7F0E",
          "dash": "solid"
         },
         "mode": "lines",
         "name": "ARKW",
         "showlegend": true,
         "type": "scattergl",
         "x": [
          "2020-08-17T00:00:00",
          "2020-08-18T00:00:00",
          "2020-08-19T00:00:00",
          "2020-08-20T00:00:00",
          "2020-08-21T00:00:00",
          "2020-08-24T00:00:00",
          "2020-08-25T00:00:00",
          "2020-08-26T00:00:00",
          "2020-08-27T00:00:00",
          "2020-08-28T00:00:00",
          "2020-08-31T00:00:00",
          "2020-09-01T00:00:00",
          "2020-09-02T00:00:00",
          "2020-09-03T00:00:00",
          "2020-09-04T00:00:00",
          "2020-09-08T00:00:00",
          "2020-09-09T00:00:00",
          "2020-09-10T00:00:00",
          "2020-09-11T00:00:00",
          "2020-09-14T00:00:00",
          "2020-09-15T00:00:00",
          "2020-09-16T00:00:00",
          "2020-09-17T00:00:00",
          "2020-09-18T00:00:00",
          "2020-09-21T00:00:00",
          "2020-09-22T00:00:00",
          "2020-09-23T00:00:00",
          "2020-09-24T00:00:00",
          "2020-09-25T00:00:00",
          "2020-09-28T00:00:00",
          "2020-09-29T00:00:00",
          "2020-09-30T00:00:00",
          "2020-10-01T00:00:00",
          "2020-10-02T00:00:00",
          "2020-10-05T00:00:00",
          "2020-10-06T00:00:00",
          "2020-10-07T00:00:00",
          "2020-10-08T00:00:00",
          "2020-10-09T00:00:00",
          "2020-10-12T00:00:00",
          "2020-10-13T00:00:00",
          "2020-10-14T00:00:00",
          "2020-10-15T00:00:00",
          "2020-10-16T00:00:00",
          "2020-10-19T00:00:00",
          "2020-10-20T00:00:00",
          "2020-10-21T00:00:00",
          "2020-10-22T00:00:00",
          "2020-10-23T00:00:00",
          "2020-10-26T00:00:00",
          "2020-10-27T00:00:00",
          "2020-10-28T00:00:00",
          "2020-10-29T00:00:00",
          "2020-10-30T00:00:00",
          "2020-11-02T00:00:00",
          "2020-11-03T00:00:00",
          "2020-11-04T00:00:00",
          "2020-11-05T00:00:00",
          "2020-11-06T00:00:00",
          "2020-11-09T00:00:00",
          "2020-11-10T00:00:00",
          "2020-11-11T00:00:00",
          "2020-11-12T00:00:00",
          "2020-11-13T00:00:00",
          "2020-11-16T00:00:00",
          "2020-11-17T00:00:00",
          "2020-11-18T00:00:00",
          "2020-11-19T00:00:00",
          "2020-11-20T00:00:00",
          "2020-11-23T00:00:00",
          "2020-11-24T00:00:00",
          "2020-11-25T00:00:00",
          "2020-11-27T00:00:00",
          "2020-11-30T00:00:00",
          "2020-12-01T00:00:00",
          "2020-12-02T00:00:00",
          "2020-12-03T00:00:00",
          "2020-12-04T00:00:00",
          "2020-12-07T00:00:00",
          "2020-12-08T00:00:00",
          "2020-12-09T00:00:00",
          "2020-12-10T00:00:00",
          "2020-12-11T00:00:00",
          "2020-12-14T00:00:00",
          "2020-12-15T00:00:00",
          "2020-12-16T00:00:00",
          "2020-12-17T00:00:00",
          "2020-12-18T00:00:00",
          "2020-12-21T00:00:00",
          "2020-12-22T00:00:00",
          "2020-12-23T00:00:00",
          "2020-12-24T00:00:00",
          "2020-12-28T00:00:00",
          "2020-12-29T00:00:00",
          "2020-12-30T00:00:00",
          "2020-12-31T00:00:00",
          "2021-01-04T00:00:00",
          "2021-01-05T00:00:00",
          "2021-01-06T00:00:00",
          "2021-01-07T00:00:00",
          "2021-01-08T00:00:00",
          "2021-01-11T00:00:00",
          "2021-01-12T00:00:00",
          "2021-01-13T00:00:00",
          "2021-01-14T00:00:00",
          "2021-01-15T00:00:00",
          "2021-01-19T00:00:00",
          "2021-01-20T00:00:00",
          "2021-01-21T00:00:00",
          "2021-01-22T00:00:00",
          "2021-01-25T00:00:00",
          "2021-01-26T00:00:00",
          "2021-01-27T00:00:00",
          "2021-01-28T00:00:00",
          "2021-01-29T00:00:00",
          "2021-02-01T00:00:00",
          "2021-02-02T00:00:00",
          "2021-02-03T00:00:00",
          "2021-02-04T00:00:00",
          "2021-02-05T00:00:00",
          "2021-02-08T00:00:00",
          "2021-02-09T00:00:00",
          "2021-02-10T00:00:00",
          "2021-02-11T00:00:00",
          "2021-02-12T00:00:00",
          "2021-02-16T00:00:00",
          "2021-02-17T00:00:00",
          "2021-02-18T00:00:00",
          "2021-02-19T00:00:00",
          "2021-02-22T00:00:00",
          "2021-02-23T00:00:00",
          "2021-02-24T00:00:00",
          "2021-02-25T00:00:00",
          "2021-02-26T00:00:00",
          "2021-03-01T00:00:00",
          "2021-03-02T00:00:00",
          "2021-03-03T00:00:00",
          "2021-03-04T00:00:00",
          "2021-03-05T00:00:00",
          "2021-03-08T00:00:00",
          "2021-03-09T00:00:00",
          "2021-03-10T00:00:00",
          "2021-03-11T00:00:00",
          "2021-03-12T00:00:00",
          "2021-03-15T00:00:00",
          "2021-03-16T00:00:00",
          "2021-03-17T00:00:00",
          "2021-03-18T00:00:00",
          "2021-03-19T00:00:00",
          "2021-03-22T00:00:00",
          "2021-03-23T00:00:00",
          "2021-03-24T00:00:00",
          "2021-03-25T00:00:00",
          "2021-03-26T00:00:00",
          "2021-03-29T00:00:00",
          "2021-03-30T00:00:00",
          "2021-03-31T00:00:00",
          "2021-04-01T00:00:00",
          "2021-04-05T00:00:00",
          "2021-04-06T00:00:00",
          "2021-04-07T00:00:00",
          "2021-04-08T00:00:00",
          "2021-04-09T00:00:00",
          "2021-04-12T00:00:00",
          "2021-04-13T00:00:00",
          "2021-04-14T00:00:00",
          "2021-04-15T00:00:00",
          "2021-04-16T00:00:00",
          "2021-04-19T00:00:00",
          "2021-04-20T00:00:00",
          "2021-04-21T00:00:00",
          "2021-04-22T00:00:00",
          "2021-04-23T00:00:00",
          "2021-04-26T00:00:00",
          "2021-04-27T00:00:00",
          "2021-04-28T00:00:00",
          "2021-04-29T00:00:00",
          "2021-04-30T00:00:00",
          "2021-05-03T00:00:00",
          "2021-05-04T00:00:00",
          "2021-05-05T00:00:00",
          "2021-05-06T00:00:00",
          "2021-05-07T00:00:00",
          "2021-05-10T00:00:00",
          "2021-05-11T00:00:00",
          "2021-05-12T00:00:00",
          "2021-05-13T00:00:00",
          "2021-05-14T00:00:00",
          "2021-05-17T00:00:00",
          "2021-05-18T00:00:00",
          "2021-05-19T00:00:00",
          "2021-05-20T00:00:00",
          "2021-05-21T00:00:00",
          "2021-05-24T00:00:00",
          "2021-05-25T00:00:00",
          "2021-05-26T00:00:00",
          "2021-05-27T00:00:00",
          "2021-05-28T00:00:00",
          "2021-06-01T00:00:00",
          "2021-06-02T00:00:00",
          "2021-06-03T00:00:00",
          "2021-06-04T00:00:00",
          "2021-06-07T00:00:00",
          "2021-06-08T00:00:00",
          "2021-06-09T00:00:00",
          "2021-06-10T00:00:00",
          "2021-06-11T00:00:00",
          "2021-06-14T00:00:00",
          "2021-06-15T00:00:00",
          "2021-06-16T00:00:00",
          "2021-06-17T00:00:00",
          "2021-06-18T00:00:00",
          "2021-06-21T00:00:00",
          "2021-06-22T00:00:00",
          "2021-06-23T00:00:00",
          "2021-06-24T00:00:00",
          "2021-06-25T00:00:00",
          "2021-06-28T00:00:00",
          "2021-06-29T00:00:00",
          "2021-06-30T00:00:00",
          "2021-07-01T00:00:00",
          "2021-07-02T00:00:00",
          "2021-07-06T00:00:00",
          "2021-07-07T00:00:00",
          "2021-07-08T00:00:00",
          "2021-07-09T00:00:00",
          "2021-07-12T00:00:00",
          "2021-07-13T00:00:00",
          "2021-07-14T00:00:00",
          "2021-07-15T00:00:00",
          "2021-07-16T00:00:00",
          "2021-07-19T00:00:00",
          "2021-07-20T00:00:00",
          "2021-07-21T00:00:00",
          "2021-07-22T00:00:00",
          "2021-07-23T00:00:00",
          "2021-07-26T00:00:00",
          "2021-07-27T00:00:00",
          "2021-07-28T00:00:00",
          "2021-07-29T00:00:00",
          "2021-07-30T00:00:00",
          "2021-08-02T00:00:00",
          "2021-08-03T00:00:00",
          "2021-08-04T00:00:00",
          "2021-08-05T00:00:00",
          "2021-08-06T00:00:00",
          "2021-08-09T00:00:00",
          "2021-08-10T00:00:00",
          "2021-08-11T00:00:00",
          "2021-08-12T00:00:00",
          "2021-08-13T00:00:00"
         ],
         "xaxis": "x",
         "y": [
          100.94957733154297,
          102.14407348632812,
          101.77880859375,
          103.88151550292969,
          103.69395446777344,
          103.28919982910156,
          104.22703552246094,
          107.85987091064453,
          107.70191955566406,
          108.88655090332031,
          111.02873992919922,
          113.97054290771484,
          113.00311279296875,
          105.2635726928711,
          102.81535339355469,
          97.9781494140625,
          100.83111572265625,
          99.5576400756836,
          98.72840881347656,
          101.76893615722656,
          104.42446899414062,
          103.69395446777344,
          101.72945404052734,
          101.81829833984375,
          103.98023223876953,
          105.5992202758789,
          101.81829833984375,
          101.68009185791016,
          104.64164733886719,
          106.45806884765625,
          106.8035888671875,
          107.20832824707031,
          110.62398529052734,
          108.64962005615234,
          111.12745666503906,
          110.39694213867188,
          112.90438842773438,
          114.43452453613281,
          116.32991790771484,
          117.42569732666016,
          119.66661071777344,
          118.82750701904297,
          117.65274810791016,
          116.79389953613281,
          116.47799682617188,
          115.8363265991211,
          116.004150390625,
          115.8363265991211,
          117.02095031738281,
          114.73068237304688,
          116.6754379272461,
          113.14131164550781,
          115.50068664550781,
          109.39000701904297,
          109.76514434814453,
          111.77899932861328,
          117.24800109863281,
          120.37738800048828,
          123.55612182617188,
          115.98440551757812,
          111.55194854736328,
          116.11274719238281,
          116.56684875488281,
          116.86299896240234,
          116.9321060180664,
          118.93609619140625,
          119.36058807373047,
          122.53931427001953,
          124.83946228027344,
          127.34690856933594,
          127.55422973632812,
          131.0192413330078,
          132.88502502441406,
          134.3657989501953,
          133.4674530029297,
          132.91464233398438,
          134.563232421875,
          137.28787231445312,
          140.14083862304688,
          141.8190460205078,
          137.85055541992188,
          142.2139129638672,
          141.92764282226562,
          142.56930541992188,
          142.83584594726562,
          143.70457458496094,
          147.5447235107422,
          148.8971710205078,
          150.081787109375,
          151.96731567382812,
          150.63461303710938,
          149.44012451171875,
          145.906005859375,
          145.08999633789062,
          147.61000061035156,
          146.36000061035156,
          145.77000427246094,
          149.7100067138672,
          148.0399932861328,
          155.27000427246094,
          159.38999938964844,
          154.97000122070312,
          158.7100067138672,
          159.39999389648438,
          159.77000427246094,
          156.6699981689453,
          160.41000366210938,
          163.8300018310547,
          163.42999267578125,
          164.80999755859375,
          166.1699981689453,
          163.39999389648438,
          158.57000732421875,
          160.97999572753906,
          158.80999755859375,
          164.50999450683594,
          169.5500030517578,
          171.0800018310547,
          173.63999938964844,
          175.8000030517578,
          179.60000610351562,
          183,
          182.3300018310547,
          185.13999938964844,
          187.47000122070312,
          187.44000244140625,
          184.89999389648438,
          181.36000061035156,
          185.0500030517578,
          175.2899932861328,
          170.16000366210938,
          170.5399932861328,
          160.25999450683594,
          160.88999938964844,
          168.3300018310547,
          164.38999938964844,
          156.14999389648438,
          147.5,
          146.07000732421875,
          138.36000061035156,
          151.14999389648438,
          150.60000610351562,
          159.39999389648438,
          157.47999572753906,
          160.74000549316406,
          157.92999267578125,
          159.80999755859375,
          150.7100067138672,
          153.33999633789062,
          154.3699951171875,
          151.25999450683594,
          142.58999633789062,
          141.99000549316406,
          142.42999267578125,
          139.49000549316406,
          142.5399932861328,
          147.44000244140625,
          150,
          150.5500030517578,
          153.35000610351562,
          150.63999938964844,
          154.72999572753906,
          154.2899932861328,
          154.1999969482422,
          160.0800018310547,
          155.3000030517578,
          157.64999389648438,
          155.41000366210938,
          150.27999877929688,
          147.72000122070312,
          150.25999450683594,
          148.5,
          152,
          156.74000549316406,
          155.11000061035156,
          154.19000244140625,
          150.10000610351562,
          148.57000732421875,
          145.25,
          141.30999755859375,
          138.72999572753906,
          134.9199981689453,
          137.25,
          130.0399932861328,
          133.00999450683594,
          127.75,
          123.48999786376953,
          128.60000610351562,
          127.30999755859375,
          128.57000732421875,
          127.06999969482422,
          131.3000030517578,
          130.52000427246094,
          134.47999572753906,
          134.89999389648438,
          137.3699951171875,
          138.58999633789062,
          137.61000061035156,
          138.0500030517578,
          138.49000549316406,
          134.52000427246094,
          135.74000549316406,
          138.27000427246094,
          138.4499969482422,
          137.69000244140625,
          139.3000030517578,
          140.4600067138672,
          142.64999389648438,
          139.61000061035156,
          139.55999755859375,
          143.41000366210938,
          143.92999267578125,
          143.5399932861328,
          145.99000549316406,
          148.7899932861328,
          152.10000610351562,
          151.5500030517578,
          155.17999267578125,
          155.9199981689453,
          154.07000732421875,
          151.25999450683594,
          150.69000244140625,
          150.72999572753906,
          148.3800048828125,
          146.58999633789062,
          148.89999389648438,
          148.80999755859375,
          147.1699981689453,
          143.1300048828125,
          140.97999572753906,
          140.30999755859375,
          140.61000061035156,
          143.7100067138672,
          146.19000244140625,
          146.27000427246094,
          148.19000244140625,
          148.77999877929688,
          145.72999572753906,
          148.6999969482422,
          149.19000244140625,
          147.5500030517578,
          148.8800048828125,
          147.41000366210938,
          150.0500030517578,
          151.60000610351562,
          149.3300018310547,
          152.3800048828125,
          149.92999267578125,
          150.0500030517578,
          150.17999267578125,
          149.3000030517578
         ],
         "yaxis": "y"
        },
        {
         "hovertemplate": "option=ARKF<br>Date=%{x}<br>Price=%{y}<extra></extra>",
         "legendgroup": "ARKF",
         "line": {
          "color": "#2CA02C",
          "dash": "solid"
         },
         "mode": "lines",
         "name": "ARKF",
         "showlegend": true,
         "type": "scattergl",
         "x": [
          "2020-08-17T00:00:00",
          "2020-08-18T00:00:00",
          "2020-08-19T00:00:00",
          "2020-08-20T00:00:00",
          "2020-08-21T00:00:00",
          "2020-08-24T00:00:00",
          "2020-08-25T00:00:00",
          "2020-08-26T00:00:00",
          "2020-08-27T00:00:00",
          "2020-08-28T00:00:00",
          "2020-08-31T00:00:00",
          "2020-09-01T00:00:00",
          "2020-09-02T00:00:00",
          "2020-09-03T00:00:00",
          "2020-09-04T00:00:00",
          "2020-09-08T00:00:00",
          "2020-09-09T00:00:00",
          "2020-09-10T00:00:00",
          "2020-09-11T00:00:00",
          "2020-09-14T00:00:00",
          "2020-09-15T00:00:00",
          "2020-09-16T00:00:00",
          "2020-09-17T00:00:00",
          "2020-09-18T00:00:00",
          "2020-09-21T00:00:00",
          "2020-09-22T00:00:00",
          "2020-09-23T00:00:00",
          "2020-09-24T00:00:00",
          "2020-09-25T00:00:00",
          "2020-09-28T00:00:00",
          "2020-09-29T00:00:00",
          "2020-09-30T00:00:00",
          "2020-10-01T00:00:00",
          "2020-10-02T00:00:00",
          "2020-10-05T00:00:00",
          "2020-10-06T00:00:00",
          "2020-10-07T00:00:00",
          "2020-10-08T00:00:00",
          "2020-10-09T00:00:00",
          "2020-10-12T00:00:00",
          "2020-10-13T00:00:00",
          "2020-10-14T00:00:00",
          "2020-10-15T00:00:00",
          "2020-10-16T00:00:00",
          "2020-10-19T00:00:00",
          "2020-10-20T00:00:00",
          "2020-10-21T00:00:00",
          "2020-10-22T00:00:00",
          "2020-10-23T00:00:00",
          "2020-10-26T00:00:00",
          "2020-10-27T00:00:00",
          "2020-10-28T00:00:00",
          "2020-10-29T00:00:00",
          "2020-10-30T00:00:00",
          "2020-11-02T00:00:00",
          "2020-11-03T00:00:00",
          "2020-11-04T00:00:00",
          "2020-11-05T00:00:00",
          "2020-11-06T00:00:00",
          "2020-11-09T00:00:00",
          "2020-11-10T00:00:00",
          "2020-11-11T00:00:00",
          "2020-11-12T00:00:00",
          "2020-11-13T00:00:00",
          "2020-11-16T00:00:00",
          "2020-11-17T00:00:00",
          "2020-11-18T00:00:00",
          "2020-11-19T00:00:00",
          "2020-11-20T00:00:00",
          "2020-11-23T00:00:00",
          "2020-11-24T00:00:00",
          "2020-11-25T00:00:00",
          "2020-11-27T00:00:00",
          "2020-11-30T00:00:00",
          "2020-12-01T00:00:00",
          "2020-12-02T00:00:00",
          "2020-12-03T00:00:00",
          "2020-12-04T00:00:00",
          "2020-12-07T00:00:00",
          "2020-12-08T00:00:00",
          "2020-12-09T00:00:00",
          "2020-12-10T00:00:00",
          "2020-12-11T00:00:00",
          "2020-12-14T00:00:00",
          "2020-12-15T00:00:00",
          "2020-12-16T00:00:00",
          "2020-12-17T00:00:00",
          "2020-12-18T00:00:00",
          "2020-12-21T00:00:00",
          "2020-12-22T00:00:00",
          "2020-12-23T00:00:00",
          "2020-12-24T00:00:00",
          "2020-12-28T00:00:00",
          "2020-12-29T00:00:00",
          "2020-12-30T00:00:00",
          "2020-12-31T00:00:00",
          "2021-01-04T00:00:00",
          "2021-01-05T00:00:00",
          "2021-01-06T00:00:00",
          "2021-01-07T00:00:00",
          "2021-01-08T00:00:00",
          "2021-01-11T00:00:00",
          "2021-01-12T00:00:00",
          "2021-01-13T00:00:00",
          "2021-01-14T00:00:00",
          "2021-01-15T00:00:00",
          "2021-01-19T00:00:00",
          "2021-01-20T00:00:00",
          "2021-01-21T00:00:00",
          "2021-01-22T00:00:00",
          "2021-01-25T00:00:00",
          "2021-01-26T00:00:00",
          "2021-01-27T00:00:00",
          "2021-01-28T00:00:00",
          "2021-01-29T00:00:00",
          "2021-02-01T00:00:00",
          "2021-02-02T00:00:00",
          "2021-02-03T00:00:00",
          "2021-02-04T00:00:00",
          "2021-02-05T00:00:00",
          "2021-02-08T00:00:00",
          "2021-02-09T00:00:00",
          "2021-02-10T00:00:00",
          "2021-02-11T00:00:00",
          "2021-02-12T00:00:00",
          "2021-02-16T00:00:00",
          "2021-02-17T00:00:00",
          "2021-02-18T00:00:00",
          "2021-02-19T00:00:00",
          "2021-02-22T00:00:00",
          "2021-02-23T00:00:00",
          "2021-02-24T00:00:00",
          "2021-02-25T00:00:00",
          "2021-02-26T00:00:00",
          "2021-03-01T00:00:00",
          "2021-03-02T00:00:00",
          "2021-03-03T00:00:00",
          "2021-03-04T00:00:00",
          "2021-03-05T00:00:00",
          "2021-03-08T00:00:00",
          "2021-03-09T00:00:00",
          "2021-03-10T00:00:00",
          "2021-03-11T00:00:00",
          "2021-03-12T00:00:00",
          "2021-03-15T00:00:00",
          "2021-03-16T00:00:00",
          "2021-03-17T00:00:00",
          "2021-03-18T00:00:00",
          "2021-03-19T00:00:00",
          "2021-03-22T00:00:00",
          "2021-03-23T00:00:00",
          "2021-03-24T00:00:00",
          "2021-03-25T00:00:00",
          "2021-03-26T00:00:00",
          "2021-03-29T00:00:00",
          "2021-03-30T00:00:00",
          "2021-03-31T00:00:00",
          "2021-04-01T00:00:00",
          "2021-04-05T00:00:00",
          "2021-04-06T00:00:00",
          "2021-04-07T00:00:00",
          "2021-04-08T00:00:00",
          "2021-04-09T00:00:00",
          "2021-04-12T00:00:00",
          "2021-04-13T00:00:00",
          "2021-04-14T00:00:00",
          "2021-04-15T00:00:00",
          "2021-04-16T00:00:00",
          "2021-04-19T00:00:00",
          "2021-04-20T00:00:00",
          "2021-04-21T00:00:00",
          "2021-04-22T00:00:00",
          "2021-04-23T00:00:00",
          "2021-04-26T00:00:00",
          "2021-04-27T00:00:00",
          "2021-04-28T00:00:00",
          "2021-04-29T00:00:00",
          "2021-04-30T00:00:00",
          "2021-05-03T00:00:00",
          "2021-05-04T00:00:00",
          "2021-05-05T00:00:00",
          "2021-05-06T00:00:00",
          "2021-05-07T00:00:00",
          "2021-05-10T00:00:00",
          "2021-05-11T00:00:00",
          "2021-05-12T00:00:00",
          "2021-05-13T00:00:00",
          "2021-05-14T00:00:00",
          "2021-05-17T00:00:00",
          "2021-05-18T00:00:00",
          "2021-05-19T00:00:00",
          "2021-05-20T00:00:00",
          "2021-05-21T00:00:00",
          "2021-05-24T00:00:00",
          "2021-05-25T00:00:00",
          "2021-05-26T00:00:00",
          "2021-05-27T00:00:00",
          "2021-05-28T00:00:00",
          "2021-06-01T00:00:00",
          "2021-06-02T00:00:00",
          "2021-06-03T00:00:00",
          "2021-06-04T00:00:00",
          "2021-06-07T00:00:00",
          "2021-06-08T00:00:00",
          "2021-06-09T00:00:00",
          "2021-06-10T00:00:00",
          "2021-06-11T00:00:00",
          "2021-06-14T00:00:00",
          "2021-06-15T00:00:00",
          "2021-06-16T00:00:00",
          "2021-06-17T00:00:00",
          "2021-06-18T00:00:00",
          "2021-06-21T00:00:00",
          "2021-06-22T00:00:00",
          "2021-06-23T00:00:00",
          "2021-06-24T00:00:00",
          "2021-06-25T00:00:00",
          "2021-06-28T00:00:00",
          "2021-06-29T00:00:00",
          "2021-06-30T00:00:00",
          "2021-07-01T00:00:00",
          "2021-07-02T00:00:00",
          "2021-07-06T00:00:00",
          "2021-07-07T00:00:00",
          "2021-07-08T00:00:00",
          "2021-07-09T00:00:00",
          "2021-07-12T00:00:00",
          "2021-07-13T00:00:00",
          "2021-07-14T00:00:00",
          "2021-07-15T00:00:00",
          "2021-07-16T00:00:00",
          "2021-07-19T00:00:00",
          "2021-07-20T00:00:00",
          "2021-07-21T00:00:00",
          "2021-07-22T00:00:00",
          "2021-07-23T00:00:00",
          "2021-07-26T00:00:00",
          "2021-07-27T00:00:00",
          "2021-07-28T00:00:00",
          "2021-07-29T00:00:00",
          "2021-07-30T00:00:00",
          "2021-08-02T00:00:00",
          "2021-08-03T00:00:00",
          "2021-08-04T00:00:00",
          "2021-08-05T00:00:00",
          "2021-08-06T00:00:00",
          "2021-08-09T00:00:00",
          "2021-08-10T00:00:00",
          "2021-08-11T00:00:00",
          "2021-08-12T00:00:00",
          "2021-08-13T00:00:00"
         ],
         "xaxis": "x",
         "y": [
          37.87741470336914,
          38.315765380859375,
          38.265953063964844,
          38.5947151184082,
          38.624603271484375,
          38.85374069213867,
          39.27216339111328,
          39.84002685546875,
          40.07912826538086,
          40.22856521606445,
          40.21860122680664,
          41.45395278930664,
          41.414100646972656,
          39.29208755493164,
          38.36557388305664,
          36.84131622314453,
          37.70804977416992,
          37.15015411376953,
          37.010677337646484,
          37.897342681884766,
          38.61463928222656,
          38.29583740234375,
          37.698089599609375,
          37.57854080200195,
          37.92722702026367,
          38.73419189453125,
          37.90730285644531,
          37.87741470336914,
          38.52497482299805,
          39.19246292114258,
          39.282127380371094,
          39.501304626464844,
          40.487586975097656,
          40.15882873535156,
          40.9359016418457,
          40.6270637512207,
          41.46391296386719,
          41.88233947753906,
          42.48008728027344,
          43.09776306152344,
          43.44645309448242,
          42.858665466308594,
          42.649452209472656,
          42.48008728027344,
          42.23102569580078,
          42.48008728027344,
          42.59963607788086,
          42.48008728027344,
          42.81881332397461,
          41.81260299682617,
          42.45020294189453,
          41.40414047241211,
          42.50997543334961,
          40.73665237426758,
          40.73665237426758,
          41.30451202392578,
          43.52614974975586,
          44.52239990234375,
          45.428985595703125,
          43.5062255859375,
          41.722938537597656,
          43.15753936767578,
          43.07783889770508,
          43.61581039428711,
          43.7353630065918,
          43.725399017333984,
          43.48630142211914,
          44.323150634765625,
          44.85116195678711,
          45.24966049194336,
          45.080299377441406,
          45.98688888549805,
          46.75400161743164,
          46.494972229003906,
          46.305686950683594,
          46.425235748291016,
          46.70418930053711,
          47.04291534423828,
          47.55099868774414,
          47.99931335449219,
          46.94328689575195,
          47.949501037597656,
          48.01923751831055,
          48.10890197753906,
          48.607025146484375,
          49.1948127746582,
          50.290687561035156,
          50.220947265625,
          50.240875244140625,
          51.09764862060547,
          50.63937759399414,
          50.10139846801758,
          49.14500045776367,
          49.25,
          49.880001068115234,
          49.709999084472656,
          49.29999923706055,
          50.36000061035156,
          49.31999969482422,
          51.08000183105469,
          51.959999084472656,
          50.959999084472656,
          51.95000076293945,
          52.18000030517578,
          52.290000915527344,
          51.70000076293945,
          53.11000061035156,
          54.13999938964844,
          54.13999938964844,
          54.58000183105469,
          55.06999969482422,
          53.9900016784668,
          51.47999954223633,
          52.7599983215332,
          52.130001068115234,
          54.13999938964844,
          55.869998931884766,
          56.119998931884766,
          56.97999954223633,
          57.790000915527344,
          58.95000076293945,
          60.2599983215332,
          60.369998931884766,
          61.939998626708984,
          62.52000045776367,
          63.599998474121094,
          63.06999969482422,
          61.81999969482422,
          62.63999938964844,
          59.88999938964844,
          58.540000915527344,
          57.59000015258789,
          54.970001220703125,
          55.279998779296875,
          57.86000061035156,
          57.08000183105469,
          54.52000045776367,
          51.369998931884766,
          50.959999084472656,
          48.22999954223633,
          51.939998626708984,
          51.68000030517578,
          54.95000076293945,
          54.27000045776367,
          55.189998626708984,
          54.95000076293945,
          55.41999816894531,
          52.40999984741211,
          53.25,
          53.349998474121094,
          52.2400016784668,
          49.439998626708984,
          49.47999954223633,
          49.959999084472656,
          48.779998779296875,
          49.720001220703125,
          51.099998474121094,
          52.619998931884766,
          52.790000915527344,
          53.83000183105469,
          53.06999969482422,
          54.79999923706055,
          54.83000183105469,
          54.40999984741211,
          55.18000030517578,
          53.709999084472656,
          54.689998626708984,
          53.81999969482422,
          52.63999938964844,
          51.84000015258789,
          52.5,
          52.31999969482422,
          53.27000045776367,
          54.2599983215332,
          54.18000030517578,
          54.220001220703125,
          53.279998779296875,
          52.25,
          51.58000183105469,
          50.20000076293945,
          49.79999923706055,
          48.810001373291016,
          49.40999984741211,
          47.02000045776367,
          47.7400016784668,
          45.849998474121094,
          44.869998931884766,
          46.43000030517578,
          46.22999954223633,
          46.65999984741211,
          46.58000183105469,
          48.09000015258789,
          47.7400016784668,
          48.689998626708984,
          49.060001373291016,
          49.689998626708984,
          49.970001220703125,
          49.83000183105469,
          50.43000030517578,
          50.2599983215332,
          48.83000183105469,
          49.4900016784668,
          49.86000061035156,
          49.86000061035156,
          49.619998931884766,
          50.119998931884766,
          50.4900016784668,
          51.279998779296875,
          50.56999969482422,
          50.439998626708984,
          52.029998779296875,
          52.040000915527344,
          51.7400016784668,
          52.22999954223633,
          52.88999938964844,
          53.81999969482422,
          53.70000076293945,
          54.540000915527344,
          54.779998779296875,
          54.11000061035156,
          53.38999938964844,
          53.31999969482422,
          53.220001220703125,
          52.66999816894531,
          51.66999816894531,
          52.90999984741211,
          52.66999816894531,
          52.40999984741211,
          51.52000045776367,
          51.18000030517578,
          50.790000915527344,
          50.56999969482422,
          51.720001220703125,
          52.81999969482422,
          53.16999816894531,
          53.47999954223633,
          52.2599983215332,
          50.75,
          52.220001220703125,
          51.939998626708984,
          50.68000030517578,
          51.52000045776367,
          51.220001220703125,
          52.279998779296875,
          53.189998626708984,
          52.400001525878906,
          53.27000045776367,
          52.68000030517578,
          52.54999923706055,
          52.5,
          52.209999084472656
         ],
         "yaxis": "y"
        },
        {
         "hovertemplate": "option=OGIG<br>Date=%{x}<br>Price=%{y}<extra></extra>",
         "legendgroup": "OGIG",
         "line": {
          "color": "#D62728",
          "dash": "solid"
         },
         "mode": "lines",
         "name": "OGIG",
         "showlegend": true,
         "type": "scattergl",
         "x": [
          "2020-08-17T00:00:00",
          "2020-08-18T00:00:00",
          "2020-08-19T00:00:00",
          "2020-08-20T00:00:00",
          "2020-08-21T00:00:00",
          "2020-08-24T00:00:00",
          "2020-08-25T00:00:00",
          "2020-08-26T00:00:00",
          "2020-08-27T00:00:00",
          "2020-08-28T00:00:00",
          "2020-08-31T00:00:00",
          "2020-09-01T00:00:00",
          "2020-09-02T00:00:00",
          "2020-09-03T00:00:00",
          "2020-09-04T00:00:00",
          "2020-09-08T00:00:00",
          "2020-09-09T00:00:00",
          "2020-09-10T00:00:00",
          "2020-09-11T00:00:00",
          "2020-09-14T00:00:00",
          "2020-09-15T00:00:00",
          "2020-09-16T00:00:00",
          "2020-09-17T00:00:00",
          "2020-09-18T00:00:00",
          "2020-09-21T00:00:00",
          "2020-09-22T00:00:00",
          "2020-09-23T00:00:00",
          "2020-09-24T00:00:00",
          "2020-09-25T00:00:00",
          "2020-09-28T00:00:00",
          "2020-09-29T00:00:00",
          "2020-09-30T00:00:00",
          "2020-10-01T00:00:00",
          "2020-10-02T00:00:00",
          "2020-10-05T00:00:00",
          "2020-10-06T00:00:00",
          "2020-10-07T00:00:00",
          "2020-10-08T00:00:00",
          "2020-10-09T00:00:00",
          "2020-10-12T00:00:00",
          "2020-10-13T00:00:00",
          "2020-10-14T00:00:00",
          "2020-10-15T00:00:00",
          "2020-10-16T00:00:00",
          "2020-10-19T00:00:00",
          "2020-10-20T00:00:00",
          "2020-10-21T00:00:00",
          "2020-10-22T00:00:00",
          "2020-10-23T00:00:00",
          "2020-10-26T00:00:00",
          "2020-10-27T00:00:00",
          "2020-10-28T00:00:00",
          "2020-10-29T00:00:00",
          "2020-10-30T00:00:00",
          "2020-11-02T00:00:00",
          "2020-11-03T00:00:00",
          "2020-11-04T00:00:00",
          "2020-11-05T00:00:00",
          "2020-11-06T00:00:00",
          "2020-11-09T00:00:00",
          "2020-11-10T00:00:00",
          "2020-11-11T00:00:00",
          "2020-11-12T00:00:00",
          "2020-11-13T00:00:00",
          "2020-11-16T00:00:00",
          "2020-11-17T00:00:00",
          "2020-11-18T00:00:00",
          "2020-11-19T00:00:00",
          "2020-11-20T00:00:00",
          "2020-11-23T00:00:00",
          "2020-11-24T00:00:00",
          "2020-11-25T00:00:00",
          "2020-11-27T00:00:00",
          "2020-11-30T00:00:00",
          "2020-12-01T00:00:00",
          "2020-12-02T00:00:00",
          "2020-12-03T00:00:00",
          "2020-12-04T00:00:00",
          "2020-12-07T00:00:00",
          "2020-12-08T00:00:00",
          "2020-12-09T00:00:00",
          "2020-12-10T00:00:00",
          "2020-12-11T00:00:00",
          "2020-12-14T00:00:00",
          "2020-12-15T00:00:00",
          "2020-12-16T00:00:00",
          "2020-12-17T00:00:00",
          "2020-12-18T00:00:00",
          "2020-12-21T00:00:00",
          "2020-12-22T00:00:00",
          "2020-12-23T00:00:00",
          "2020-12-24T00:00:00",
          "2020-12-28T00:00:00",
          "2020-12-29T00:00:00",
          "2020-12-30T00:00:00",
          "2020-12-31T00:00:00",
          "2021-01-04T00:00:00",
          "2021-01-05T00:00:00",
          "2021-01-06T00:00:00",
          "2021-01-07T00:00:00",
          "2021-01-08T00:00:00",
          "2021-01-11T00:00:00",
          "2021-01-12T00:00:00",
          "2021-01-13T00:00:00",
          "2021-01-14T00:00:00",
          "2021-01-15T00:00:00",
          "2021-01-19T00:00:00",
          "2021-01-20T00:00:00",
          "2021-01-21T00:00:00",
          "2021-01-22T00:00:00",
          "2021-01-25T00:00:00",
          "2021-01-26T00:00:00",
          "2021-01-27T00:00:00",
          "2021-01-28T00:00:00",
          "2021-01-29T00:00:00",
          "2021-02-01T00:00:00",
          "2021-02-02T00:00:00",
          "2021-02-03T00:00:00",
          "2021-02-04T00:00:00",
          "2021-02-05T00:00:00",
          "2021-02-08T00:00:00",
          "2021-02-09T00:00:00",
          "2021-02-10T00:00:00",
          "2021-02-11T00:00:00",
          "2021-02-12T00:00:00",
          "2021-02-16T00:00:00",
          "2021-02-17T00:00:00",
          "2021-02-18T00:00:00",
          "2021-02-19T00:00:00",
          "2021-02-22T00:00:00",
          "2021-02-23T00:00:00",
          "2021-02-24T00:00:00",
          "2021-02-25T00:00:00",
          "2021-02-26T00:00:00",
          "2021-03-01T00:00:00",
          "2021-03-02T00:00:00",
          "2021-03-03T00:00:00",
          "2021-03-04T00:00:00",
          "2021-03-05T00:00:00",
          "2021-03-08T00:00:00",
          "2021-03-09T00:00:00",
          "2021-03-10T00:00:00",
          "2021-03-11T00:00:00",
          "2021-03-12T00:00:00",
          "2021-03-15T00:00:00",
          "2021-03-16T00:00:00",
          "2021-03-17T00:00:00",
          "2021-03-18T00:00:00",
          "2021-03-19T00:00:00",
          "2021-03-22T00:00:00",
          "2021-03-23T00:00:00",
          "2021-03-24T00:00:00",
          "2021-03-25T00:00:00",
          "2021-03-26T00:00:00",
          "2021-03-29T00:00:00",
          "2021-03-30T00:00:00",
          "2021-03-31T00:00:00",
          "2021-04-01T00:00:00",
          "2021-04-05T00:00:00",
          "2021-04-06T00:00:00",
          "2021-04-07T00:00:00",
          "2021-04-08T00:00:00",
          "2021-04-09T00:00:00",
          "2021-04-12T00:00:00",
          "2021-04-13T00:00:00",
          "2021-04-14T00:00:00",
          "2021-04-15T00:00:00",
          "2021-04-16T00:00:00",
          "2021-04-19T00:00:00",
          "2021-04-20T00:00:00",
          "2021-04-21T00:00:00",
          "2021-04-22T00:00:00",
          "2021-04-23T00:00:00",
          "2021-04-26T00:00:00",
          "2021-04-27T00:00:00",
          "2021-04-28T00:00:00",
          "2021-04-29T00:00:00",
          "2021-04-30T00:00:00",
          "2021-05-03T00:00:00",
          "2021-05-04T00:00:00",
          "2021-05-05T00:00:00",
          "2021-05-06T00:00:00",
          "2021-05-07T00:00:00",
          "2021-05-10T00:00:00",
          "2021-05-11T00:00:00",
          "2021-05-12T00:00:00",
          "2021-05-13T00:00:00",
          "2021-05-14T00:00:00",
          "2021-05-17T00:00:00",
          "2021-05-18T00:00:00",
          "2021-05-19T00:00:00",
          "2021-05-20T00:00:00",
          "2021-05-21T00:00:00",
          "2021-05-24T00:00:00",
          "2021-05-25T00:00:00",
          "2021-05-26T00:00:00",
          "2021-05-27T00:00:00",
          "2021-05-28T00:00:00",
          "2021-06-01T00:00:00",
          "2021-06-02T00:00:00",
          "2021-06-03T00:00:00",
          "2021-06-04T00:00:00",
          "2021-06-07T00:00:00",
          "2021-06-08T00:00:00",
          "2021-06-09T00:00:00",
          "2021-06-10T00:00:00",
          "2021-06-11T00:00:00",
          "2021-06-14T00:00:00",
          "2021-06-15T00:00:00",
          "2021-06-16T00:00:00",
          "2021-06-17T00:00:00",
          "2021-06-18T00:00:00",
          "2021-06-21T00:00:00",
          "2021-06-22T00:00:00",
          "2021-06-23T00:00:00",
          "2021-06-24T00:00:00",
          "2021-06-25T00:00:00",
          "2021-06-28T00:00:00",
          "2021-06-29T00:00:00",
          "2021-06-30T00:00:00",
          "2021-07-01T00:00:00",
          "2021-07-02T00:00:00",
          "2021-07-06T00:00:00",
          "2021-07-07T00:00:00",
          "2021-07-08T00:00:00",
          "2021-07-09T00:00:00",
          "2021-07-12T00:00:00",
          "2021-07-13T00:00:00",
          "2021-07-14T00:00:00",
          "2021-07-15T00:00:00",
          "2021-07-16T00:00:00",
          "2021-07-19T00:00:00",
          "2021-07-20T00:00:00",
          "2021-07-21T00:00:00",
          "2021-07-22T00:00:00",
          "2021-07-23T00:00:00",
          "2021-07-26T00:00:00",
          "2021-07-27T00:00:00",
          "2021-07-28T00:00:00",
          "2021-07-29T00:00:00",
          "2021-07-30T00:00:00",
          "2021-08-02T00:00:00",
          "2021-08-03T00:00:00",
          "2021-08-04T00:00:00",
          "2021-08-05T00:00:00",
          "2021-08-06T00:00:00",
          "2021-08-09T00:00:00",
          "2021-08-10T00:00:00",
          "2021-08-11T00:00:00",
          "2021-08-12T00:00:00",
          "2021-08-13T00:00:00"
         ],
         "xaxis": "x",
         "y": [
          41.41999816894531,
          42.20000076293945,
          42.099998474121094,
          42.779998779296875,
          42.72999954223633,
          42.86000061035156,
          43.5,
          45.119998931884766,
          44.790000915527344,
          45.06999969482422,
          45.11000061035156,
          47.119998931884766,
          47.04999923706055,
          44.209999084472656,
          43.11000061035156,
          41.560001373291016,
          42.63999938964844,
          41.95000076293945,
          41.68000030517578,
          42.244998931884766,
          42.83000183105469,
          42.369998931884766,
          41.79999923706055,
          41.81999969482422,
          42.4900016784668,
          43.38999938964844,
          42.54999923706055,
          42.2400016784668,
          43.08000183105469,
          43.63999938964844,
          43.689998626708984,
          44.09000015258789,
          45.189998626708984,
          44.45000076293945,
          45.209999084472656,
          44.90999984741211,
          45.880001068115234,
          46.04999923706055,
          47,
          47.810001373291016,
          48.33000183105469,
          47.72999954223633,
          47.220001220703125,
          47.400001525878906,
          47.150001525878906,
          47.06999969482422,
          46.86000061035156,
          46.78499984741211,
          47.21500015258789,
          46.5,
          47.43000030517578,
          46.11000061035156,
          46.810001373291016,
          44.9900016784668,
          44.959999084472656,
          45.5,
          48.16999816894531,
          49.58000183105469,
          50.28499984741211,
          47.20000076293945,
          45.439998626708984,
          46.869998931884766,
          47.349998474121094,
          47.720001220703125,
          47.43000030517578,
          47.619998931884766,
          47.40999984741211,
          48.595001220703125,
          49.36000061035156,
          49.310001373291016,
          49.439998626708984,
          49.88999938964844,
          50.93000030517578,
          50.91999816894531,
          50.470001220703125,
          50.31999969482422,
          50.94499969482422,
          51.22999954223633,
          51.59000015258789,
          52.43000030517578,
          51.130001068115234,
          52.5,
          52.810001373291016,
          52.619998931884766,
          52.8849983215332,
          53.81999969482422,
          54.86000061035156,
          55.2599983215332,
          55.279998779296875,
          55.709999084472656,
          55.060001373291016,
          54.630001068115234,
          53.59000015258789,
          54.15999984741211,
          54.689998626708984,
          54.279998779296875,
          53.810001373291016,
          55.150001525878906,
          53.599998474121094,
          54.959999084472656,
          56.18000030517578,
          55.18000030517578,
          55.790000915527344,
          55.95000076293945,
          56.06999969482422,
          55.3650016784668,
          57.040000915527344,
          58.380001068115234,
          58.6349983215332,
          59.025001525878906,
          59.220001220703125,
          58.18000030517578,
          56.25,
          57.290000915527344,
          56.540000915527344,
          58.38999938964844,
          59.7400016784668,
          60,
          60.599998474121094,
          61.41999816894531,
          61.404998779296875,
          62.130001068115234,
          62.61000061035156,
          63.25,
          63.68000030517578,
          63.47999954223633,
          62.94499969482422,
          62.5,
          62.83000183105469,
          59.90999984741211,
          59.540000915527344,
          58.994998931884766,
          56.61000061035156,
          57.279998779296875,
          59.38999938964844,
          57.900001525878906,
          55.43000030517578,
          53.43000030517578,
          53.43000030517578,
          50.755001068115234,
          53.810001373291016,
          53.189998626708984,
          55.65999984741211,
          54.61000061035156,
          54.85499954223633,
          54.7599983215332,
          54.83000183105469,
          52.790000915527344,
          53.58000183105469,
          53.959999084472656,
          53.439998626708984,
          51.05500030517578,
          50.77000045776367,
          51.529998779296875,
          50.689998626708984,
          50.86000061035156,
          52.119998931884766,
          53.599998474121094,
          53.779998779296875,
          54.47999954223633,
          54.0099983215332,
          55.09000015258789,
          54.97999954223633,
          54.779998779296875,
          55.84000015258789,
          55.04999923706055,
          55.959999084472656,
          55.61000061035156,
          54.810001373291016,
          53.81999969482422,
          54.400001525878906,
          54.529998779296875,
          55.66999816894531,
          56.290000915527344,
          56.27000045776367,
          56.38999938964844,
          55.599998474121094,
          54.689998626708984,
          53.95000076293945,
          52.47999954223633,
          51.84000015258789,
          51.13999938964844,
          51.79999923706055,
          49.790000915527344,
          50.599998474121094,
          48.90999984741211,
          48.16999816894531,
          49.790000915527344,
          49.7599983215332,
          50.27000045776367,
          50.279998779296875,
          51.560001373291016,
          51.25,
          52.130001068115234,
          52.41999816894531,
          52.790000915527344,
          52.790000915527344,
          52.959999084472656,
          53.599998474121094,
          53.38999938964844,
          52.25,
          53.02000045776367,
          53.43000030517578,
          53.540000915527344,
          53.34000015258789,
          53.9900016784668,
          54.20000076293945,
          54.720001220703125,
          54.0099983215332,
          53.994998931884766,
          55.2400016784668,
          55.33000183105469,
          55.2400016784668,
          55.790000915527344,
          56.20000076293945,
          57,
          57.220001220703125,
          57.70000076293945,
          57.81999969482422,
          57.07500076293945,
          56.69499969482422,
          56.75,
          56.81999969482422,
          56.349998474121094,
          55.36000061035156,
          56.279998779296875,
          56.040000915527344,
          56.130001068115234,
          55.380001068115234,
          54.75,
          54.45000076293945,
          54.220001220703125,
          54.91999816894531,
          55.470001220703125,
          56.029998779296875,
          56.4900016784668,
          55.52000045776367,
          54.43000030517578,
          55.900001525878906,
          55.63999938964844,
          54.599998474121094,
          54.939998626708984,
          54.439998626708984,
          54.9900016784668,
          55.33000183105469,
          54.59000015258789,
          55,
          54.720001220703125,
          54.42599868774414,
          54.58000183105469,
          54.400001525878906
         ],
         "yaxis": "y"
        }
       ],
       "layout": {
        "legend": {
         "title": {
          "text": "option"
         },
         "tracegroupgap": 0
        },
        "template": {
         "data": {
          "bar": [
           {
            "error_x": {
             "color": "rgb(36,36,36)"
            },
            "error_y": {
             "color": "rgb(36,36,36)"
            },
            "marker": {
             "line": {
              "color": "white",
              "width": 0.5
             },
             "pattern": {
              "fillmode": "overlay",
              "size": 10,
              "solidity": 0.2
             }
            },
            "type": "bar"
           }
          ],
          "barpolar": [
           {
            "marker": {
             "line": {
              "color": "white",
              "width": 0.5
             },
             "pattern": {
              "fillmode": "overlay",
              "size": 10,
              "solidity": 0.2
             }
            },
            "type": "barpolar"
           }
          ],
          "carpet": [
           {
            "aaxis": {
             "endlinecolor": "rgb(36,36,36)",
             "gridcolor": "white",
             "linecolor": "white",
             "minorgridcolor": "white",
             "startlinecolor": "rgb(36,36,36)"
            },
            "baxis": {
             "endlinecolor": "rgb(36,36,36)",
             "gridcolor": "white",
             "linecolor": "white",
             "minorgridcolor": "white",
             "startlinecolor": "rgb(36,36,36)"
            },
            "type": "carpet"
           }
          ],
          "choropleth": [
           {
            "colorbar": {
             "outlinewidth": 1,
             "tickcolor": "rgb(36,36,36)",
             "ticks": "outside"
            },
            "type": "choropleth"
           }
          ],
          "contour": [
           {
            "colorbar": {
             "outlinewidth": 1,
             "tickcolor": "rgb(36,36,36)",
             "ticks": "outside"
            },
            "colorscale": [
             [
              0,
              "#440154"
             ],
             [
              0.1111111111111111,
              "#482878"
             ],
             [
              0.2222222222222222,
              "#3e4989"
             ],
             [
              0.3333333333333333,
              "#31688e"
             ],
             [
              0.4444444444444444,
              "#26828e"
             ],
             [
              0.5555555555555556,
              "#1f9e89"
             ],
             [
              0.6666666666666666,
              "#35b779"
             ],
             [
              0.7777777777777778,
              "#6ece58"
             ],
             [
              0.8888888888888888,
              "#b5de2b"
             ],
             [
              1,
              "#fde725"
             ]
            ],
            "type": "contour"
           }
          ],
          "contourcarpet": [
           {
            "colorbar": {
             "outlinewidth": 1,
             "tickcolor": "rgb(36,36,36)",
             "ticks": "outside"
            },
            "type": "contourcarpet"
           }
          ],
          "heatmap": [
           {
            "colorbar": {
             "outlinewidth": 1,
             "tickcolor": "rgb(36,36,36)",
             "ticks": "outside"
            },
            "colorscale": [
             [
              0,
              "#440154"
             ],
             [
              0.1111111111111111,
              "#482878"
             ],
             [
              0.2222222222222222,
              "#3e4989"
             ],
             [
              0.3333333333333333,
              "#31688e"
             ],
             [
              0.4444444444444444,
              "#26828e"
             ],
             [
              0.5555555555555556,
              "#1f9e89"
             ],
             [
              0.6666666666666666,
              "#35b779"
             ],
             [
              0.7777777777777778,
              "#6ece58"
             ],
             [
              0.8888888888888888,
              "#b5de2b"
             ],
             [
              1,
              "#fde725"
             ]
            ],
            "type": "heatmap"
           }
          ],
          "heatmapgl": [
           {
            "colorbar": {
             "outlinewidth": 1,
             "tickcolor": "rgb(36,36,36)",
             "ticks": "outside"
            },
            "colorscale": [
             [
              0,
              "#440154"
             ],
             [
              0.1111111111111111,
              "#482878"
             ],
             [
              0.2222222222222222,
              "#3e4989"
             ],
             [
              0.3333333333333333,
              "#31688e"
             ],
             [
              0.4444444444444444,
              "#26828e"
             ],
             [
              0.5555555555555556,
              "#1f9e89"
             ],
             [
              0.6666666666666666,
              "#35b779"
             ],
             [
              0.7777777777777778,
              "#6ece58"
             ],
             [
              0.8888888888888888,
              "#b5de2b"
             ],
             [
              1,
              "#fde725"
             ]
            ],
            "type": "heatmapgl"
           }
          ],
          "histogram": [
           {
            "marker": {
             "line": {
              "color": "white",
              "width": 0.6
             }
            },
            "type": "histogram"
           }
          ],
          "histogram2d": [
           {
            "colorbar": {
             "outlinewidth": 1,
             "tickcolor": "rgb(36,36,36)",
             "ticks": "outside"
            },
            "colorscale": [
             [
              0,
              "#440154"
             ],
             [
              0.1111111111111111,
              "#482878"
             ],
             [
              0.2222222222222222,
              "#3e4989"
             ],
             [
              0.3333333333333333,
              "#31688e"
             ],
             [
              0.4444444444444444,
              "#26828e"
             ],
             [
              0.5555555555555556,
              "#1f9e89"
             ],
             [
              0.6666666666666666,
              "#35b779"
             ],
             [
              0.7777777777777778,
              "#6ece58"
             ],
             [
              0.8888888888888888,
              "#b5de2b"
             ],
             [
              1,
              "#fde725"
             ]
            ],
            "type": "histogram2d"
           }
          ],
          "histogram2dcontour": [
           {
            "colorbar": {
             "outlinewidth": 1,
             "tickcolor": "rgb(36,36,36)",
             "ticks": "outside"
            },
            "colorscale": [
             [
              0,
              "#440154"
             ],
             [
              0.1111111111111111,
              "#482878"
             ],
             [
              0.2222222222222222,
              "#3e4989"
             ],
             [
              0.3333333333333333,
              "#31688e"
             ],
             [
              0.4444444444444444,
              "#26828e"
             ],
             [
              0.5555555555555556,
              "#1f9e89"
             ],
             [
              0.6666666666666666,
              "#35b779"
             ],
             [
              0.7777777777777778,
              "#6ece58"
             ],
             [
              0.8888888888888888,
              "#b5de2b"
             ],
             [
              1,
              "#fde725"
             ]
            ],
            "type": "histogram2dcontour"
           }
          ],
          "mesh3d": [
           {
            "colorbar": {
             "outlinewidth": 1,
             "tickcolor": "rgb(36,36,36)",
             "ticks": "outside"
            },
            "type": "mesh3d"
           }
          ],
          "parcoords": [
           {
            "line": {
             "colorbar": {
              "outlinewidth": 1,
              "tickcolor": "rgb(36,36,36)",
              "ticks": "outside"
             }
            },
            "type": "parcoords"
           }
          ],
          "pie": [
           {
            "automargin": true,
            "type": "pie"
           }
          ],
          "scatter": [
           {
            "marker": {
             "colorbar": {
              "outlinewidth": 1,
              "tickcolor": "rgb(36,36,36)",
              "ticks": "outside"
             }
            },
            "type": "scatter"
           }
          ],
          "scatter3d": [
           {
            "line": {
             "colorbar": {
              "outlinewidth": 1,
              "tickcolor": "rgb(36,36,36)",
              "ticks": "outside"
             }
            },
            "marker": {
             "colorbar": {
              "outlinewidth": 1,
              "tickcolor": "rgb(36,36,36)",
              "ticks": "outside"
             }
            },
            "type": "scatter3d"
           }
          ],
          "scattercarpet": [
           {
            "marker": {
             "colorbar": {
              "outlinewidth": 1,
              "tickcolor": "rgb(36,36,36)",
              "ticks": "outside"
             }
            },
            "type": "scattercarpet"
           }
          ],
          "scattergeo": [
           {
            "marker": {
             "colorbar": {
              "outlinewidth": 1,
              "tickcolor": "rgb(36,36,36)",
              "ticks": "outside"
             }
            },
            "type": "scattergeo"
           }
          ],
          "scattergl": [
           {
            "marker": {
             "colorbar": {
              "outlinewidth": 1,
              "tickcolor": "rgb(36,36,36)",
              "ticks": "outside"
             }
            },
            "type": "scattergl"
           }
          ],
          "scattermapbox": [
           {
            "marker": {
             "colorbar": {
              "outlinewidth": 1,
              "tickcolor": "rgb(36,36,36)",
              "ticks": "outside"
             }
            },
            "type": "scattermapbox"
           }
          ],
          "scatterpolar": [
           {
            "marker": {
             "colorbar": {
              "outlinewidth": 1,
              "tickcolor": "rgb(36,36,36)",
              "ticks": "outside"
             }
            },
            "type": "scatterpolar"
           }
          ],
          "scatterpolargl": [
           {
            "marker": {
             "colorbar": {
              "outlinewidth": 1,
              "tickcolor": "rgb(36,36,36)",
              "ticks": "outside"
             }
            },
            "type": "scatterpolargl"
           }
          ],
          "scatterternary": [
           {
            "marker": {
             "colorbar": {
              "outlinewidth": 1,
              "tickcolor": "rgb(36,36,36)",
              "ticks": "outside"
             }
            },
            "type": "scatterternary"
           }
          ],
          "surface": [
           {
            "colorbar": {
             "outlinewidth": 1,
             "tickcolor": "rgb(36,36,36)",
             "ticks": "outside"
            },
            "colorscale": [
             [
              0,
              "#440154"
             ],
             [
              0.1111111111111111,
              "#482878"
             ],
             [
              0.2222222222222222,
              "#3e4989"
             ],
             [
              0.3333333333333333,
              "#31688e"
             ],
             [
              0.4444444444444444,
              "#26828e"
             ],
             [
              0.5555555555555556,
              "#1f9e89"
             ],
             [
              0.6666666666666666,
              "#35b779"
             ],
             [
              0.7777777777777778,
              "#6ece58"
             ],
             [
              0.8888888888888888,
              "#b5de2b"
             ],
             [
              1,
              "#fde725"
             ]
            ],
            "type": "surface"
           }
          ],
          "table": [
           {
            "cells": {
             "fill": {
              "color": "rgb(237,237,237)"
             },
             "line": {
              "color": "white"
             }
            },
            "header": {
             "fill": {
              "color": "rgb(217,217,217)"
             },
             "line": {
              "color": "white"
             }
            },
            "type": "table"
           }
          ]
         },
         "layout": {
          "annotationdefaults": {
           "arrowhead": 0,
           "arrowwidth": 1
          },
          "autotypenumbers": "strict",
          "coloraxis": {
           "colorbar": {
            "outlinewidth": 1,
            "tickcolor": "rgb(36,36,36)",
            "ticks": "outside"
           }
          },
          "colorscale": {
           "diverging": [
            [
             0,
             "rgb(103,0,31)"
            ],
            [
             0.1,
             "rgb(178,24,43)"
            ],
            [
             0.2,
             "rgb(214,96,77)"
            ],
            [
             0.3,
             "rgb(244,165,130)"
            ],
            [
             0.4,
             "rgb(253,219,199)"
            ],
            [
             0.5,
             "rgb(247,247,247)"
            ],
            [
             0.6,
             "rgb(209,229,240)"
            ],
            [
             0.7,
             "rgb(146,197,222)"
            ],
            [
             0.8,
             "rgb(67,147,195)"
            ],
            [
             0.9,
             "rgb(33,102,172)"
            ],
            [
             1,
             "rgb(5,48,97)"
            ]
           ],
           "sequential": [
            [
             0,
             "#440154"
            ],
            [
             0.1111111111111111,
             "#482878"
            ],
            [
             0.2222222222222222,
             "#3e4989"
            ],
            [
             0.3333333333333333,
             "#31688e"
            ],
            [
             0.4444444444444444,
             "#26828e"
            ],
            [
             0.5555555555555556,
             "#1f9e89"
            ],
            [
             0.6666666666666666,
             "#35b779"
            ],
            [
             0.7777777777777778,
             "#6ece58"
            ],
            [
             0.8888888888888888,
             "#b5de2b"
            ],
            [
             1,
             "#fde725"
            ]
           ],
           "sequentialminus": [
            [
             0,
             "#440154"
            ],
            [
             0.1111111111111111,
             "#482878"
            ],
            [
             0.2222222222222222,
             "#3e4989"
            ],
            [
             0.3333333333333333,
             "#31688e"
            ],
            [
             0.4444444444444444,
             "#26828e"
            ],
            [
             0.5555555555555556,
             "#1f9e89"
            ],
            [
             0.6666666666666666,
             "#35b779"
            ],
            [
             0.7777777777777778,
             "#6ece58"
            ],
            [
             0.8888888888888888,
             "#b5de2b"
            ],
            [
             1,
             "#fde725"
            ]
           ]
          },
          "colorway": [
           "#1F77B4",
           "#FF7F0E",
           "#2CA02C",
           "#D62728",
           "#9467BD",
           "#8C564B",
           "#E377C2",
           "#7F7F7F",
           "#BCBD22",
           "#17BECF"
          ],
          "font": {
           "color": "rgb(36,36,36)"
          },
          "geo": {
           "bgcolor": "white",
           "lakecolor": "white",
           "landcolor": "white",
           "showlakes": true,
           "showland": true,
           "subunitcolor": "white"
          },
          "hoverlabel": {
           "align": "left"
          },
          "hovermode": "closest",
          "mapbox": {
           "style": "light"
          },
          "paper_bgcolor": "white",
          "plot_bgcolor": "white",
          "polar": {
           "angularaxis": {
            "gridcolor": "rgb(232,232,232)",
            "linecolor": "rgb(36,36,36)",
            "showgrid": false,
            "showline": true,
            "ticks": "outside"
           },
           "bgcolor": "white",
           "radialaxis": {
            "gridcolor": "rgb(232,232,232)",
            "linecolor": "rgb(36,36,36)",
            "showgrid": false,
            "showline": true,
            "ticks": "outside"
           }
          },
          "scene": {
           "xaxis": {
            "backgroundcolor": "white",
            "gridcolor": "rgb(232,232,232)",
            "gridwidth": 2,
            "linecolor": "rgb(36,36,36)",
            "showbackground": true,
            "showgrid": false,
            "showline": true,
            "ticks": "outside",
            "zeroline": false,
            "zerolinecolor": "rgb(36,36,36)"
           },
           "yaxis": {
            "backgroundcolor": "white",
            "gridcolor": "rgb(232,232,232)",
            "gridwidth": 2,
            "linecolor": "rgb(36,36,36)",
            "showbackground": true,
            "showgrid": false,
            "showline": true,
            "ticks": "outside",
            "zeroline": false,
            "zerolinecolor": "rgb(36,36,36)"
           },
           "zaxis": {
            "backgroundcolor": "white",
            "gridcolor": "rgb(232,232,232)",
            "gridwidth": 2,
            "linecolor": "rgb(36,36,36)",
            "showbackground": true,
            "showgrid": false,
            "showline": true,
            "ticks": "outside",
            "zeroline": false,
            "zerolinecolor": "rgb(36,36,36)"
           }
          },
          "shapedefaults": {
           "fillcolor": "black",
           "line": {
            "width": 0
           },
           "opacity": 0.3
          },
          "ternary": {
           "aaxis": {
            "gridcolor": "rgb(232,232,232)",
            "linecolor": "rgb(36,36,36)",
            "showgrid": false,
            "showline": true,
            "ticks": "outside"
           },
           "baxis": {
            "gridcolor": "rgb(232,232,232)",
            "linecolor": "rgb(36,36,36)",
            "showgrid": false,
            "showline": true,
            "ticks": "outside"
           },
           "bgcolor": "white",
           "caxis": {
            "gridcolor": "rgb(232,232,232)",
            "linecolor": "rgb(36,36,36)",
            "showgrid": false,
            "showline": true,
            "ticks": "outside"
           }
          },
          "title": {
           "x": 0.05
          },
          "xaxis": {
           "automargin": true,
           "gridcolor": "rgb(232,232,232)",
           "linecolor": "rgb(36,36,36)",
           "showgrid": false,
           "showline": true,
           "ticks": "outside",
           "title": {
            "standoff": 15
           },
           "zeroline": false,
           "zerolinecolor": "rgb(36,36,36)"
          },
          "yaxis": {
           "automargin": true,
           "gridcolor": "rgb(232,232,232)",
           "linecolor": "rgb(36,36,36)",
           "showgrid": false,
           "showline": true,
           "ticks": "outside",
           "title": {
            "standoff": 15
           },
           "zeroline": false,
           "zerolinecolor": "rgb(36,36,36)"
          }
         }
        },
        "title": {
         "text": "Performance of the Selected Stocks"
        },
        "xaxis": {
         "anchor": "y",
         "domain": [
          0,
          1
         ],
         "title": {
          "text": "Date"
         }
        },
        "yaxis": {
         "anchor": "x",
         "domain": [
          0,
          1
         ],
         "tickprefix": "$",
         "title": {
          "text": "Price"
         }
        }
       }
      },
      "text/html": [
       "<div>                            <div id=\"de924931-fe15-4d63-9534-7fd543b2c73d\" class=\"plotly-graph-div\" style=\"height:525px; width:100%;\"></div>            <script type=\"text/javascript\">                require([\"plotly\"], function(Plotly) {                    window.PLOTLYENV=window.PLOTLYENV || {};                                    if (document.getElementById(\"de924931-fe15-4d63-9534-7fd543b2c73d\")) {                    Plotly.newPlot(                        \"de924931-fe15-4d63-9534-7fd543b2c73d\",                        [{\"hovertemplate\":\"option=ARKK<br>Date=%{x}<br>Price=%{y}<extra></extra>\",\"legendgroup\":\"ARKK\",\"line\":{\"color\":\"#1F77B4\",\"dash\":\"solid\"},\"mode\":\"lines\",\"name\":\"ARKK\",\"showlegend\":true,\"type\":\"scattergl\",\"x\":[\"2020-08-17T00:00:00\",\"2020-08-18T00:00:00\",\"2020-08-19T00:00:00\",\"2020-08-20T00:00:00\",\"2020-08-21T00:00:00\",\"2020-08-24T00:00:00\",\"2020-08-25T00:00:00\",\"2020-08-26T00:00:00\",\"2020-08-27T00:00:00\",\"2020-08-28T00:00:00\",\"2020-08-31T00:00:00\",\"2020-09-01T00:00:00\",\"2020-09-02T00:00:00\",\"2020-09-03T00:00:00\",\"2020-09-04T00:00:00\",\"2020-09-08T00:00:00\",\"2020-09-09T00:00:00\",\"2020-09-10T00:00:00\",\"2020-09-11T00:00:00\",\"2020-09-14T00:00:00\",\"2020-09-15T00:00:00\",\"2020-09-16T00:00:00\",\"2020-09-17T00:00:00\",\"2020-09-18T00:00:00\",\"2020-09-21T00:00:00\",\"2020-09-22T00:00:00\",\"2020-09-23T00:00:00\",\"2020-09-24T00:00:00\",\"2020-09-25T00:00:00\",\"2020-09-28T00:00:00\",\"2020-09-29T00:00:00\",\"2020-09-30T00:00:00\",\"2020-10-01T00:00:00\",\"2020-10-02T00:00:00\",\"2020-10-05T00:00:00\",\"2020-10-06T00:00:00\",\"2020-10-07T00:00:00\",\"2020-10-08T00:00:00\",\"2020-10-09T00:00:00\",\"2020-10-12T00:00:00\",\"2020-10-13T00:00:00\",\"2020-10-14T00:00:00\",\"2020-10-15T00:00:00\",\"2020-10-16T00:00:00\",\"2020-10-19T00:00:00\",\"2020-10-20T00:00:00\",\"2020-10-21T00:00:00\",\"2020-10-22T00:00:00\",\"2020-10-23T00:00:00\",\"2020-10-26T00:00:00\",\"2020-10-27T00:00:00\",\"2020-10-28T00:00:00\",\"2020-10-29T00:00:00\",\"2020-10-30T00:00:00\",\"2020-11-02T00:00:00\",\"2020-11-03T00:00:00\",\"2020-11-04T00:00:00\",\"2020-11-05T00:00:00\",\"2020-11-06T00:00:00\",\"2020-11-09T00:00:00\",\"2020-11-10T00:00:00\",\"2020-11-11T00:00:00\",\"2020-11-12T00:00:00\",\"2020-11-13T00:00:00\",\"2020-11-16T00:00:00\",\"2020-11-17T00:00:00\",\"2020-11-18T00:00:00\",\"2020-11-19T00:00:00\",\"2020-11-20T00:00:00\",\"2020-11-23T00:00:00\",\"2020-11-24T00:00:00\",\"2020-11-25T00:00:00\",\"2020-11-27T00:00:00\",\"2020-11-30T00:00:00\",\"2020-12-01T00:00:00\",\"2020-12-02T00:00:00\",\"2020-12-03T00:00:00\",\"2020-12-04T00:00:00\",\"2020-12-07T00:00:00\",\"2020-12-08T00:00:00\",\"2020-12-09T00:00:00\",\"2020-12-10T00:00:00\",\"2020-12-11T00:00:00\",\"2020-12-14T00:00:00\",\"2020-12-15T00:00:00\",\"2020-12-16T00:00:00\",\"2020-12-17T00:00:00\",\"2020-12-18T00:00:00\",\"2020-12-21T00:00:00\",\"2020-12-22T00:00:00\",\"2020-12-23T00:00:00\",\"2020-12-24T00:00:00\",\"2020-12-28T00:00:00\",\"2020-12-29T00:00:00\",\"2020-12-30T00:00:00\",\"2020-12-31T00:00:00\",\"2021-01-04T00:00:00\",\"2021-01-05T00:00:00\",\"2021-01-06T00:00:00\",\"2021-01-07T00:00:00\",\"2021-01-08T00:00:00\",\"2021-01-11T00:00:00\",\"2021-01-12T00:00:00\",\"2021-01-13T00:00:00\",\"2021-01-14T00:00:00\",\"2021-01-15T00:00:00\",\"2021-01-19T00:00:00\",\"2021-01-20T00:00:00\",\"2021-01-21T00:00:00\",\"2021-01-22T00:00:00\",\"2021-01-25T00:00:00\",\"2021-01-26T00:00:00\",\"2021-01-27T00:00:00\",\"2021-01-28T00:00:00\",\"2021-01-29T00:00:00\",\"2021-02-01T00:00:00\",\"2021-02-02T00:00:00\",\"2021-02-03T00:00:00\",\"2021-02-04T00:00:00\",\"2021-02-05T00:00:00\",\"2021-02-08T00:00:00\",\"2021-02-09T00:00:00\",\"2021-02-10T00:00:00\",\"2021-02-11T00:00:00\",\"2021-02-12T00:00:00\",\"2021-02-16T00:00:00\",\"2021-02-17T00:00:00\",\"2021-02-18T00:00:00\",\"2021-02-19T00:00:00\",\"2021-02-22T00:00:00\",\"2021-02-23T00:00:00\",\"2021-02-24T00:00:00\",\"2021-02-25T00:00:00\",\"2021-02-26T00:00:00\",\"2021-03-01T00:00:00\",\"2021-03-02T00:00:00\",\"2021-03-03T00:00:00\",\"2021-03-04T00:00:00\",\"2021-03-05T00:00:00\",\"2021-03-08T00:00:00\",\"2021-03-09T00:00:00\",\"2021-03-10T00:00:00\",\"2021-03-11T00:00:00\",\"2021-03-12T00:00:00\",\"2021-03-15T00:00:00\",\"2021-03-16T00:00:00\",\"2021-03-17T00:00:00\",\"2021-03-18T00:00:00\",\"2021-03-19T00:00:00\",\"2021-03-22T00:00:00\",\"2021-03-23T00:00:00\",\"2021-03-24T00:00:00\",\"2021-03-25T00:00:00\",\"2021-03-26T00:00:00\",\"2021-03-29T00:00:00\",\"2021-03-30T00:00:00\",\"2021-03-31T00:00:00\",\"2021-04-01T00:00:00\",\"2021-04-05T00:00:00\",\"2021-04-06T00:00:00\",\"2021-04-07T00:00:00\",\"2021-04-08T00:00:00\",\"2021-04-09T00:00:00\",\"2021-04-12T00:00:00\",\"2021-04-13T00:00:00\",\"2021-04-14T00:00:00\",\"2021-04-15T00:00:00\",\"2021-04-16T00:00:00\",\"2021-04-19T00:00:00\",\"2021-04-20T00:00:00\",\"2021-04-21T00:00:00\",\"2021-04-22T00:00:00\",\"2021-04-23T00:00:00\",\"2021-04-26T00:00:00\",\"2021-04-27T00:00:00\",\"2021-04-28T00:00:00\",\"2021-04-29T00:00:00\",\"2021-04-30T00:00:00\",\"2021-05-03T00:00:00\",\"2021-05-04T00:00:00\",\"2021-05-05T00:00:00\",\"2021-05-06T00:00:00\",\"2021-05-07T00:00:00\",\"2021-05-10T00:00:00\",\"2021-05-11T00:00:00\",\"2021-05-12T00:00:00\",\"2021-05-13T00:00:00\",\"2021-05-14T00:00:00\",\"2021-05-17T00:00:00\",\"2021-05-18T00:00:00\",\"2021-05-19T00:00:00\",\"2021-05-20T00:00:00\",\"2021-05-21T00:00:00\",\"2021-05-24T00:00:00\",\"2021-05-25T00:00:00\",\"2021-05-26T00:00:00\",\"2021-05-27T00:00:00\",\"2021-05-28T00:00:00\",\"2021-06-01T00:00:00\",\"2021-06-02T00:00:00\",\"2021-06-03T00:00:00\",\"2021-06-04T00:00:00\",\"2021-06-07T00:00:00\",\"2021-06-08T00:00:00\",\"2021-06-09T00:00:00\",\"2021-06-10T00:00:00\",\"2021-06-11T00:00:00\",\"2021-06-14T00:00:00\",\"2021-06-15T00:00:00\",\"2021-06-16T00:00:00\",\"2021-06-17T00:00:00\",\"2021-06-18T00:00:00\",\"2021-06-21T00:00:00\",\"2021-06-22T00:00:00\",\"2021-06-23T00:00:00\",\"2021-06-24T00:00:00\",\"2021-06-25T00:00:00\",\"2021-06-28T00:00:00\",\"2021-06-29T00:00:00\",\"2021-06-30T00:00:00\",\"2021-07-01T00:00:00\",\"2021-07-02T00:00:00\",\"2021-07-06T00:00:00\",\"2021-07-07T00:00:00\",\"2021-07-08T00:00:00\",\"2021-07-09T00:00:00\",\"2021-07-12T00:00:00\",\"2021-07-13T00:00:00\",\"2021-07-14T00:00:00\",\"2021-07-15T00:00:00\",\"2021-07-16T00:00:00\",\"2021-07-19T00:00:00\",\"2021-07-20T00:00:00\",\"2021-07-21T00:00:00\",\"2021-07-22T00:00:00\",\"2021-07-23T00:00:00\",\"2021-07-26T00:00:00\",\"2021-07-27T00:00:00\",\"2021-07-28T00:00:00\",\"2021-07-29T00:00:00\",\"2021-07-30T00:00:00\",\"2021-08-02T00:00:00\",\"2021-08-03T00:00:00\",\"2021-08-04T00:00:00\",\"2021-08-05T00:00:00\",\"2021-08-06T00:00:00\",\"2021-08-09T00:00:00\",\"2021-08-10T00:00:00\",\"2021-08-11T00:00:00\",\"2021-08-12T00:00:00\",\"2021-08-13T00:00:00\"],\"xaxis\":\"x\",\"y\":[86.25006103515625,87.18510437011719,87.460693359375,88.07093048095703,88.41542053222656,87.0669937133789,88.09061431884766,89.96070098876953,89.34061431884766,90.90557861328125,93.82881164550781,95.67920684814453,95.44298553466797,88.3957290649414,85.67919921875,81.79139709472656,85.21659851074219,84.48825073242188,84.00596618652344,87.68706512451172,90.38392639160156,90.19691467285156,87.89376831054688,88.46463012695312,89.15361022949219,90.26581573486328,86.56501770019531,86.51581573486328,89.32093048095703,90.2756576538086,91.30912017822266,90.5512466430664,93.0512466430664,90.8662109375,94.37998962402344,94.1634521484375,97.647705078125,98.98628997802734,101.14180755615234,100.71858215332031,103.17921447753906,102.13589477539062,101.21070861816406,101.14180755615234,100.63983917236328,99.24220275878906,96.40754699707031,97.02763366699219,97.61817932128906,95.66935729980469,97.07684326171875,93.25794219970703,94.4784164428711,89.36030578613281,89.37014770507812,91.69298553466797,95.97447967529297,99.23235321044922,100.47251892089844,95.89573669433594,93.26778411865234,97.1752700805664,97.33274841308594,97.834716796875,97.9725112915039,99.63590240478516,99.42920684814453,101.6339340209961,103.24810791015625,105.72842407226562,104.46858215332031,106.77173614501953,110.01976776123047,110.60047912597656,110.98433685302734,110.5709457397461,112.48040008544922,115.34457397460938,118.77961730957031,120.24614715576172,118.09064483642578,123.22843170166016,121.91938018798828,122.29339599609375,122.34261322021484,121.99811553955078,124.0847396850586,125.29537200927734,129.27174377441406,132.92332458496094,132.83474731445312,130.9351348876953,127.7560043334961,124.31999969482422,127.0999984741211,124.48999786376953,124.69000244140625,127.76000213623047,128.22999572753906,138.3800048828125,142.47999572753906,138.22000122070312,140.99000549316406,141.72000122070312,145.27999877929688,141.91000366210938,146.1300048828125,147.11000061035156,144.80999755859375,146.0800018310547,146.6699981689453,141.8300018310547,138.35000610351562,140.3699951171875,137.44000244140625,142.6199951171875,146.88999938964844,146.11000061035156,148.35000610351562,149.4600067138672,153.30999755859375,154.92999267578125,153.10000610351562,154.57000732421875,156.5800018310547,155.1199951171875,152.1699981689453,149.19000244140625,152.61000061035156,143.77999877929688,139.0399932861328,138.32000732421875,129.50999450683594,130.36000061035156,136.6999969482422,133.50999450683594,125.11000061035156,118.43000030517578,117.06999969482422,110.26000213623047,121.75,121.19000244140625,128.67999267578125,126.68000030517578,128.8800048828125,126.0199966430664,127.45999908447266,120.06999969482422,122.36000061035156,124.72000122070312,121.69999694824219,114.77999877929688,114.41999816894531,113.97000122070312,111.16999816894531,114.41999816894531,119.94999694824219,120.8499984741211,121.63999938964844,123.83000183105469,120.81999969482422,124.13999938964844,123.26000213623047,122.47000122070312,127.55999755859375,124.87000274658203,126.62000274658203,124.37999725341797,120.44000244140625,119.0,121.81999969482422,121.41000366210938,123.69999694824219,127.7300033569336,126.23999786376953,125.37999725341797,121.76000213623047,120.7699966430664,116.91000366210938,113.29000091552734,111.55000305175781,108.33999633789062,109.72000122070312,103.9800033569336,106.12000274658203,102.16000366210938,99.4800033569336,104.30999755859375,103.30999755859375,104.79000091552734,102.97000122070312,106.58999633789062,105.83999633789062,108.7300033569336,109.37999725341797,111.43000030517578,112.27999877929688,112.0999984741211,111.25,111.30000305175781,107.43000030517578,109.51000213623047,112.69000244140625,113.12999725341797,112.8499984741211,114.97000122070312,116.12000274658203,118.33000183105469,115.08999633789062,114.52999877929688,118.5,118.9000015258789,119.51000213623047,121.0199966430664,123.52999877929688,125.27999877929688,125.48999786376953,130.22999572753906,130.8800048828125,130.77999877929688,129.16000366210938,128.14999389648438,127.23999786376953,124.26000213623047,123.30999755859375,125.62000274658203,124.73999786376953,122.2699966430664,118.16999816894531,116.4000015258789,116.52999877929688,117.27999877929688,120.76000213623047,122.66000366210938,121.70999908447266,122.43000030517578,121.5999984741211,118.62000274658203,121.3499984741211,121.5999984741211,120.0,121.12000274658203,120.22000122070312,123.27999877929688,125.56999969482422,123.01000213623047,124.69999694824219,121.44000244140625,121.30000305175781,121.8499984741211,120.0999984741211],\"yaxis\":\"y\"},{\"hovertemplate\":\"option=ARKW<br>Date=%{x}<br>Price=%{y}<extra></extra>\",\"legendgroup\":\"ARKW\",\"line\":{\"color\":\"#FF7F0E\",\"dash\":\"solid\"},\"mode\":\"lines\",\"name\":\"ARKW\",\"showlegend\":true,\"type\":\"scattergl\",\"x\":[\"2020-08-17T00:00:00\",\"2020-08-18T00:00:00\",\"2020-08-19T00:00:00\",\"2020-08-20T00:00:00\",\"2020-08-21T00:00:00\",\"2020-08-24T00:00:00\",\"2020-08-25T00:00:00\",\"2020-08-26T00:00:00\",\"2020-08-27T00:00:00\",\"2020-08-28T00:00:00\",\"2020-08-31T00:00:00\",\"2020-09-01T00:00:00\",\"2020-09-02T00:00:00\",\"2020-09-03T00:00:00\",\"2020-09-04T00:00:00\",\"2020-09-08T00:00:00\",\"2020-09-09T00:00:00\",\"2020-09-10T00:00:00\",\"2020-09-11T00:00:00\",\"2020-09-14T00:00:00\",\"2020-09-15T00:00:00\",\"2020-09-16T00:00:00\",\"2020-09-17T00:00:00\",\"2020-09-18T00:00:00\",\"2020-09-21T00:00:00\",\"2020-09-22T00:00:00\",\"2020-09-23T00:00:00\",\"2020-09-24T00:00:00\",\"2020-09-25T00:00:00\",\"2020-09-28T00:00:00\",\"2020-09-29T00:00:00\",\"2020-09-30T00:00:00\",\"2020-10-01T00:00:00\",\"2020-10-02T00:00:00\",\"2020-10-05T00:00:00\",\"2020-10-06T00:00:00\",\"2020-10-07T00:00:00\",\"2020-10-08T00:00:00\",\"2020-10-09T00:00:00\",\"2020-10-12T00:00:00\",\"2020-10-13T00:00:00\",\"2020-10-14T00:00:00\",\"2020-10-15T00:00:00\",\"2020-10-16T00:00:00\",\"2020-10-19T00:00:00\",\"2020-10-20T00:00:00\",\"2020-10-21T00:00:00\",\"2020-10-22T00:00:00\",\"2020-10-23T00:00:00\",\"2020-10-26T00:00:00\",\"2020-10-27T00:00:00\",\"2020-10-28T00:00:00\",\"2020-10-29T00:00:00\",\"2020-10-30T00:00:00\",\"2020-11-02T00:00:00\",\"2020-11-03T00:00:00\",\"2020-11-04T00:00:00\",\"2020-11-05T00:00:00\",\"2020-11-06T00:00:00\",\"2020-11-09T00:00:00\",\"2020-11-10T00:00:00\",\"2020-11-11T00:00:00\",\"2020-11-12T00:00:00\",\"2020-11-13T00:00:00\",\"2020-11-16T00:00:00\",\"2020-11-17T00:00:00\",\"2020-11-18T00:00:00\",\"2020-11-19T00:00:00\",\"2020-11-20T00:00:00\",\"2020-11-23T00:00:00\",\"2020-11-24T00:00:00\",\"2020-11-25T00:00:00\",\"2020-11-27T00:00:00\",\"2020-11-30T00:00:00\",\"2020-12-01T00:00:00\",\"2020-12-02T00:00:00\",\"2020-12-03T00:00:00\",\"2020-12-04T00:00:00\",\"2020-12-07T00:00:00\",\"2020-12-08T00:00:00\",\"2020-12-09T00:00:00\",\"2020-12-10T00:00:00\",\"2020-12-11T00:00:00\",\"2020-12-14T00:00:00\",\"2020-12-15T00:00:00\",\"2020-12-16T00:00:00\",\"2020-12-17T00:00:00\",\"2020-12-18T00:00:00\",\"2020-12-21T00:00:00\",\"2020-12-22T00:00:00\",\"2020-12-23T00:00:00\",\"2020-12-24T00:00:00\",\"2020-12-28T00:00:00\",\"2020-12-29T00:00:00\",\"2020-12-30T00:00:00\",\"2020-12-31T00:00:00\",\"2021-01-04T00:00:00\",\"2021-01-05T00:00:00\",\"2021-01-06T00:00:00\",\"2021-01-07T00:00:00\",\"2021-01-08T00:00:00\",\"2021-01-11T00:00:00\",\"2021-01-12T00:00:00\",\"2021-01-13T00:00:00\",\"2021-01-14T00:00:00\",\"2021-01-15T00:00:00\",\"2021-01-19T00:00:00\",\"2021-01-20T00:00:00\",\"2021-01-21T00:00:00\",\"2021-01-22T00:00:00\",\"2021-01-25T00:00:00\",\"2021-01-26T00:00:00\",\"2021-01-27T00:00:00\",\"2021-01-28T00:00:00\",\"2021-01-29T00:00:00\",\"2021-02-01T00:00:00\",\"2021-02-02T00:00:00\",\"2021-02-03T00:00:00\",\"2021-02-04T00:00:00\",\"2021-02-05T00:00:00\",\"2021-02-08T00:00:00\",\"2021-02-09T00:00:00\",\"2021-02-10T00:00:00\",\"2021-02-11T00:00:00\",\"2021-02-12T00:00:00\",\"2021-02-16T00:00:00\",\"2021-02-17T00:00:00\",\"2021-02-18T00:00:00\",\"2021-02-19T00:00:00\",\"2021-02-22T00:00:00\",\"2021-02-23T00:00:00\",\"2021-02-24T00:00:00\",\"2021-02-25T00:00:00\",\"2021-02-26T00:00:00\",\"2021-03-01T00:00:00\",\"2021-03-02T00:00:00\",\"2021-03-03T00:00:00\",\"2021-03-04T00:00:00\",\"2021-03-05T00:00:00\",\"2021-03-08T00:00:00\",\"2021-03-09T00:00:00\",\"2021-03-10T00:00:00\",\"2021-03-11T00:00:00\",\"2021-03-12T00:00:00\",\"2021-03-15T00:00:00\",\"2021-03-16T00:00:00\",\"2021-03-17T00:00:00\",\"2021-03-18T00:00:00\",\"2021-03-19T00:00:00\",\"2021-03-22T00:00:00\",\"2021-03-23T00:00:00\",\"2021-03-24T00:00:00\",\"2021-03-25T00:00:00\",\"2021-03-26T00:00:00\",\"2021-03-29T00:00:00\",\"2021-03-30T00:00:00\",\"2021-03-31T00:00:00\",\"2021-04-01T00:00:00\",\"2021-04-05T00:00:00\",\"2021-04-06T00:00:00\",\"2021-04-07T00:00:00\",\"2021-04-08T00:00:00\",\"2021-04-09T00:00:00\",\"2021-04-12T00:00:00\",\"2021-04-13T00:00:00\",\"2021-04-14T00:00:00\",\"2021-04-15T00:00:00\",\"2021-04-16T00:00:00\",\"2021-04-19T00:00:00\",\"2021-04-20T00:00:00\",\"2021-04-21T00:00:00\",\"2021-04-22T00:00:00\",\"2021-04-23T00:00:00\",\"2021-04-26T00:00:00\",\"2021-04-27T00:00:00\",\"2021-04-28T00:00:00\",\"2021-04-29T00:00:00\",\"2021-04-30T00:00:00\",\"2021-05-03T00:00:00\",\"2021-05-04T00:00:00\",\"2021-05-05T00:00:00\",\"2021-05-06T00:00:00\",\"2021-05-07T00:00:00\",\"2021-05-10T00:00:00\",\"2021-05-11T00:00:00\",\"2021-05-12T00:00:00\",\"2021-05-13T00:00:00\",\"2021-05-14T00:00:00\",\"2021-05-17T00:00:00\",\"2021-05-18T00:00:00\",\"2021-05-19T00:00:00\",\"2021-05-20T00:00:00\",\"2021-05-21T00:00:00\",\"2021-05-24T00:00:00\",\"2021-05-25T00:00:00\",\"2021-05-26T00:00:00\",\"2021-05-27T00:00:00\",\"2021-05-28T00:00:00\",\"2021-06-01T00:00:00\",\"2021-06-02T00:00:00\",\"2021-06-03T00:00:00\",\"2021-06-04T00:00:00\",\"2021-06-07T00:00:00\",\"2021-06-08T00:00:00\",\"2021-06-09T00:00:00\",\"2021-06-10T00:00:00\",\"2021-06-11T00:00:00\",\"2021-06-14T00:00:00\",\"2021-06-15T00:00:00\",\"2021-06-16T00:00:00\",\"2021-06-17T00:00:00\",\"2021-06-18T00:00:00\",\"2021-06-21T00:00:00\",\"2021-06-22T00:00:00\",\"2021-06-23T00:00:00\",\"2021-06-24T00:00:00\",\"2021-06-25T00:00:00\",\"2021-06-28T00:00:00\",\"2021-06-29T00:00:00\",\"2021-06-30T00:00:00\",\"2021-07-01T00:00:00\",\"2021-07-02T00:00:00\",\"2021-07-06T00:00:00\",\"2021-07-07T00:00:00\",\"2021-07-08T00:00:00\",\"2021-07-09T00:00:00\",\"2021-07-12T00:00:00\",\"2021-07-13T00:00:00\",\"2021-07-14T00:00:00\",\"2021-07-15T00:00:00\",\"2021-07-16T00:00:00\",\"2021-07-19T00:00:00\",\"2021-07-20T00:00:00\",\"2021-07-21T00:00:00\",\"2021-07-22T00:00:00\",\"2021-07-23T00:00:00\",\"2021-07-26T00:00:00\",\"2021-07-27T00:00:00\",\"2021-07-28T00:00:00\",\"2021-07-29T00:00:00\",\"2021-07-30T00:00:00\",\"2021-08-02T00:00:00\",\"2021-08-03T00:00:00\",\"2021-08-04T00:00:00\",\"2021-08-05T00:00:00\",\"2021-08-06T00:00:00\",\"2021-08-09T00:00:00\",\"2021-08-10T00:00:00\",\"2021-08-11T00:00:00\",\"2021-08-12T00:00:00\",\"2021-08-13T00:00:00\"],\"xaxis\":\"x\",\"y\":[100.94957733154297,102.14407348632812,101.77880859375,103.88151550292969,103.69395446777344,103.28919982910156,104.22703552246094,107.85987091064453,107.70191955566406,108.88655090332031,111.02873992919922,113.97054290771484,113.00311279296875,105.2635726928711,102.81535339355469,97.9781494140625,100.83111572265625,99.5576400756836,98.72840881347656,101.76893615722656,104.42446899414062,103.69395446777344,101.72945404052734,101.81829833984375,103.98023223876953,105.5992202758789,101.81829833984375,101.68009185791016,104.64164733886719,106.45806884765625,106.8035888671875,107.20832824707031,110.62398529052734,108.64962005615234,111.12745666503906,110.39694213867188,112.90438842773438,114.43452453613281,116.32991790771484,117.42569732666016,119.66661071777344,118.82750701904297,117.65274810791016,116.79389953613281,116.47799682617188,115.8363265991211,116.004150390625,115.8363265991211,117.02095031738281,114.73068237304688,116.6754379272461,113.14131164550781,115.50068664550781,109.39000701904297,109.76514434814453,111.77899932861328,117.24800109863281,120.37738800048828,123.55612182617188,115.98440551757812,111.55194854736328,116.11274719238281,116.56684875488281,116.86299896240234,116.9321060180664,118.93609619140625,119.36058807373047,122.53931427001953,124.83946228027344,127.34690856933594,127.55422973632812,131.0192413330078,132.88502502441406,134.3657989501953,133.4674530029297,132.91464233398438,134.563232421875,137.28787231445312,140.14083862304688,141.8190460205078,137.85055541992188,142.2139129638672,141.92764282226562,142.56930541992188,142.83584594726562,143.70457458496094,147.5447235107422,148.8971710205078,150.081787109375,151.96731567382812,150.63461303710938,149.44012451171875,145.906005859375,145.08999633789062,147.61000061035156,146.36000061035156,145.77000427246094,149.7100067138672,148.0399932861328,155.27000427246094,159.38999938964844,154.97000122070312,158.7100067138672,159.39999389648438,159.77000427246094,156.6699981689453,160.41000366210938,163.8300018310547,163.42999267578125,164.80999755859375,166.1699981689453,163.39999389648438,158.57000732421875,160.97999572753906,158.80999755859375,164.50999450683594,169.5500030517578,171.0800018310547,173.63999938964844,175.8000030517578,179.60000610351562,183.0,182.3300018310547,185.13999938964844,187.47000122070312,187.44000244140625,184.89999389648438,181.36000061035156,185.0500030517578,175.2899932861328,170.16000366210938,170.5399932861328,160.25999450683594,160.88999938964844,168.3300018310547,164.38999938964844,156.14999389648438,147.5,146.07000732421875,138.36000061035156,151.14999389648438,150.60000610351562,159.39999389648438,157.47999572753906,160.74000549316406,157.92999267578125,159.80999755859375,150.7100067138672,153.33999633789062,154.3699951171875,151.25999450683594,142.58999633789062,141.99000549316406,142.42999267578125,139.49000549316406,142.5399932861328,147.44000244140625,150.0,150.5500030517578,153.35000610351562,150.63999938964844,154.72999572753906,154.2899932861328,154.1999969482422,160.0800018310547,155.3000030517578,157.64999389648438,155.41000366210938,150.27999877929688,147.72000122070312,150.25999450683594,148.5,152.0,156.74000549316406,155.11000061035156,154.19000244140625,150.10000610351562,148.57000732421875,145.25,141.30999755859375,138.72999572753906,134.9199981689453,137.25,130.0399932861328,133.00999450683594,127.75,123.48999786376953,128.60000610351562,127.30999755859375,128.57000732421875,127.06999969482422,131.3000030517578,130.52000427246094,134.47999572753906,134.89999389648438,137.3699951171875,138.58999633789062,137.61000061035156,138.0500030517578,138.49000549316406,134.52000427246094,135.74000549316406,138.27000427246094,138.4499969482422,137.69000244140625,139.3000030517578,140.4600067138672,142.64999389648438,139.61000061035156,139.55999755859375,143.41000366210938,143.92999267578125,143.5399932861328,145.99000549316406,148.7899932861328,152.10000610351562,151.5500030517578,155.17999267578125,155.9199981689453,154.07000732421875,151.25999450683594,150.69000244140625,150.72999572753906,148.3800048828125,146.58999633789062,148.89999389648438,148.80999755859375,147.1699981689453,143.1300048828125,140.97999572753906,140.30999755859375,140.61000061035156,143.7100067138672,146.19000244140625,146.27000427246094,148.19000244140625,148.77999877929688,145.72999572753906,148.6999969482422,149.19000244140625,147.5500030517578,148.8800048828125,147.41000366210938,150.0500030517578,151.60000610351562,149.3300018310547,152.3800048828125,149.92999267578125,150.0500030517578,150.17999267578125,149.3000030517578],\"yaxis\":\"y\"},{\"hovertemplate\":\"option=ARKF<br>Date=%{x}<br>Price=%{y}<extra></extra>\",\"legendgroup\":\"ARKF\",\"line\":{\"color\":\"#2CA02C\",\"dash\":\"solid\"},\"mode\":\"lines\",\"name\":\"ARKF\",\"showlegend\":true,\"type\":\"scattergl\",\"x\":[\"2020-08-17T00:00:00\",\"2020-08-18T00:00:00\",\"2020-08-19T00:00:00\",\"2020-08-20T00:00:00\",\"2020-08-21T00:00:00\",\"2020-08-24T00:00:00\",\"2020-08-25T00:00:00\",\"2020-08-26T00:00:00\",\"2020-08-27T00:00:00\",\"2020-08-28T00:00:00\",\"2020-08-31T00:00:00\",\"2020-09-01T00:00:00\",\"2020-09-02T00:00:00\",\"2020-09-03T00:00:00\",\"2020-09-04T00:00:00\",\"2020-09-08T00:00:00\",\"2020-09-09T00:00:00\",\"2020-09-10T00:00:00\",\"2020-09-11T00:00:00\",\"2020-09-14T00:00:00\",\"2020-09-15T00:00:00\",\"2020-09-16T00:00:00\",\"2020-09-17T00:00:00\",\"2020-09-18T00:00:00\",\"2020-09-21T00:00:00\",\"2020-09-22T00:00:00\",\"2020-09-23T00:00:00\",\"2020-09-24T00:00:00\",\"2020-09-25T00:00:00\",\"2020-09-28T00:00:00\",\"2020-09-29T00:00:00\",\"2020-09-30T00:00:00\",\"2020-10-01T00:00:00\",\"2020-10-02T00:00:00\",\"2020-10-05T00:00:00\",\"2020-10-06T00:00:00\",\"2020-10-07T00:00:00\",\"2020-10-08T00:00:00\",\"2020-10-09T00:00:00\",\"2020-10-12T00:00:00\",\"2020-10-13T00:00:00\",\"2020-10-14T00:00:00\",\"2020-10-15T00:00:00\",\"2020-10-16T00:00:00\",\"2020-10-19T00:00:00\",\"2020-10-20T00:00:00\",\"2020-10-21T00:00:00\",\"2020-10-22T00:00:00\",\"2020-10-23T00:00:00\",\"2020-10-26T00:00:00\",\"2020-10-27T00:00:00\",\"2020-10-28T00:00:00\",\"2020-10-29T00:00:00\",\"2020-10-30T00:00:00\",\"2020-11-02T00:00:00\",\"2020-11-03T00:00:00\",\"2020-11-04T00:00:00\",\"2020-11-05T00:00:00\",\"2020-11-06T00:00:00\",\"2020-11-09T00:00:00\",\"2020-11-10T00:00:00\",\"2020-11-11T00:00:00\",\"2020-11-12T00:00:00\",\"2020-11-13T00:00:00\",\"2020-11-16T00:00:00\",\"2020-11-17T00:00:00\",\"2020-11-18T00:00:00\",\"2020-11-19T00:00:00\",\"2020-11-20T00:00:00\",\"2020-11-23T00:00:00\",\"2020-11-24T00:00:00\",\"2020-11-25T00:00:00\",\"2020-11-27T00:00:00\",\"2020-11-30T00:00:00\",\"2020-12-01T00:00:00\",\"2020-12-02T00:00:00\",\"2020-12-03T00:00:00\",\"2020-12-04T00:00:00\",\"2020-12-07T00:00:00\",\"2020-12-08T00:00:00\",\"2020-12-09T00:00:00\",\"2020-12-10T00:00:00\",\"2020-12-11T00:00:00\",\"2020-12-14T00:00:00\",\"2020-12-15T00:00:00\",\"2020-12-16T00:00:00\",\"2020-12-17T00:00:00\",\"2020-12-18T00:00:00\",\"2020-12-21T00:00:00\",\"2020-12-22T00:00:00\",\"2020-12-23T00:00:00\",\"2020-12-24T00:00:00\",\"2020-12-28T00:00:00\",\"2020-12-29T00:00:00\",\"2020-12-30T00:00:00\",\"2020-12-31T00:00:00\",\"2021-01-04T00:00:00\",\"2021-01-05T00:00:00\",\"2021-01-06T00:00:00\",\"2021-01-07T00:00:00\",\"2021-01-08T00:00:00\",\"2021-01-11T00:00:00\",\"2021-01-12T00:00:00\",\"2021-01-13T00:00:00\",\"2021-01-14T00:00:00\",\"2021-01-15T00:00:00\",\"2021-01-19T00:00:00\",\"2021-01-20T00:00:00\",\"2021-01-21T00:00:00\",\"2021-01-22T00:00:00\",\"2021-01-25T00:00:00\",\"2021-01-26T00:00:00\",\"2021-01-27T00:00:00\",\"2021-01-28T00:00:00\",\"2021-01-29T00:00:00\",\"2021-02-01T00:00:00\",\"2021-02-02T00:00:00\",\"2021-02-03T00:00:00\",\"2021-02-04T00:00:00\",\"2021-02-05T00:00:00\",\"2021-02-08T00:00:00\",\"2021-02-09T00:00:00\",\"2021-02-10T00:00:00\",\"2021-02-11T00:00:00\",\"2021-02-12T00:00:00\",\"2021-02-16T00:00:00\",\"2021-02-17T00:00:00\",\"2021-02-18T00:00:00\",\"2021-02-19T00:00:00\",\"2021-02-22T00:00:00\",\"2021-02-23T00:00:00\",\"2021-02-24T00:00:00\",\"2021-02-25T00:00:00\",\"2021-02-26T00:00:00\",\"2021-03-01T00:00:00\",\"2021-03-02T00:00:00\",\"2021-03-03T00:00:00\",\"2021-03-04T00:00:00\",\"2021-03-05T00:00:00\",\"2021-03-08T00:00:00\",\"2021-03-09T00:00:00\",\"2021-03-10T00:00:00\",\"2021-03-11T00:00:00\",\"2021-03-12T00:00:00\",\"2021-03-15T00:00:00\",\"2021-03-16T00:00:00\",\"2021-03-17T00:00:00\",\"2021-03-18T00:00:00\",\"2021-03-19T00:00:00\",\"2021-03-22T00:00:00\",\"2021-03-23T00:00:00\",\"2021-03-24T00:00:00\",\"2021-03-25T00:00:00\",\"2021-03-26T00:00:00\",\"2021-03-29T00:00:00\",\"2021-03-30T00:00:00\",\"2021-03-31T00:00:00\",\"2021-04-01T00:00:00\",\"2021-04-05T00:00:00\",\"2021-04-06T00:00:00\",\"2021-04-07T00:00:00\",\"2021-04-08T00:00:00\",\"2021-04-09T00:00:00\",\"2021-04-12T00:00:00\",\"2021-04-13T00:00:00\",\"2021-04-14T00:00:00\",\"2021-04-15T00:00:00\",\"2021-04-16T00:00:00\",\"2021-04-19T00:00:00\",\"2021-04-20T00:00:00\",\"2021-04-21T00:00:00\",\"2021-04-22T00:00:00\",\"2021-04-23T00:00:00\",\"2021-04-26T00:00:00\",\"2021-04-27T00:00:00\",\"2021-04-28T00:00:00\",\"2021-04-29T00:00:00\",\"2021-04-30T00:00:00\",\"2021-05-03T00:00:00\",\"2021-05-04T00:00:00\",\"2021-05-05T00:00:00\",\"2021-05-06T00:00:00\",\"2021-05-07T00:00:00\",\"2021-05-10T00:00:00\",\"2021-05-11T00:00:00\",\"2021-05-12T00:00:00\",\"2021-05-13T00:00:00\",\"2021-05-14T00:00:00\",\"2021-05-17T00:00:00\",\"2021-05-18T00:00:00\",\"2021-05-19T00:00:00\",\"2021-05-20T00:00:00\",\"2021-05-21T00:00:00\",\"2021-05-24T00:00:00\",\"2021-05-25T00:00:00\",\"2021-05-26T00:00:00\",\"2021-05-27T00:00:00\",\"2021-05-28T00:00:00\",\"2021-06-01T00:00:00\",\"2021-06-02T00:00:00\",\"2021-06-03T00:00:00\",\"2021-06-04T00:00:00\",\"2021-06-07T00:00:00\",\"2021-06-08T00:00:00\",\"2021-06-09T00:00:00\",\"2021-06-10T00:00:00\",\"2021-06-11T00:00:00\",\"2021-06-14T00:00:00\",\"2021-06-15T00:00:00\",\"2021-06-16T00:00:00\",\"2021-06-17T00:00:00\",\"2021-06-18T00:00:00\",\"2021-06-21T00:00:00\",\"2021-06-22T00:00:00\",\"2021-06-23T00:00:00\",\"2021-06-24T00:00:00\",\"2021-06-25T00:00:00\",\"2021-06-28T00:00:00\",\"2021-06-29T00:00:00\",\"2021-06-30T00:00:00\",\"2021-07-01T00:00:00\",\"2021-07-02T00:00:00\",\"2021-07-06T00:00:00\",\"2021-07-07T00:00:00\",\"2021-07-08T00:00:00\",\"2021-07-09T00:00:00\",\"2021-07-12T00:00:00\",\"2021-07-13T00:00:00\",\"2021-07-14T00:00:00\",\"2021-07-15T00:00:00\",\"2021-07-16T00:00:00\",\"2021-07-19T00:00:00\",\"2021-07-20T00:00:00\",\"2021-07-21T00:00:00\",\"2021-07-22T00:00:00\",\"2021-07-23T00:00:00\",\"2021-07-26T00:00:00\",\"2021-07-27T00:00:00\",\"2021-07-28T00:00:00\",\"2021-07-29T00:00:00\",\"2021-07-30T00:00:00\",\"2021-08-02T00:00:00\",\"2021-08-03T00:00:00\",\"2021-08-04T00:00:00\",\"2021-08-05T00:00:00\",\"2021-08-06T00:00:00\",\"2021-08-09T00:00:00\",\"2021-08-10T00:00:00\",\"2021-08-11T00:00:00\",\"2021-08-12T00:00:00\",\"2021-08-13T00:00:00\"],\"xaxis\":\"x\",\"y\":[37.87741470336914,38.315765380859375,38.265953063964844,38.5947151184082,38.624603271484375,38.85374069213867,39.27216339111328,39.84002685546875,40.07912826538086,40.22856521606445,40.21860122680664,41.45395278930664,41.414100646972656,39.29208755493164,38.36557388305664,36.84131622314453,37.70804977416992,37.15015411376953,37.010677337646484,37.897342681884766,38.61463928222656,38.29583740234375,37.698089599609375,37.57854080200195,37.92722702026367,38.73419189453125,37.90730285644531,37.87741470336914,38.52497482299805,39.19246292114258,39.282127380371094,39.501304626464844,40.487586975097656,40.15882873535156,40.9359016418457,40.6270637512207,41.46391296386719,41.88233947753906,42.48008728027344,43.09776306152344,43.44645309448242,42.858665466308594,42.649452209472656,42.48008728027344,42.23102569580078,42.48008728027344,42.59963607788086,42.48008728027344,42.81881332397461,41.81260299682617,42.45020294189453,41.40414047241211,42.50997543334961,40.73665237426758,40.73665237426758,41.30451202392578,43.52614974975586,44.52239990234375,45.428985595703125,43.5062255859375,41.722938537597656,43.15753936767578,43.07783889770508,43.61581039428711,43.7353630065918,43.725399017333984,43.48630142211914,44.323150634765625,44.85116195678711,45.24966049194336,45.080299377441406,45.98688888549805,46.75400161743164,46.494972229003906,46.305686950683594,46.425235748291016,46.70418930053711,47.04291534423828,47.55099868774414,47.99931335449219,46.94328689575195,47.949501037597656,48.01923751831055,48.10890197753906,48.607025146484375,49.1948127746582,50.290687561035156,50.220947265625,50.240875244140625,51.09764862060547,50.63937759399414,50.10139846801758,49.14500045776367,49.25,49.880001068115234,49.709999084472656,49.29999923706055,50.36000061035156,49.31999969482422,51.08000183105469,51.959999084472656,50.959999084472656,51.95000076293945,52.18000030517578,52.290000915527344,51.70000076293945,53.11000061035156,54.13999938964844,54.13999938964844,54.58000183105469,55.06999969482422,53.9900016784668,51.47999954223633,52.7599983215332,52.130001068115234,54.13999938964844,55.869998931884766,56.119998931884766,56.97999954223633,57.790000915527344,58.95000076293945,60.2599983215332,60.369998931884766,61.939998626708984,62.52000045776367,63.599998474121094,63.06999969482422,61.81999969482422,62.63999938964844,59.88999938964844,58.540000915527344,57.59000015258789,54.970001220703125,55.279998779296875,57.86000061035156,57.08000183105469,54.52000045776367,51.369998931884766,50.959999084472656,48.22999954223633,51.939998626708984,51.68000030517578,54.95000076293945,54.27000045776367,55.189998626708984,54.95000076293945,55.41999816894531,52.40999984741211,53.25,53.349998474121094,52.2400016784668,49.439998626708984,49.47999954223633,49.959999084472656,48.779998779296875,49.720001220703125,51.099998474121094,52.619998931884766,52.790000915527344,53.83000183105469,53.06999969482422,54.79999923706055,54.83000183105469,54.40999984741211,55.18000030517578,53.709999084472656,54.689998626708984,53.81999969482422,52.63999938964844,51.84000015258789,52.5,52.31999969482422,53.27000045776367,54.2599983215332,54.18000030517578,54.220001220703125,53.279998779296875,52.25,51.58000183105469,50.20000076293945,49.79999923706055,48.810001373291016,49.40999984741211,47.02000045776367,47.7400016784668,45.849998474121094,44.869998931884766,46.43000030517578,46.22999954223633,46.65999984741211,46.58000183105469,48.09000015258789,47.7400016784668,48.689998626708984,49.060001373291016,49.689998626708984,49.970001220703125,49.83000183105469,50.43000030517578,50.2599983215332,48.83000183105469,49.4900016784668,49.86000061035156,49.86000061035156,49.619998931884766,50.119998931884766,50.4900016784668,51.279998779296875,50.56999969482422,50.439998626708984,52.029998779296875,52.040000915527344,51.7400016784668,52.22999954223633,52.88999938964844,53.81999969482422,53.70000076293945,54.540000915527344,54.779998779296875,54.11000061035156,53.38999938964844,53.31999969482422,53.220001220703125,52.66999816894531,51.66999816894531,52.90999984741211,52.66999816894531,52.40999984741211,51.52000045776367,51.18000030517578,50.790000915527344,50.56999969482422,51.720001220703125,52.81999969482422,53.16999816894531,53.47999954223633,52.2599983215332,50.75,52.220001220703125,51.939998626708984,50.68000030517578,51.52000045776367,51.220001220703125,52.279998779296875,53.189998626708984,52.400001525878906,53.27000045776367,52.68000030517578,52.54999923706055,52.5,52.209999084472656],\"yaxis\":\"y\"},{\"hovertemplate\":\"option=OGIG<br>Date=%{x}<br>Price=%{y}<extra></extra>\",\"legendgroup\":\"OGIG\",\"line\":{\"color\":\"#D62728\",\"dash\":\"solid\"},\"mode\":\"lines\",\"name\":\"OGIG\",\"showlegend\":true,\"type\":\"scattergl\",\"x\":[\"2020-08-17T00:00:00\",\"2020-08-18T00:00:00\",\"2020-08-19T00:00:00\",\"2020-08-20T00:00:00\",\"2020-08-21T00:00:00\",\"2020-08-24T00:00:00\",\"2020-08-25T00:00:00\",\"2020-08-26T00:00:00\",\"2020-08-27T00:00:00\",\"2020-08-28T00:00:00\",\"2020-08-31T00:00:00\",\"2020-09-01T00:00:00\",\"2020-09-02T00:00:00\",\"2020-09-03T00:00:00\",\"2020-09-04T00:00:00\",\"2020-09-08T00:00:00\",\"2020-09-09T00:00:00\",\"2020-09-10T00:00:00\",\"2020-09-11T00:00:00\",\"2020-09-14T00:00:00\",\"2020-09-15T00:00:00\",\"2020-09-16T00:00:00\",\"2020-09-17T00:00:00\",\"2020-09-18T00:00:00\",\"2020-09-21T00:00:00\",\"2020-09-22T00:00:00\",\"2020-09-23T00:00:00\",\"2020-09-24T00:00:00\",\"2020-09-25T00:00:00\",\"2020-09-28T00:00:00\",\"2020-09-29T00:00:00\",\"2020-09-30T00:00:00\",\"2020-10-01T00:00:00\",\"2020-10-02T00:00:00\",\"2020-10-05T00:00:00\",\"2020-10-06T00:00:00\",\"2020-10-07T00:00:00\",\"2020-10-08T00:00:00\",\"2020-10-09T00:00:00\",\"2020-10-12T00:00:00\",\"2020-10-13T00:00:00\",\"2020-10-14T00:00:00\",\"2020-10-15T00:00:00\",\"2020-10-16T00:00:00\",\"2020-10-19T00:00:00\",\"2020-10-20T00:00:00\",\"2020-10-21T00:00:00\",\"2020-10-22T00:00:00\",\"2020-10-23T00:00:00\",\"2020-10-26T00:00:00\",\"2020-10-27T00:00:00\",\"2020-10-28T00:00:00\",\"2020-10-29T00:00:00\",\"2020-10-30T00:00:00\",\"2020-11-02T00:00:00\",\"2020-11-03T00:00:00\",\"2020-11-04T00:00:00\",\"2020-11-05T00:00:00\",\"2020-11-06T00:00:00\",\"2020-11-09T00:00:00\",\"2020-11-10T00:00:00\",\"2020-11-11T00:00:00\",\"2020-11-12T00:00:00\",\"2020-11-13T00:00:00\",\"2020-11-16T00:00:00\",\"2020-11-17T00:00:00\",\"2020-11-18T00:00:00\",\"2020-11-19T00:00:00\",\"2020-11-20T00:00:00\",\"2020-11-23T00:00:00\",\"2020-11-24T00:00:00\",\"2020-11-25T00:00:00\",\"2020-11-27T00:00:00\",\"2020-11-30T00:00:00\",\"2020-12-01T00:00:00\",\"2020-12-02T00:00:00\",\"2020-12-03T00:00:00\",\"2020-12-04T00:00:00\",\"2020-12-07T00:00:00\",\"2020-12-08T00:00:00\",\"2020-12-09T00:00:00\",\"2020-12-10T00:00:00\",\"2020-12-11T00:00:00\",\"2020-12-14T00:00:00\",\"2020-12-15T00:00:00\",\"2020-12-16T00:00:00\",\"2020-12-17T00:00:00\",\"2020-12-18T00:00:00\",\"2020-12-21T00:00:00\",\"2020-12-22T00:00:00\",\"2020-12-23T00:00:00\",\"2020-12-24T00:00:00\",\"2020-12-28T00:00:00\",\"2020-12-29T00:00:00\",\"2020-12-30T00:00:00\",\"2020-12-31T00:00:00\",\"2021-01-04T00:00:00\",\"2021-01-05T00:00:00\",\"2021-01-06T00:00:00\",\"2021-01-07T00:00:00\",\"2021-01-08T00:00:00\",\"2021-01-11T00:00:00\",\"2021-01-12T00:00:00\",\"2021-01-13T00:00:00\",\"2021-01-14T00:00:00\",\"2021-01-15T00:00:00\",\"2021-01-19T00:00:00\",\"2021-01-20T00:00:00\",\"2021-01-21T00:00:00\",\"2021-01-22T00:00:00\",\"2021-01-25T00:00:00\",\"2021-01-26T00:00:00\",\"2021-01-27T00:00:00\",\"2021-01-28T00:00:00\",\"2021-01-29T00:00:00\",\"2021-02-01T00:00:00\",\"2021-02-02T00:00:00\",\"2021-02-03T00:00:00\",\"2021-02-04T00:00:00\",\"2021-02-05T00:00:00\",\"2021-02-08T00:00:00\",\"2021-02-09T00:00:00\",\"2021-02-10T00:00:00\",\"2021-02-11T00:00:00\",\"2021-02-12T00:00:00\",\"2021-02-16T00:00:00\",\"2021-02-17T00:00:00\",\"2021-02-18T00:00:00\",\"2021-02-19T00:00:00\",\"2021-02-22T00:00:00\",\"2021-02-23T00:00:00\",\"2021-02-24T00:00:00\",\"2021-02-25T00:00:00\",\"2021-02-26T00:00:00\",\"2021-03-01T00:00:00\",\"2021-03-02T00:00:00\",\"2021-03-03T00:00:00\",\"2021-03-04T00:00:00\",\"2021-03-05T00:00:00\",\"2021-03-08T00:00:00\",\"2021-03-09T00:00:00\",\"2021-03-10T00:00:00\",\"2021-03-11T00:00:00\",\"2021-03-12T00:00:00\",\"2021-03-15T00:00:00\",\"2021-03-16T00:00:00\",\"2021-03-17T00:00:00\",\"2021-03-18T00:00:00\",\"2021-03-19T00:00:00\",\"2021-03-22T00:00:00\",\"2021-03-23T00:00:00\",\"2021-03-24T00:00:00\",\"2021-03-25T00:00:00\",\"2021-03-26T00:00:00\",\"2021-03-29T00:00:00\",\"2021-03-30T00:00:00\",\"2021-03-31T00:00:00\",\"2021-04-01T00:00:00\",\"2021-04-05T00:00:00\",\"2021-04-06T00:00:00\",\"2021-04-07T00:00:00\",\"2021-04-08T00:00:00\",\"2021-04-09T00:00:00\",\"2021-04-12T00:00:00\",\"2021-04-13T00:00:00\",\"2021-04-14T00:00:00\",\"2021-04-15T00:00:00\",\"2021-04-16T00:00:00\",\"2021-04-19T00:00:00\",\"2021-04-20T00:00:00\",\"2021-04-21T00:00:00\",\"2021-04-22T00:00:00\",\"2021-04-23T00:00:00\",\"2021-04-26T00:00:00\",\"2021-04-27T00:00:00\",\"2021-04-28T00:00:00\",\"2021-04-29T00:00:00\",\"2021-04-30T00:00:00\",\"2021-05-03T00:00:00\",\"2021-05-04T00:00:00\",\"2021-05-05T00:00:00\",\"2021-05-06T00:00:00\",\"2021-05-07T00:00:00\",\"2021-05-10T00:00:00\",\"2021-05-11T00:00:00\",\"2021-05-12T00:00:00\",\"2021-05-13T00:00:00\",\"2021-05-14T00:00:00\",\"2021-05-17T00:00:00\",\"2021-05-18T00:00:00\",\"2021-05-19T00:00:00\",\"2021-05-20T00:00:00\",\"2021-05-21T00:00:00\",\"2021-05-24T00:00:00\",\"2021-05-25T00:00:00\",\"2021-05-26T00:00:00\",\"2021-05-27T00:00:00\",\"2021-05-28T00:00:00\",\"2021-06-01T00:00:00\",\"2021-06-02T00:00:00\",\"2021-06-03T00:00:00\",\"2021-06-04T00:00:00\",\"2021-06-07T00:00:00\",\"2021-06-08T00:00:00\",\"2021-06-09T00:00:00\",\"2021-06-10T00:00:00\",\"2021-06-11T00:00:00\",\"2021-06-14T00:00:00\",\"2021-06-15T00:00:00\",\"2021-06-16T00:00:00\",\"2021-06-17T00:00:00\",\"2021-06-18T00:00:00\",\"2021-06-21T00:00:00\",\"2021-06-22T00:00:00\",\"2021-06-23T00:00:00\",\"2021-06-24T00:00:00\",\"2021-06-25T00:00:00\",\"2021-06-28T00:00:00\",\"2021-06-29T00:00:00\",\"2021-06-30T00:00:00\",\"2021-07-01T00:00:00\",\"2021-07-02T00:00:00\",\"2021-07-06T00:00:00\",\"2021-07-07T00:00:00\",\"2021-07-08T00:00:00\",\"2021-07-09T00:00:00\",\"2021-07-12T00:00:00\",\"2021-07-13T00:00:00\",\"2021-07-14T00:00:00\",\"2021-07-15T00:00:00\",\"2021-07-16T00:00:00\",\"2021-07-19T00:00:00\",\"2021-07-20T00:00:00\",\"2021-07-21T00:00:00\",\"2021-07-22T00:00:00\",\"2021-07-23T00:00:00\",\"2021-07-26T00:00:00\",\"2021-07-27T00:00:00\",\"2021-07-28T00:00:00\",\"2021-07-29T00:00:00\",\"2021-07-30T00:00:00\",\"2021-08-02T00:00:00\",\"2021-08-03T00:00:00\",\"2021-08-04T00:00:00\",\"2021-08-05T00:00:00\",\"2021-08-06T00:00:00\",\"2021-08-09T00:00:00\",\"2021-08-10T00:00:00\",\"2021-08-11T00:00:00\",\"2021-08-12T00:00:00\",\"2021-08-13T00:00:00\"],\"xaxis\":\"x\",\"y\":[41.41999816894531,42.20000076293945,42.099998474121094,42.779998779296875,42.72999954223633,42.86000061035156,43.5,45.119998931884766,44.790000915527344,45.06999969482422,45.11000061035156,47.119998931884766,47.04999923706055,44.209999084472656,43.11000061035156,41.560001373291016,42.63999938964844,41.95000076293945,41.68000030517578,42.244998931884766,42.83000183105469,42.369998931884766,41.79999923706055,41.81999969482422,42.4900016784668,43.38999938964844,42.54999923706055,42.2400016784668,43.08000183105469,43.63999938964844,43.689998626708984,44.09000015258789,45.189998626708984,44.45000076293945,45.209999084472656,44.90999984741211,45.880001068115234,46.04999923706055,47.0,47.810001373291016,48.33000183105469,47.72999954223633,47.220001220703125,47.400001525878906,47.150001525878906,47.06999969482422,46.86000061035156,46.78499984741211,47.21500015258789,46.5,47.43000030517578,46.11000061035156,46.810001373291016,44.9900016784668,44.959999084472656,45.5,48.16999816894531,49.58000183105469,50.28499984741211,47.20000076293945,45.439998626708984,46.869998931884766,47.349998474121094,47.720001220703125,47.43000030517578,47.619998931884766,47.40999984741211,48.595001220703125,49.36000061035156,49.310001373291016,49.439998626708984,49.88999938964844,50.93000030517578,50.91999816894531,50.470001220703125,50.31999969482422,50.94499969482422,51.22999954223633,51.59000015258789,52.43000030517578,51.130001068115234,52.5,52.810001373291016,52.619998931884766,52.8849983215332,53.81999969482422,54.86000061035156,55.2599983215332,55.279998779296875,55.709999084472656,55.060001373291016,54.630001068115234,53.59000015258789,54.15999984741211,54.689998626708984,54.279998779296875,53.810001373291016,55.150001525878906,53.599998474121094,54.959999084472656,56.18000030517578,55.18000030517578,55.790000915527344,55.95000076293945,56.06999969482422,55.3650016784668,57.040000915527344,58.380001068115234,58.6349983215332,59.025001525878906,59.220001220703125,58.18000030517578,56.25,57.290000915527344,56.540000915527344,58.38999938964844,59.7400016784668,60.0,60.599998474121094,61.41999816894531,61.404998779296875,62.130001068115234,62.61000061035156,63.25,63.68000030517578,63.47999954223633,62.94499969482422,62.5,62.83000183105469,59.90999984741211,59.540000915527344,58.994998931884766,56.61000061035156,57.279998779296875,59.38999938964844,57.900001525878906,55.43000030517578,53.43000030517578,53.43000030517578,50.755001068115234,53.810001373291016,53.189998626708984,55.65999984741211,54.61000061035156,54.85499954223633,54.7599983215332,54.83000183105469,52.790000915527344,53.58000183105469,53.959999084472656,53.439998626708984,51.05500030517578,50.77000045776367,51.529998779296875,50.689998626708984,50.86000061035156,52.119998931884766,53.599998474121094,53.779998779296875,54.47999954223633,54.0099983215332,55.09000015258789,54.97999954223633,54.779998779296875,55.84000015258789,55.04999923706055,55.959999084472656,55.61000061035156,54.810001373291016,53.81999969482422,54.400001525878906,54.529998779296875,55.66999816894531,56.290000915527344,56.27000045776367,56.38999938964844,55.599998474121094,54.689998626708984,53.95000076293945,52.47999954223633,51.84000015258789,51.13999938964844,51.79999923706055,49.790000915527344,50.599998474121094,48.90999984741211,48.16999816894531,49.790000915527344,49.7599983215332,50.27000045776367,50.279998779296875,51.560001373291016,51.25,52.130001068115234,52.41999816894531,52.790000915527344,52.790000915527344,52.959999084472656,53.599998474121094,53.38999938964844,52.25,53.02000045776367,53.43000030517578,53.540000915527344,53.34000015258789,53.9900016784668,54.20000076293945,54.720001220703125,54.0099983215332,53.994998931884766,55.2400016784668,55.33000183105469,55.2400016784668,55.790000915527344,56.20000076293945,57.0,57.220001220703125,57.70000076293945,57.81999969482422,57.07500076293945,56.69499969482422,56.75,56.81999969482422,56.349998474121094,55.36000061035156,56.279998779296875,56.040000915527344,56.130001068115234,55.380001068115234,54.75,54.45000076293945,54.220001220703125,54.91999816894531,55.470001220703125,56.029998779296875,56.4900016784668,55.52000045776367,54.43000030517578,55.900001525878906,55.63999938964844,54.599998474121094,54.939998626708984,54.439998626708984,54.9900016784668,55.33000183105469,54.59000015258789,55.0,54.720001220703125,54.42599868774414,54.58000183105469,54.400001525878906],\"yaxis\":\"y\"}],                        {\"legend\":{\"title\":{\"text\":\"option\"},\"tracegroupgap\":0},\"template\":{\"data\":{\"bar\":[{\"error_x\":{\"color\":\"rgb(36,36,36)\"},\"error_y\":{\"color\":\"rgb(36,36,36)\"},\"marker\":{\"line\":{\"color\":\"white\",\"width\":0.5},\"pattern\":{\"fillmode\":\"overlay\",\"size\":10,\"solidity\":0.2}},\"type\":\"bar\"}],\"barpolar\":[{\"marker\":{\"line\":{\"color\":\"white\",\"width\":0.5},\"pattern\":{\"fillmode\":\"overlay\",\"size\":10,\"solidity\":0.2}},\"type\":\"barpolar\"}],\"carpet\":[{\"aaxis\":{\"endlinecolor\":\"rgb(36,36,36)\",\"gridcolor\":\"white\",\"linecolor\":\"white\",\"minorgridcolor\":\"white\",\"startlinecolor\":\"rgb(36,36,36)\"},\"baxis\":{\"endlinecolor\":\"rgb(36,36,36)\",\"gridcolor\":\"white\",\"linecolor\":\"white\",\"minorgridcolor\":\"white\",\"startlinecolor\":\"rgb(36,36,36)\"},\"type\":\"carpet\"}],\"choropleth\":[{\"colorbar\":{\"outlinewidth\":1,\"tickcolor\":\"rgb(36,36,36)\",\"ticks\":\"outside\"},\"type\":\"choropleth\"}],\"contour\":[{\"colorbar\":{\"outlinewidth\":1,\"tickcolor\":\"rgb(36,36,36)\",\"ticks\":\"outside\"},\"colorscale\":[[0.0,\"#440154\"],[0.1111111111111111,\"#482878\"],[0.2222222222222222,\"#3e4989\"],[0.3333333333333333,\"#31688e\"],[0.4444444444444444,\"#26828e\"],[0.5555555555555556,\"#1f9e89\"],[0.6666666666666666,\"#35b779\"],[0.7777777777777778,\"#6ece58\"],[0.8888888888888888,\"#b5de2b\"],[1.0,\"#fde725\"]],\"type\":\"contour\"}],\"contourcarpet\":[{\"colorbar\":{\"outlinewidth\":1,\"tickcolor\":\"rgb(36,36,36)\",\"ticks\":\"outside\"},\"type\":\"contourcarpet\"}],\"heatmap\":[{\"colorbar\":{\"outlinewidth\":1,\"tickcolor\":\"rgb(36,36,36)\",\"ticks\":\"outside\"},\"colorscale\":[[0.0,\"#440154\"],[0.1111111111111111,\"#482878\"],[0.2222222222222222,\"#3e4989\"],[0.3333333333333333,\"#31688e\"],[0.4444444444444444,\"#26828e\"],[0.5555555555555556,\"#1f9e89\"],[0.6666666666666666,\"#35b779\"],[0.7777777777777778,\"#6ece58\"],[0.8888888888888888,\"#b5de2b\"],[1.0,\"#fde725\"]],\"type\":\"heatmap\"}],\"heatmapgl\":[{\"colorbar\":{\"outlinewidth\":1,\"tickcolor\":\"rgb(36,36,36)\",\"ticks\":\"outside\"},\"colorscale\":[[0.0,\"#440154\"],[0.1111111111111111,\"#482878\"],[0.2222222222222222,\"#3e4989\"],[0.3333333333333333,\"#31688e\"],[0.4444444444444444,\"#26828e\"],[0.5555555555555556,\"#1f9e89\"],[0.6666666666666666,\"#35b779\"],[0.7777777777777778,\"#6ece58\"],[0.8888888888888888,\"#b5de2b\"],[1.0,\"#fde725\"]],\"type\":\"heatmapgl\"}],\"histogram\":[{\"marker\":{\"line\":{\"color\":\"white\",\"width\":0.6}},\"type\":\"histogram\"}],\"histogram2d\":[{\"colorbar\":{\"outlinewidth\":1,\"tickcolor\":\"rgb(36,36,36)\",\"ticks\":\"outside\"},\"colorscale\":[[0.0,\"#440154\"],[0.1111111111111111,\"#482878\"],[0.2222222222222222,\"#3e4989\"],[0.3333333333333333,\"#31688e\"],[0.4444444444444444,\"#26828e\"],[0.5555555555555556,\"#1f9e89\"],[0.6666666666666666,\"#35b779\"],[0.7777777777777778,\"#6ece58\"],[0.8888888888888888,\"#b5de2b\"],[1.0,\"#fde725\"]],\"type\":\"histogram2d\"}],\"histogram2dcontour\":[{\"colorbar\":{\"outlinewidth\":1,\"tickcolor\":\"rgb(36,36,36)\",\"ticks\":\"outside\"},\"colorscale\":[[0.0,\"#440154\"],[0.1111111111111111,\"#482878\"],[0.2222222222222222,\"#3e4989\"],[0.3333333333333333,\"#31688e\"],[0.4444444444444444,\"#26828e\"],[0.5555555555555556,\"#1f9e89\"],[0.6666666666666666,\"#35b779\"],[0.7777777777777778,\"#6ece58\"],[0.8888888888888888,\"#b5de2b\"],[1.0,\"#fde725\"]],\"type\":\"histogram2dcontour\"}],\"mesh3d\":[{\"colorbar\":{\"outlinewidth\":1,\"tickcolor\":\"rgb(36,36,36)\",\"ticks\":\"outside\"},\"type\":\"mesh3d\"}],\"parcoords\":[{\"line\":{\"colorbar\":{\"outlinewidth\":1,\"tickcolor\":\"rgb(36,36,36)\",\"ticks\":\"outside\"}},\"type\":\"parcoords\"}],\"pie\":[{\"automargin\":true,\"type\":\"pie\"}],\"scatter\":[{\"marker\":{\"colorbar\":{\"outlinewidth\":1,\"tickcolor\":\"rgb(36,36,36)\",\"ticks\":\"outside\"}},\"type\":\"scatter\"}],\"scatter3d\":[{\"line\":{\"colorbar\":{\"outlinewidth\":1,\"tickcolor\":\"rgb(36,36,36)\",\"ticks\":\"outside\"}},\"marker\":{\"colorbar\":{\"outlinewidth\":1,\"tickcolor\":\"rgb(36,36,36)\",\"ticks\":\"outside\"}},\"type\":\"scatter3d\"}],\"scattercarpet\":[{\"marker\":{\"colorbar\":{\"outlinewidth\":1,\"tickcolor\":\"rgb(36,36,36)\",\"ticks\":\"outside\"}},\"type\":\"scattercarpet\"}],\"scattergeo\":[{\"marker\":{\"colorbar\":{\"outlinewidth\":1,\"tickcolor\":\"rgb(36,36,36)\",\"ticks\":\"outside\"}},\"type\":\"scattergeo\"}],\"scattergl\":[{\"marker\":{\"colorbar\":{\"outlinewidth\":1,\"tickcolor\":\"rgb(36,36,36)\",\"ticks\":\"outside\"}},\"type\":\"scattergl\"}],\"scattermapbox\":[{\"marker\":{\"colorbar\":{\"outlinewidth\":1,\"tickcolor\":\"rgb(36,36,36)\",\"ticks\":\"outside\"}},\"type\":\"scattermapbox\"}],\"scatterpolar\":[{\"marker\":{\"colorbar\":{\"outlinewidth\":1,\"tickcolor\":\"rgb(36,36,36)\",\"ticks\":\"outside\"}},\"type\":\"scatterpolar\"}],\"scatterpolargl\":[{\"marker\":{\"colorbar\":{\"outlinewidth\":1,\"tickcolor\":\"rgb(36,36,36)\",\"ticks\":\"outside\"}},\"type\":\"scatterpolargl\"}],\"scatterternary\":[{\"marker\":{\"colorbar\":{\"outlinewidth\":1,\"tickcolor\":\"rgb(36,36,36)\",\"ticks\":\"outside\"}},\"type\":\"scatterternary\"}],\"surface\":[{\"colorbar\":{\"outlinewidth\":1,\"tickcolor\":\"rgb(36,36,36)\",\"ticks\":\"outside\"},\"colorscale\":[[0.0,\"#440154\"],[0.1111111111111111,\"#482878\"],[0.2222222222222222,\"#3e4989\"],[0.3333333333333333,\"#31688e\"],[0.4444444444444444,\"#26828e\"],[0.5555555555555556,\"#1f9e89\"],[0.6666666666666666,\"#35b779\"],[0.7777777777777778,\"#6ece58\"],[0.8888888888888888,\"#b5de2b\"],[1.0,\"#fde725\"]],\"type\":\"surface\"}],\"table\":[{\"cells\":{\"fill\":{\"color\":\"rgb(237,237,237)\"},\"line\":{\"color\":\"white\"}},\"header\":{\"fill\":{\"color\":\"rgb(217,217,217)\"},\"line\":{\"color\":\"white\"}},\"type\":\"table\"}]},\"layout\":{\"annotationdefaults\":{\"arrowhead\":0,\"arrowwidth\":1},\"autotypenumbers\":\"strict\",\"coloraxis\":{\"colorbar\":{\"outlinewidth\":1,\"tickcolor\":\"rgb(36,36,36)\",\"ticks\":\"outside\"}},\"colorscale\":{\"diverging\":[[0.0,\"rgb(103,0,31)\"],[0.1,\"rgb(178,24,43)\"],[0.2,\"rgb(214,96,77)\"],[0.3,\"rgb(244,165,130)\"],[0.4,\"rgb(253,219,199)\"],[0.5,\"rgb(247,247,247)\"],[0.6,\"rgb(209,229,240)\"],[0.7,\"rgb(146,197,222)\"],[0.8,\"rgb(67,147,195)\"],[0.9,\"rgb(33,102,172)\"],[1.0,\"rgb(5,48,97)\"]],\"sequential\":[[0.0,\"#440154\"],[0.1111111111111111,\"#482878\"],[0.2222222222222222,\"#3e4989\"],[0.3333333333333333,\"#31688e\"],[0.4444444444444444,\"#26828e\"],[0.5555555555555556,\"#1f9e89\"],[0.6666666666666666,\"#35b779\"],[0.7777777777777778,\"#6ece58\"],[0.8888888888888888,\"#b5de2b\"],[1.0,\"#fde725\"]],\"sequentialminus\":[[0.0,\"#440154\"],[0.1111111111111111,\"#482878\"],[0.2222222222222222,\"#3e4989\"],[0.3333333333333333,\"#31688e\"],[0.4444444444444444,\"#26828e\"],[0.5555555555555556,\"#1f9e89\"],[0.6666666666666666,\"#35b779\"],[0.7777777777777778,\"#6ece58\"],[0.8888888888888888,\"#b5de2b\"],[1.0,\"#fde725\"]]},\"colorway\":[\"#1F77B4\",\"#FF7F0E\",\"#2CA02C\",\"#D62728\",\"#9467BD\",\"#8C564B\",\"#E377C2\",\"#7F7F7F\",\"#BCBD22\",\"#17BECF\"],\"font\":{\"color\":\"rgb(36,36,36)\"},\"geo\":{\"bgcolor\":\"white\",\"lakecolor\":\"white\",\"landcolor\":\"white\",\"showlakes\":true,\"showland\":true,\"subunitcolor\":\"white\"},\"hoverlabel\":{\"align\":\"left\"},\"hovermode\":\"closest\",\"mapbox\":{\"style\":\"light\"},\"paper_bgcolor\":\"white\",\"plot_bgcolor\":\"white\",\"polar\":{\"angularaxis\":{\"gridcolor\":\"rgb(232,232,232)\",\"linecolor\":\"rgb(36,36,36)\",\"showgrid\":false,\"showline\":true,\"ticks\":\"outside\"},\"bgcolor\":\"white\",\"radialaxis\":{\"gridcolor\":\"rgb(232,232,232)\",\"linecolor\":\"rgb(36,36,36)\",\"showgrid\":false,\"showline\":true,\"ticks\":\"outside\"}},\"scene\":{\"xaxis\":{\"backgroundcolor\":\"white\",\"gridcolor\":\"rgb(232,232,232)\",\"gridwidth\":2,\"linecolor\":\"rgb(36,36,36)\",\"showbackground\":true,\"showgrid\":false,\"showline\":true,\"ticks\":\"outside\",\"zeroline\":false,\"zerolinecolor\":\"rgb(36,36,36)\"},\"yaxis\":{\"backgroundcolor\":\"white\",\"gridcolor\":\"rgb(232,232,232)\",\"gridwidth\":2,\"linecolor\":\"rgb(36,36,36)\",\"showbackground\":true,\"showgrid\":false,\"showline\":true,\"ticks\":\"outside\",\"zeroline\":false,\"zerolinecolor\":\"rgb(36,36,36)\"},\"zaxis\":{\"backgroundcolor\":\"white\",\"gridcolor\":\"rgb(232,232,232)\",\"gridwidth\":2,\"linecolor\":\"rgb(36,36,36)\",\"showbackground\":true,\"showgrid\":false,\"showline\":true,\"ticks\":\"outside\",\"zeroline\":false,\"zerolinecolor\":\"rgb(36,36,36)\"}},\"shapedefaults\":{\"fillcolor\":\"black\",\"line\":{\"width\":0},\"opacity\":0.3},\"ternary\":{\"aaxis\":{\"gridcolor\":\"rgb(232,232,232)\",\"linecolor\":\"rgb(36,36,36)\",\"showgrid\":false,\"showline\":true,\"ticks\":\"outside\"},\"baxis\":{\"gridcolor\":\"rgb(232,232,232)\",\"linecolor\":\"rgb(36,36,36)\",\"showgrid\":false,\"showline\":true,\"ticks\":\"outside\"},\"bgcolor\":\"white\",\"caxis\":{\"gridcolor\":\"rgb(232,232,232)\",\"linecolor\":\"rgb(36,36,36)\",\"showgrid\":false,\"showline\":true,\"ticks\":\"outside\"}},\"title\":{\"x\":0.05},\"xaxis\":{\"automargin\":true,\"gridcolor\":\"rgb(232,232,232)\",\"linecolor\":\"rgb(36,36,36)\",\"showgrid\":false,\"showline\":true,\"ticks\":\"outside\",\"title\":{\"standoff\":15},\"zeroline\":false,\"zerolinecolor\":\"rgb(36,36,36)\"},\"yaxis\":{\"automargin\":true,\"gridcolor\":\"rgb(232,232,232)\",\"linecolor\":\"rgb(36,36,36)\",\"showgrid\":false,\"showline\":true,\"ticks\":\"outside\",\"title\":{\"standoff\":15},\"zeroline\":false,\"zerolinecolor\":\"rgb(36,36,36)\"}}},\"title\":{\"text\":\"Performance of the Selected Stocks\"},\"xaxis\":{\"anchor\":\"y\",\"domain\":[0.0,1.0],\"title\":{\"text\":\"Date\"}},\"yaxis\":{\"anchor\":\"x\",\"domain\":[0.0,1.0],\"tickprefix\":\"$\",\"title\":{\"text\":\"Price\"}}},                        {\"responsive\": true}                    ).then(function(){\n",
       "                            \n",
       "var gd = document.getElementById('de924931-fe15-4d63-9534-7fd543b2c73d');\n",
       "var x = new MutationObserver(function (mutations, observer) {{\n",
       "        var display = window.getComputedStyle(gd).display;\n",
       "        if (!display || display === 'none') {{\n",
       "            console.log([gd, 'removed!']);\n",
       "            Plotly.purge(gd);\n",
       "            observer.disconnect();\n",
       "        }}\n",
       "}});\n",
       "\n",
       "// Listen for the removal of the full notebook cells\n",
       "var notebookContainer = gd.closest('#notebook-container');\n",
       "if (notebookContainer) {{\n",
       "    x.observe(notebookContainer, {childList: true});\n",
       "}}\n",
       "\n",
       "// Listen for the clearing of the current output cell\n",
       "var outputEl = gd.closest('.output');\n",
       "if (outputEl) {{\n",
       "    x.observe(outputEl, {childList: true});\n",
       "}}\n",
       "\n",
       "                        })                };                });            </script>        </div>"
      ]
     },
     "metadata": {},
     "output_type": "display_data"
    }
   ],
   "source": [
    "pd.options.plotting.backend = \"plotly\"\n",
    "print(df)\n",
    "#         df = pd.DataFrame(dict(a=[1,3,2], b=[3,2,1]))\n",
    "fig = df.plot(title=\"Performance of the Selected Stocks\", template=\"simple_white\",\n",
    "              labels=dict(index=\"time\", value=\"Price\", variable=\"option\"))\n",
    "fig.update_yaxes(tickprefix=\"$\")\n",
    "fig.show()"
   ]
  },
  {
   "cell_type": "code",
   "execution_count": 63,
   "id": "39257d2e",
   "metadata": {},
   "outputs": [],
   "source": [
    "ExpectedAnnualReturn = portfolio_performance[0]\n",
    "AnnualVolatility= portfolio_performance[1]\n",
    "SharpeRatio= portfolio_performance[2]"
   ]
  },
  {
   "cell_type": "code",
   "execution_count": 69,
   "id": "d0b746af",
   "metadata": {},
   "outputs": [
    {
     "data": {
      "text/plain": [
       "(0.6857286696461151, 0.434863663388239, 1.5308905427027222)"
      ]
     },
     "execution_count": 69,
     "metadata": {},
     "output_type": "execute_result"
    }
   ],
   "source": [
    "portfolio_performance"
   ]
  },
  {
   "cell_type": "code",
   "execution_count": 70,
   "id": "6fea70a4",
   "metadata": {},
   "outputs": [
    {
     "data": {
      "text/plain": [
       "'1.53'"
      ]
     },
     "execution_count": 70,
     "metadata": {},
     "output_type": "execute_result"
    }
   ],
   "source": [
    "str(round(SharpeRatio,2))"
   ]
  },
  {
   "cell_type": "code",
   "execution_count": 2,
   "id": "8160120f",
   "metadata": {},
   "outputs": [
    {
     "name": "stdout",
     "output_type": "stream",
     "text": [
      "Dash is running on http://127.0.0.1:8050/\n",
      "\n",
      "Dash is running on http://127.0.0.1:8050/\n",
      "\n",
      " * Serving Flask app \"__main__\" (lazy loading)\n",
      " * Environment: production\n",
      "\u001b[31m   WARNING: This is a development server. Do not use it in a production deployment.\u001b[0m\n",
      "\u001b[2m   Use a production WSGI server instead.\u001b[0m\n",
      " * Debug mode: off\n"
     ]
    },
    {
     "name": "stderr",
     "output_type": "stream",
     "text": [
      " * Running on http://127.0.0.1:8050/ (Press CTRL+C to quit)\n",
      "127.0.0.1 - - [16/Aug/2021 15:09:54] \"\u001b[37mGET / HTTP/1.1\u001b[0m\" 200 -\n",
      "127.0.0.1 - - [16/Aug/2021 15:09:54] \"\u001b[36mGET /assets/artificialcodernew.png HTTP/1.1\u001b[0m\" 304 -\n",
      "127.0.0.1 - - [16/Aug/2021 15:09:54] \"\u001b[37mGET /assets/styles.css?m=1628983710.2205255 HTTP/1.1\u001b[0m\" 200 -\n",
      "127.0.0.1 - - [16/Aug/2021 15:09:54] \"\u001b[37mGET /assets/s1.css?m=1629085816.2559276 HTTP/1.1\u001b[0m\" 200 -\n",
      "127.0.0.1 - - [16/Aug/2021 15:09:54] \"\u001b[36mGET /assets/resizing_script.js?m=1628983710.2203567 HTTP/1.1\u001b[0m\" 304 -\n",
      "127.0.0.1 - - [16/Aug/2021 15:09:54] \"\u001b[37mGET /_dash-dependencies HTTP/1.1\u001b[0m\" 200 -\n",
      "127.0.0.1 - - [16/Aug/2021 15:09:54] \"\u001b[37mGET /_dash-layout HTTP/1.1\u001b[0m\" 200 -\n",
      "127.0.0.1 - - [16/Aug/2021 15:09:55] \"\u001b[37mGET /apple-touch-icon-precomposed.png HTTP/1.1\u001b[0m\" 200 -\n",
      "127.0.0.1 - - [16/Aug/2021 15:09:55] \"\u001b[37mGET /apple-touch-icon.png HTTP/1.1\u001b[0m\" 200 -\n"
     ]
    },
    {
     "name": "stdout",
     "output_type": "stream",
     "text": [
      "0 0\n",
      "AMD, NFLX, AAPL, GOOG, SPY 15000 2020-08-16 2021-08-16\n",
      "Expected annual return: 90.3%\n",
      "Annual volatility: 26.2%\n",
      "Sharpe Ratio: 3.37\n",
      "Expected annual return: 90.3%\n",
      "Annual volatility: 26.2%\n",
      "Sharpe Ratio: 3.37\n"
     ]
    },
    {
     "name": "stderr",
     "output_type": "stream",
     "text": [
      "127.0.0.1 - - [16/Aug/2021 15:10:01] \"\u001b[37mPOST /_dash-update-component HTTP/1.1\u001b[0m\" 200 -\n"
     ]
    }
   ],
   "source": [
    "#Import the python libraries\n",
    "from pypfopt.efficient_frontier import EfficientFrontier\n",
    "from pypfopt import risk_models\n",
    "from pypfopt import expected_returns\n",
    "from pypfopt import plotting\n",
    "from pypfopt.discrete_allocation import DiscreteAllocation, get_latest_prices\n",
    "import pickle\n",
    "import copy\n",
    "from datetime import date\n",
    "import pathlib\n",
    "import dash\n",
    "import math\n",
    "import datetime as dt\n",
    "import pandas as pd\n",
    "from dash.dependencies import Input, Output, State #ClientsideFunction\n",
    "import dash_core_components as dcc\n",
    "import dash_html_components as html\n",
    "from pandas_datareader import data as web\n",
    "import pandas as pd\n",
    "import numpy as np\n",
    "from datetime import datetime\n",
    "import matplotlib.pyplot as plt\n",
    "plt.style.use('fivethirtyeight')\n",
    "import dash\n",
    "from dash.dependencies import Input, Output\n",
    "import dash_core_components as dcc\n",
    "import dash_html_components as html\n",
    "import numpy as np\n",
    "from datetime import date\n",
    "import plotly.express as px\n",
    "import plotly.graph_objects as go\n",
    "import random\n",
    "import plotly\n",
    "\n",
    "app = dash.Dash(__name__)\n",
    "app.title = \"Portfolio Optimization | Sheel Saket\"\n",
    "\n",
    "total_clicks = 0\n",
    "\n",
    "# layout = dict(\n",
    "#     autosize=True,\n",
    "#     automargin=True,\n",
    "#     margin=dict(l=30, r=30, b=20, t=40),\n",
    "#     hovermode=\"closest\",\n",
    "#     plot_bgcolor=\"#F9F9F9\",\n",
    "#     paper_bgcolor=\"#F9F9F9\",\n",
    "#     legend=dict(font=dict(size=10), orientation=\"h\"),\n",
    "#     title=\"Satellite Overview\",\n",
    "# #     mapbox=dict(\n",
    "# #         accesstoken=mapbox_access_token,\n",
    "# #         style=\"light\",\n",
    "# #         center=dict(lon=-78.05, lat=42.54),\n",
    "# #         zoom=7,\n",
    "# #     ),\n",
    "# )\n",
    "\n",
    "app.layout = html.Div(\n",
    "    [\n",
    "        #Header designing:\n",
    "        \n",
    "        dcc.Store(id=\"aggregate_data\"),\n",
    "        # empty Div to trigger javascript file for graph resizing\n",
    "        html.Div(id=\"output-clientside\"),\n",
    "        html.Div(\n",
    "            [\n",
    "                html.Div(\n",
    "                    [ html.A(\n",
    "                        html.Img(\n",
    "                            src=app.get_asset_url(\"artificialcodernew.png\"),\n",
    "                            id=\"plotly-image\",\n",
    "                            style={\n",
    "                                \"height\": \"60px\",\n",
    "                                \"width\": \"auto\",\n",
    "                                \"margin-bottom\": \"25px\",\n",
    "                            },\n",
    "                        ), href=\"https://www.youtube.com/channel/UCAzQQ9z1v-5JZAhBVmHTh_A/featured\")\n",
    "                    ],\n",
    "                    className=\"one-third column\",\n",
    "                ),\n",
    "                html.Div(\n",
    "                    [\n",
    "                        html.Div(\n",
    "                            [\n",
    "                                html.H3(\n",
    "                                    \"Portfolio Optimization\",\n",
    "                                    style={\"margin-bottom\": \"0px\"},\n",
    "                                ),\n",
    "                                html.H5(\n",
    "                                    \"Based on Historical Data Optimize your investments\", style={\"margin-top\": \"0px\"}\n",
    "                                ),\n",
    "                            ]\n",
    "                        )\n",
    "                    ],\n",
    "                    className=\"one-half column\",\n",
    "                    id=\"title\",\n",
    "                ),\n",
    "                html.Div(\n",
    "                    [\n",
    "                        html.A(\n",
    "                            html.Button(\"Sheel Saket\", id=\"sheel-linkedin\"),\n",
    "                            href=\"https://www.linkedin.com/in/sheelsaket/\",\n",
    "                        )\n",
    "                    ],\n",
    "                    className=\"one-third column\",\n",
    "                    id=\"button\",\n",
    "                ),\n",
    "            ],\n",
    "            id=\"header\",\n",
    "            className=\"row flex-display\",\n",
    "            style={\"margin-bottom\": \"25px\"},\n",
    "        ),\n",
    "        \n",
    "        #Input box\n",
    "        html.Div(\n",
    "            [\n",
    "                html.Div(\n",
    "                    [\n",
    "                        \n",
    "                        html.P(\n",
    "                            \"Chose the Time Period to base the optimization\",\n",
    "                            className=\"date-range\",\n",
    "                        ),\n",
    "                        dcc.DatePickerRange(\n",
    "                            id='my-date-picker-range',\n",
    "                            start_date = date.today().replace(year = date.today().year -1),\n",
    "                            end_date=date.today(),\n",
    "                            display_format='MMM Do, YY',\n",
    "                            start_date_placeholder_text='MMM Do, YY'\n",
    "                        ),\n",
    "                        \n",
    "                        html.P(\n",
    "                            \"\\n\\n\\n\\nEnter the Ticker Symbols of Stocks you want to purchase:\",\n",
    "                            className=\"ticker-labels\",\n",
    "                        ),\n",
    "                        dcc.Textarea(\n",
    "                        id='textarea-state-example',\n",
    "                        value='AMD, NFLX, AAPL, GOOG, SPY',\n",
    "                        style={'width': '100%', 'height': 100},\n",
    "                        ),\n",
    "                        \n",
    "                        html.P(\n",
    "                            \"\\n\\nEnter the total Amount you want to invest:\\n\\n\",\n",
    "                            className=\"invest-amount\",\n",
    "                        ),\n",
    "                        \n",
    "                        html.Div([\n",
    "                        dcc.Textarea(\n",
    "                        id='investment',\n",
    "                        value='$15000',\n",
    "                        style={'width': '100%', 'height': 25},\n",
    "                        ),\n",
    "                            html.Button('Submit', id='textarea-state-example-button', n_clicks=0),\n",
    "                            html.Div(id='textarea-state-example-output', style={'whiteSpace': 'pre-line'})\n",
    "                        ]),\n",
    "                        \n",
    "                    \n",
    "                    ],\n",
    "                    className=\"pretty_container four columns\",\n",
    "                    id=\"cross-filter-options\",\n",
    "                ),\n",
    "                \n",
    "                #output tiles on top\n",
    "                html.Div(\n",
    "                    [\n",
    "                        html.Div(\n",
    "                            [\n",
    "                                html.Div(\n",
    "                                    [html.H6(id=\"well_text\"), html.P(\"Expected Annual Returns\")],\n",
    "                                    id=\"wells\",\n",
    "                                    className=\"mini_container\",\n",
    "                                ),\n",
    "                                html.Div(\n",
    "                                    [html.H6(id=\"gasText\"), html.P(\"Annual volatility\")],\n",
    "                                    id=\"gas\",\n",
    "                                    className=\"mini_container\",\n",
    "                                ),\n",
    "                                html.Div(\n",
    "                                    [html.H6(id=\"oilText\"), html.P(\"Sharpe Ratio\")],\n",
    "                                    id=\"oil\",\n",
    "                                    className=\"mini_container\",\n",
    "                                ),\n",
    "                                html.Div(\n",
    "                                    [html.H6(id=\"waterText\"), html.P(\"Sentiment\")],\n",
    "                                    id=\"water\",\n",
    "                                    className=\"mini_container\",\n",
    "                                ),\n",
    "                            ],\n",
    "                            id=\"info-container\",\n",
    "                            className=\"row container-display\",\n",
    "                        ),\n",
    "                        html.Div(\n",
    "                            [dcc.Graph(id=\"hor_graph\")],\n",
    "                            id=\"countGraphContainer\",\n",
    "                            className=\"pretty_container\",\n",
    "                        ),\n",
    "                    ],\n",
    "                    id=\"right-column\",\n",
    "                    className=\"eight columns\",\n",
    "                ),\n",
    "            ],\n",
    "            className=\"row flex-display\",\n",
    "        ),\n",
    "        \n",
    "        \n",
    "        #Output Graphs\n",
    "        \n",
    "        html.Div(\n",
    "            [\n",
    "                html.Div(\n",
    "                    [dcc.Graph(id=\"main_graph\")],\n",
    "                    className=\"pretty_container seven columns\",\n",
    "                ),\n",
    "                html.Div(\n",
    "                    [dcc.Graph(id=\"individual_graph\")],\n",
    "                    className=\"pretty_container five columns\",\n",
    "                ),\n",
    "            ],\n",
    "            className=\"row flex-display\",\n",
    "        ),\n",
    "#         html.Div(\n",
    "#             [\n",
    "#                 html.Div(\n",
    "#                     [dcc.Graph(id=\"pie_graph\")],\n",
    "#                     className=\"pretty_container seven columns\",\n",
    "#                 ),\n",
    "#                 html.Div(\n",
    "#                     [dcc.Graph(id=\"aggregate_graph\")],\n",
    "#                     className=\"pretty_container five columns\",\n",
    "#                 ),\n",
    "#             ],\n",
    "#             className=\"row flex-display\",\n",
    "#         ),\n",
    "    ],\n",
    "    id=\"mainContainer\",\n",
    "    style={\"display\": \"flex\", \"flex-direction\": \"column\"},\n",
    ")\n",
    "\n",
    "\n",
    "#helper functions\n",
    "\n",
    "def remove_negative_cleaned_wts(cleaned_weights):\n",
    "    for key in cleaned_weights.keys():\n",
    "        if cleaned_weights[key]<0:\n",
    "            cleaned_weights[key] =0\n",
    "    return cleaned_weights\n",
    "\n",
    "def run_optimization_engine(assets, stockStartDate, stockEndDate, investment_amount):\n",
    "    weights = np.array([0.25]*len(assets.split(\", \")))\n",
    "    # Create a dataframe to store the adjusted close price of the stocks\n",
    "    df = pd.DataFrame()\n",
    "\n",
    "    # Store the adjusted close price of the sock into the df\n",
    "    for stock in assets.split(', '):\n",
    "        df[stock] = web.DataReader(stock,data_source='yahoo',start=stockStartDate,end=stockEndDate)['Adj Close']\n",
    "\n",
    "    returns = df.pct_change()\n",
    "    # Create and show the annualized covariance matrix\n",
    "    cov_matrix_annual = returns.cov()*252\n",
    "    # Calculate the portfolio variance\n",
    "    port_variance = np.dot(weights.T,np.dot(cov_matrix_annual,weights))\n",
    "    # Calculate the portfolio volatility aka standard deviation\n",
    "    port_volatility = np.sqrt(port_variance)\n",
    "    # Calculate the annual portfolio return\n",
    "    portfolio_simple_annual_return = np.sum(returns.mean()*weights)*252\n",
    "\n",
    "    # Portfolio Optimization\n",
    "\n",
    "    # Calculate the expected returns and the annualized sample covariance matrix of asset returns\n",
    "    mu = expected_returns.mean_historical_return(df)\n",
    "    S = risk_models.sample_cov(df)\n",
    "\n",
    "    # Optimize for maximum sharpe ratio\n",
    "    ef = EfficientFrontier(mu,S,weight_bounds=(None,None))\n",
    "    ef.add_constraint(lambda w: sum(w) == 1)\n",
    "    weights = ef.max_sharpe()\n",
    "    cleaned_weights = ef.clean_weights() \n",
    "    \n",
    "    ef.portfolio_performance(verbose=True)\n",
    "\n",
    "    cleaned_weights = remove_negative_cleaned_wts(cleaned_weights)\n",
    "#     print(cleaned_weights)\n",
    "    \n",
    "    # Get the discrete allocation of each share per stock\n",
    "    \n",
    "    latest_prices = get_latest_prices(df)\n",
    "#     print(latest_prices)\n",
    "    weights = cleaned_weights\n",
    "    da = DiscreteAllocation(weights,latest_prices,total_portfolio_value = investment_amount)\n",
    "\n",
    "    allocation,leftover = da.lp_portfolio()\n",
    "#     print('Discrete allocation: ',allocation)\n",
    "#     print('Funds remaining: ${:.2f}'.format(leftover))\n",
    "    \n",
    "    return df, cleaned_weights, ef.portfolio_performance(verbose=True), allocation, leftover, latest_prices\n",
    "\n",
    "\n",
    "def get_sentiments(ann_ret):\n",
    "    if ann_ret >=100:\n",
    "        return \"Excellent\"\n",
    "    elif (ann_ret >=50) & (ann_ret <100):\n",
    "        return \"Very Good\"\n",
    "    elif (ann_ret >=30) & ((ann_ret <50)):\n",
    "        return \"Good\"\n",
    "    elif (ann_ret >=10) & ((ann_ret <30)):\n",
    "        return \"Average\"\n",
    "    elif (ann_ret >=0) & ((ann_ret <10)):\n",
    "        return \"Below Average\"\n",
    "    elif (ann_ret <0):\n",
    "        return \"poor\"\n",
    "\n",
    "\n",
    "\n",
    "\n",
    "#design callbacks\n",
    "\n",
    "@app.callback(\n",
    "    [Output(\"main_graph\", \"figure\"),\n",
    "     Output(\"hor_graph\", \"figure\"),\n",
    "     Output(\"individual_graph\", \"figure\"),\n",
    "     Output(\"well_text\", \"children\"),\n",
    "     Output(\"gasText\", \"children\"),\n",
    "     Output(\"oilText\", \"children\"),\n",
    "     Output(\"waterText\", \"children\")\n",
    "    ],\n",
    "    [\n",
    "        Input(\"textarea-state-example\", \"value\"),\n",
    "        Input('my-date-picker-range', 'start_date'),\n",
    "        Input('my-date-picker-range', 'end_date'),\n",
    "        Input(\"investment\", \"value\"),\n",
    "        Input('textarea-state-example-button', 'n_clicks')\n",
    "    ]\n",
    "#     ,\n",
    "    \n",
    "#     [State(\"lock_selector\", \"value\"), State(\"main_graph\", \"relayoutData\")],\n",
    ")\n",
    "\n",
    "\n",
    "def generate_outputs(\n",
    "    assets, stockStartDate, stockEndDate, investment_amount, n_clicks\n",
    "):\n",
    "    cols = plotly.colors.DEFAULT_PLOTLY_COLORS\n",
    "    i = 0\n",
    "    colors = {}\n",
    "    for asset in assets.split(\", \"):\n",
    "        colors.update({asset:cols[i]})\n",
    "        i = i+ 1\n",
    "\n",
    "    \n",
    "    global total_clicks\n",
    "    print(n_clicks, total_clicks)\n",
    "    if n_clicks is None:\n",
    "        raise PreventUpdate\n",
    "    \n",
    "    elif n_clicks >= total_clicks:\n",
    "        try:\n",
    "            investment_amount = int(investment_amount.replace(\"$\", \"\"))\n",
    "            print(assets, investment_amount, stockStartDate, stockEndDate)\n",
    "            df_func, cleaned_weights, portfolio_performance, allocation, leftover, latest_prices = run_optimization_engine(assets, stockStartDate, stockEndDate, investment_amount)\n",
    "\n",
    "#             pd.options.plotting.backend = \"plotly\"\n",
    "#             print(df_func)\n",
    "    #         df = pd.DataFrame(dict(a=[1,3,2], b=[3,2,1]))\n",
    "#             fig = df_func.plot(title=\"Performance of the Selected Stocks\", template=\"simple_white\", \n",
    "#                           labels=dict(index=\"time\", value=\"Price\", variable=\"option\"))\n",
    "#             fig.update_yaxes(tickprefix=\"$\")\n",
    "# #             fig.show()\n",
    "            \n",
    "            fig = go.Figure()\n",
    "            for key in df_func.columns:\n",
    "                fig.add_trace(go.Scatter(x=df_func.index, y=df_func[key],\n",
    "                    mode='lines',\n",
    "                    name=key, marker=dict(\n",
    "                        color=str(colors[key]),\n",
    "            #                         line=dict(color='rgba(246, 78, 139, 1.0)', width=3)\n",
    "                    )),\n",
    "                    )\n",
    "            fig.update_layout(title=\"Performance of the Selected Stocks\")\n",
    "\n",
    "            \n",
    "            invested = {}\n",
    "            for key in allocation.keys():\n",
    "                invested.update({key: round(allocation[key]*latest_prices[key],2)})\n",
    "\n",
    "            fig2 = go.Figure()\n",
    "            for key in invested.keys():\n",
    "                fig2.add_trace(go.Bar(\n",
    "                    y=[''],\n",
    "                    x=[invested[key]],\n",
    "                    name=str(key),\n",
    "                    orientation='h',\n",
    "                    marker=dict(\n",
    "                        color=str(colors[key]),\n",
    "#                         line=dict(color='rgba(246, 78, 139, 1.0)', width=3)\n",
    "                    )\n",
    "                ))\n",
    "            fig2.update_layout(barmode='stack', title='This is how you should split your investment')\n",
    "\n",
    "            allo_df = pd.Series(allocation).reset_index().rename(columns = {'index': 'stocks', 0:'shares_num'})\n",
    "            \n",
    "            \n",
    "            fig3 = go.Figure()\n",
    "            for index, key in enumerate(allo_df.stocks):\n",
    "\n",
    "                fig3.add_trace(go.Bar(x=[key], y=[allo_df['shares_num'][index]],\n",
    "                    name=key, marker=dict(\n",
    "                        color=str(colors[key]),\n",
    "            #                         line=dict(color='rgba(246, 78, 139, 1.0)', width=3)\n",
    "                    )),\n",
    "                    )\n",
    "            fig3.update_layout(title=\"No of Shares to Purchase\")\n",
    "\n",
    "\n",
    "\n",
    "            total_clicks = total_clicks + 1\n",
    "        \n",
    "        except:\n",
    "            pass\n",
    "        \n",
    "        \n",
    "        return fig, fig2, fig3, str(round(portfolio_performance[0]*100,2)) + \"%\", str(round(portfolio_performance[1]*100,2)) + \"%\", str(round(portfolio_performance[2],2)), get_sentiments(portfolio_performance[0]*100)\n",
    "\n",
    "\n",
    "if __name__ == '__main__':\n",
    "    app.run_server(debug=False)"
   ]
  },
  {
   "cell_type": "code",
   "execution_count": null,
   "id": "1ba05898",
   "metadata": {},
   "outputs": [],
   "source": []
  }
 ],
 "metadata": {
  "kernelspec": {
   "display_name": "port_opt_dash",
   "language": "python",
   "name": "port_opt_dash"
  },
  "language_info": {
   "codemirror_mode": {
    "name": "ipython",
    "version": 3
   },
   "file_extension": ".py",
   "mimetype": "text/x-python",
   "name": "python",
   "nbconvert_exporter": "python",
   "pygments_lexer": "ipython3",
   "version": "3.6.13"
  }
 },
 "nbformat": 4,
 "nbformat_minor": 5
}
